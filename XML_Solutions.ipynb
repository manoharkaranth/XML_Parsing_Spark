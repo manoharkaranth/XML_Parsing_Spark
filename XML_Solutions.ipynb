{
 "cells": [
  {
   "cell_type": "markdown",
   "metadata": {},
   "source": [
    "<font size='4'><b>Notebook content:</b> An end-to-end solution to the Data Incubator's spark mini-project.</font>"
   ]
  },
  {
   "cell_type": "markdown",
   "metadata": {},
   "source": [
    "</br></br>"
   ]
  },
  {
   "cell_type": "code",
   "execution_count": 0,
   "metadata": {
    "application/vnd.databricks.v1+cell": {
     "inputWidgets": {},
     "nuid": "bb332381-a962-4545-ae23-8870ebc96b59",
     "showTitle": false,
     "title": ""
    }
   },
   "outputs": [
    {
     "data": {
      "text/html": [
       "<style scoped>\n",
       "  .ansiout {\n",
       "    display: block;\n",
       "    unicode-bidi: embed;\n",
       "    white-space: pre-wrap;\n",
       "    word-wrap: break-word;\n",
       "    word-break: break-all;\n",
       "    font-family: \"Source Code Pro\", \"Menlo\", monospace;;\n",
       "    font-size: 13px;\n",
       "    color: #555;\n",
       "    margin-left: 4px;\n",
       "    line-height: 19px;\n",
       "  }\n",
       "</style>\n",
       "<div class=\"ansiout\"></div>"
      ]
     },
     "metadata": {
      "application/vnd.databricks.v1+output": {
       "addedWidgets": {},
       "arguments": {},
       "data": "<div class=\"ansiout\"></div>",
       "datasetInfos": [],
       "metadata": {},
       "removedWidgets": [],
       "type": "html"
      }
     },
     "output_type": "display_data"
    }
   ],
   "source": [
    "# Importing libraries.\n",
    "import datetime as dt\n",
    "import numpy as np\n",
    "import pyspark\n",
    "import re\n",
    "from collections import namedtuple\n",
    "from lxml import etree\n",
    "\n",
    "from pyspark import SparkContext, SparkConf\n",
    "from pyspark.ml import Pipeline\n",
    "from pyspark.ml.classification import LogisticRegression\n",
    "from pyspark.ml.feature import Word2Vec, HashingTF, Tokenizer, StopWordsRemover, CountVectorizer, IDF, RegexTokenizer\n",
    "from pyspark.ml.tuning import CrossValidator, ParamGridBuilder\n",
    "from pyspark.ml.evaluation import BinaryClassificationEvaluator\n",
    "\n",
    "from pyspark.sql import functions as F\n",
    "from pyspark.sql import SQLContext\n",
    "from pyspark.sql.window import Window "
   ]
  },
  {
   "cell_type": "code",
   "execution_count": 0,
   "metadata": {
    "application/vnd.databricks.v1+cell": {
     "inputWidgets": {},
     "nuid": "9e12ac23-7776-4f26-b8d7-28dfcd62a45e",
     "showTitle": false,
     "title": ""
    }
   },
   "outputs": [
    {
     "data": {
      "text/html": [
       "<style scoped>\n",
       "  .ansiout {\n",
       "    display: block;\n",
       "    unicode-bidi: embed;\n",
       "    white-space: pre-wrap;\n",
       "    word-wrap: break-word;\n",
       "    word-break: break-all;\n",
       "    font-family: \"Source Code Pro\", \"Menlo\", monospace;;\n",
       "    font-size: 13px;\n",
       "    color: #555;\n",
       "    margin-left: 4px;\n",
       "    line-height: 19px;\n",
       "  }\n",
       "</style>\n",
       "<div class=\"ansiout\">&lt;SparkContext master=local[8] appName=Databricks Shell&gt;\n",
       "</div>"
      ]
     },
     "metadata": {
      "application/vnd.databricks.v1+output": {
       "addedWidgets": {},
       "arguments": {},
       "data": "<div class=\"ansiout\">&lt;SparkContext master=local[8] appName=Databricks Shell&gt;\n</div>",
       "datasetInfos": [],
       "metadata": {},
       "removedWidgets": [],
       "type": "html"
      }
     },
     "output_type": "display_data"
    }
   ],
   "source": [
    "print(sc)"
   ]
  },
  {
   "cell_type": "markdown",
   "metadata": {
    "application/vnd.databricks.v1+cell": {
     "inputWidgets": {},
     "nuid": "46141a88-e6eb-41d8-ada0-2093f1f95f15",
     "showTitle": false,
     "title": ""
    }
   },
   "source": [
    "### Bad XML"
   ]
  },
  {
   "cell_type": "code",
   "execution_count": 0,
   "metadata": {
    "application/vnd.databricks.v1+cell": {
     "inputWidgets": {},
     "nuid": "f1b77607-3376-4cf7-89e2-ac84245970b9",
     "showTitle": false,
     "title": ""
    }
   },
   "outputs": [
    {
     "data": {
      "text/html": [
       "<style scoped>\n",
       "  .ansiout {\n",
       "    display: block;\n",
       "    unicode-bidi: embed;\n",
       "    white-space: pre-wrap;\n",
       "    word-wrap: break-word;\n",
       "    word-break: break-all;\n",
       "    font-family: \"Source Code Pro\", \"Menlo\", monospace;;\n",
       "    font-size: 13px;\n",
       "    color: #555;\n",
       "    margin-left: 4px;\n",
       "    line-height: 19px;\n",
       "  }\n",
       "</style>\n",
       "<div class=\"ansiout\"></div>"
      ]
     },
     "metadata": {
      "application/vnd.databricks.v1+output": {
       "addedWidgets": {},
       "arguments": {},
       "data": "<div class=\"ansiout\"></div>",
       "datasetInfos": [],
       "metadata": {},
       "removedWidgets": [],
       "type": "html"
      }
     },
     "output_type": "display_data"
    }
   ],
   "source": [
    "# Setting the path.\n",
    "import os\n",
    "def localpath(path):\n",
    "    return 'file://' + str(os.path.abspath(os.path.curdir)) + '/' + path"
   ]
  },
  {
   "cell_type": "code",
   "execution_count": 0,
   "metadata": {
    "application/vnd.databricks.v1+cell": {
     "inputWidgets": {},
     "nuid": "7877cd2f-446e-40a8-a5af-2b68ffecc60b",
     "showTitle": false,
     "title": ""
    }
   },
   "outputs": [
    {
     "data": {
      "text/html": [
       "<style scoped>\n",
       "  .ansiout {\n",
       "    display: block;\n",
       "    unicode-bidi: embed;\n",
       "    white-space: pre-wrap;\n",
       "    word-wrap: break-word;\n",
       "    word-break: break-all;\n",
       "    font-family: \"Source Code Pro\", \"Menlo\", monospace;;\n",
       "    font-size: 13px;\n",
       "    color: #555;\n",
       "    margin-left: 4px;\n",
       "    line-height: 19px;\n",
       "  }\n",
       "</style>\n",
       "<div class=\"ansiout\"></div>"
      ]
     },
     "metadata": {
      "application/vnd.databricks.v1+output": {
       "addedWidgets": {},
       "arguments": {},
       "data": "<div class=\"ansiout\"></div>",
       "datasetInfos": [],
       "metadata": {},
       "removedWidgets": [],
       "type": "html"
      }
     },
     "output_type": "display_data"
    }
   ],
   "source": [
    "# Parsing function to remove bad XML.\n",
    "def row_start(line_current):\n",
    "    line_strip = line_current.strip().strip('\\n')\n",
    "    return (line_strip.find(\"<row \")==0) "
   ]
  },
  {
   "cell_type": "code",
   "execution_count": 0,
   "metadata": {
    "application/vnd.databricks.v1+cell": {
     "inputWidgets": {},
     "nuid": "8ffd9bc0-2fb1-41d0-8b5a-c98f82d05dd9",
     "showTitle": false,
     "title": ""
    }
   },
   "outputs": [
    {
     "data": {
      "text/html": [
       "<style scoped>\n",
       "  .ansiout {\n",
       "    display: block;\n",
       "    unicode-bidi: embed;\n",
       "    white-space: pre-wrap;\n",
       "    word-wrap: break-word;\n",
       "    word-break: break-all;\n",
       "    font-family: \"Source Code Pro\", \"Menlo\", monospace;;\n",
       "    font-size: 13px;\n",
       "    color: #555;\n",
       "    margin-left: 4px;\n",
       "    line-height: 19px;\n",
       "  }\n",
       "</style>\n",
       "<div class=\"ansiout\"></div>"
      ]
     },
     "metadata": {
      "application/vnd.databricks.v1+output": {
       "addedWidgets": {},
       "arguments": {},
       "data": "<div class=\"ansiout\"></div>",
       "datasetInfos": [],
       "metadata": {},
       "removedWidgets": [],
       "type": "html"
      }
     },
     "output_type": "display_data"
    }
   ],
   "source": [
    "#lines = sc.textFile(localpath('/spark-stats-data/allPosts/'))\n",
    "start_rows = lines.filter(lambda x: row_start(x))\n",
    "rows=lines.filter(lambda x: is_row(x))"
   ]
  },
  {
   "cell_type": "code",
   "execution_count": 0,
   "metadata": {
    "application/vnd.databricks.v1+cell": {
     "inputWidgets": {},
     "nuid": "8bb40930-8782-4165-9ca8-5fede9b7bdd7",
     "showTitle": false,
     "title": ""
    }
   },
   "outputs": [
    {
     "data": {
      "text/html": [
       "<style scoped>\n",
       "  .ansiout {\n",
       "    display: block;\n",
       "    unicode-bidi: embed;\n",
       "    white-space: pre-wrap;\n",
       "    word-wrap: break-word;\n",
       "    word-break: break-all;\n",
       "    font-family: \"Source Code Pro\", \"Menlo\", monospace;;\n",
       "    font-size: 13px;\n",
       "    color: #555;\n",
       "    margin-left: 4px;\n",
       "    line-height: 19px;\n",
       "  }\n",
       "</style>\n",
       "<div class=\"ansiout\">Out[6]: 9763</div>"
      ]
     },
     "metadata": {
      "application/vnd.databricks.v1+output": {
       "addedWidgets": {},
       "arguments": {},
       "data": "<div class=\"ansiout\">Out[6]: 9763</div>",
       "datasetInfos": [],
       "metadata": {},
       "removedWidgets": [],
       "type": "html"
      }
     },
     "output_type": "display_data"
    }
   ],
   "source": [
    "rows.count()"
   ]
  },
  {
   "cell_type": "code",
   "execution_count": 0,
   "metadata": {
    "application/vnd.databricks.v1+cell": {
     "inputWidgets": {},
     "nuid": "cbb13568-bd97-483c-ba25-c7f0975e4541",
     "showTitle": false,
     "title": ""
    }
   },
   "outputs": [
    {
     "data": {
      "text/html": [
       "<style scoped>\n",
       "  .ansiout {\n",
       "    display: block;\n",
       "    unicode-bidi: embed;\n",
       "    white-space: pre-wrap;\n",
       "    word-wrap: break-word;\n",
       "    word-break: break-all;\n",
       "    font-family: \"Source Code Pro\", \"Menlo\", monospace;;\n",
       "    font-size: 13px;\n",
       "    color: #555;\n",
       "    margin-left: 4px;\n",
       "    line-height: 19px;\n",
       "  }\n",
       "</style>\n",
       "<div class=\"ansiout\">Out[11]: 237</div>"
      ]
     },
     "metadata": {
      "application/vnd.databricks.v1+output": {
       "addedWidgets": {},
       "arguments": {},
       "data": "<div class=\"ansiout\">Out[11]: 237</div>",
       "datasetInfos": [],
       "metadata": {},
       "removedWidgets": [],
       "type": "html"
      }
     },
     "output_type": "display_data"
    }
   ],
   "source": [
    "# Calculating bad XML count.\n",
    "abs(rows.count()-start_rows.count())"
   ]
  },
  {
   "cell_type": "code",
   "execution_count": 0,
   "metadata": {
    "application/vnd.databricks.v1+cell": {
     "inputWidgets": {},
     "nuid": "e3d70c42-3b7c-44bf-968b-5c4b15b16304",
     "showTitle": false,
     "title": ""
    }
   },
   "outputs": [
    {
     "data": {
      "text/html": [
       "<style scoped>\n",
       "  .ansiout {\n",
       "    display: block;\n",
       "    unicode-bidi: embed;\n",
       "    white-space: pre-wrap;\n",
       "    word-wrap: break-word;\n",
       "    word-break: break-all;\n",
       "    font-family: \"Source Code Pro\", \"Menlo\", monospace;;\n",
       "    font-size: 13px;\n",
       "    color: #555;\n",
       "    margin-left: 4px;\n",
       "    line-height: 19px;\n",
       "  }\n",
       "</style>\n",
       "<div class=\"ansiout\"></div>"
      ]
     },
     "metadata": {
      "application/vnd.databricks.v1+output": {
       "addedWidgets": {},
       "arguments": {},
       "data": "<div class=\"ansiout\"></div>",
       "datasetInfos": [],
       "metadata": {},
       "removedWidgets": [],
       "type": "html"
      }
     },
     "output_type": "display_data"
    }
   ],
   "source": [
    "# Feed to the grader through this function.\n",
    "def bad_xml():\n",
    "    return 237"
   ]
  },
  {
   "cell_type": "markdown",
   "metadata": {},
   "source": [
    "<br/><br/>"
   ]
  },
  {
   "cell_type": "markdown",
   "metadata": {
    "application/vnd.databricks.v1+cell": {
     "inputWidgets": {},
     "nuid": "989f8609-6059-4ff6-b0af-7337e667770a",
     "showTitle": false,
     "title": ""
    }
   },
   "source": [
    "### Favorites and score"
   ]
  },
  {
   "cell_type": "code",
   "execution_count": 0,
   "metadata": {
    "application/vnd.databricks.v1+cell": {
     "inputWidgets": {},
     "nuid": "8938bce7-213b-4bdc-b2b4-68a960c464e1",
     "showTitle": false,
     "title": ""
    }
   },
   "outputs": [
    {
     "data": {
      "text/html": [
       "<style scoped>\n",
       "  .ansiout {\n",
       "    display: block;\n",
       "    unicode-bidi: embed;\n",
       "    white-space: pre-wrap;\n",
       "    word-wrap: break-word;\n",
       "    word-break: break-all;\n",
       "    font-family: \"Source Code Pro\", \"Menlo\", monospace;;\n",
       "    font-size: 13px;\n",
       "    color: #555;\n",
       "    margin-left: 4px;\n",
       "    line-height: 19px;\n",
       "  }\n",
       "</style>\n",
       "<div class=\"ansiout\"></div>"
      ]
     },
     "metadata": {
      "application/vnd.databricks.v1+output": {
       "addedWidgets": {},
       "arguments": {},
       "data": "<div class=\"ansiout\"></div>",
       "datasetInfos": [],
       "metadata": {},
       "removedWidgets": [],
       "type": "html"
      }
     },
     "output_type": "display_data"
    }
   ],
   "source": [
    "#def is_row(line_current):\n",
    " #   line_strip = line_current.strip().strip('\\n')\n",
    "  #  return (line_strip.find(\"<row \")==0 and line_strip[-3:]==\" />\")"
   ]
  },
  {
   "cell_type": "code",
   "execution_count": 0,
   "metadata": {
    "application/vnd.databricks.v1+cell": {
     "inputWidgets": {},
     "nuid": "2ed2002b-b5bd-4cac-a29b-610e2bce342d",
     "showTitle": false,
     "title": ""
    }
   },
   "outputs": [
    {
     "data": {
      "text/html": [
       "<style scoped>\n",
       "  .ansiout {\n",
       "    display: block;\n",
       "    unicode-bidi: embed;\n",
       "    white-space: pre-wrap;\n",
       "    word-wrap: break-word;\n",
       "    word-break: break-all;\n",
       "    font-family: \"Source Code Pro\", \"Menlo\", monospace;;\n",
       "    font-size: 13px;\n",
       "    color: #555;\n",
       "    margin-left: 4px;\n",
       "    line-height: 19px;\n",
       "  }\n",
       "</style>\n",
       "<div class=\"ansiout\">Python interpreter will be restarted.\n",
       "Collecting lxml\n",
       "  Downloading lxml-4.6.3-cp37-cp37m-manylinux1_x86_64.whl (5.5 MB)\n",
       "Installing collected packages: lxml\n",
       "Successfully installed lxml-4.6.3\n",
       "Python interpreter will be restarted.\n",
       "</div>"
      ]
     },
     "metadata": {
      "application/vnd.databricks.v1+output": {
       "addedWidgets": {},
       "arguments": {},
       "data": "<div class=\"ansiout\">Python interpreter will be restarted.\nCollecting lxml\n  Downloading lxml-4.6.3-cp37-cp37m-manylinux1_x86_64.whl (5.5 MB)\nInstalling collected packages: lxml\nSuccessfully installed lxml-4.6.3\nPython interpreter will be restarted.\n</div>",
       "datasetInfos": [],
       "metadata": {},
       "removedWidgets": [],
       "type": "html"
      }
     },
     "output_type": "display_data"
    }
   ],
   "source": [
    "# Do it at the very beginning as it will restart the python kernel.\n",
    "%pip install lxml"
   ]
  },
  {
   "cell_type": "code",
   "execution_count": 0,
   "metadata": {
    "application/vnd.databricks.v1+cell": {
     "inputWidgets": {},
     "nuid": "4502d789-ccf9-462e-825c-2efb5ff006e9",
     "showTitle": false,
     "title": ""
    }
   },
   "outputs": [
    {
     "data": {
      "text/html": [
       "<style scoped>\n",
       "  .ansiout {\n",
       "    display: block;\n",
       "    unicode-bidi: embed;\n",
       "    white-space: pre-wrap;\n",
       "    word-wrap: break-word;\n",
       "    word-break: break-all;\n",
       "    font-family: \"Source Code Pro\", \"Menlo\", monospace;;\n",
       "    font-size: 13px;\n",
       "    color: #555;\n",
       "    margin-left: 4px;\n",
       "    line-height: 19px;\n",
       "  }\n",
       "</style>\n",
       "<div class=\"ansiout\"></div>"
      ]
     },
     "metadata": {
      "application/vnd.databricks.v1+output": {
       "addedWidgets": {},
       "arguments": {},
       "data": "<div class=\"ansiout\"></div>",
       "datasetInfos": [],
       "metadata": {},
       "removedWidgets": [],
       "type": "html"
      }
     },
     "output_type": "display_data"
    }
   ],
   "source": [
    "from collections import namedtuple"
   ]
  },
  {
   "cell_type": "code",
   "execution_count": 0,
   "metadata": {
    "application/vnd.databricks.v1+cell": {
     "inputWidgets": {},
     "nuid": "9cd4be84-34b6-4db1-8b08-f25c1122ffa6",
     "showTitle": false,
     "title": ""
    }
   },
   "outputs": [
    {
     "data": {
      "text/html": [
       "<style scoped>\n",
       "  .ansiout {\n",
       "    display: block;\n",
       "    unicode-bidi: embed;\n",
       "    white-space: pre-wrap;\n",
       "    word-wrap: break-word;\n",
       "    word-break: break-all;\n",
       "    font-family: \"Source Code Pro\", \"Menlo\", monospace;;\n",
       "    font-size: 13px;\n",
       "    color: #555;\n",
       "    margin-left: 4px;\n",
       "    line-height: 19px;\n",
       "  }\n",
       "</style>\n",
       "<div class=\"ansiout\"></div>"
      ]
     },
     "metadata": {
      "application/vnd.databricks.v1+output": {
       "addedWidgets": {},
       "arguments": {},
       "data": "<div class=\"ansiout\"></div>",
       "datasetInfos": [],
       "metadata": {},
       "removedWidgets": [],
       "type": "html"
      }
     },
     "output_type": "display_data"
    }
   ],
   "source": [
    "def is_row(line_current):\n",
    "    line_strip = line_current.strip().strip('\\n')\n",
    "    return (line_strip.find(\"<row \")==0 and line_strip[-3:]==\" />\")"
   ]
  },
  {
   "cell_type": "code",
   "execution_count": 0,
   "metadata": {
    "application/vnd.databricks.v1+cell": {
     "inputWidgets": {},
     "nuid": "e1def3a0-89fb-452c-9301-49f3c845766c",
     "showTitle": false,
     "title": ""
    }
   },
   "outputs": [
    {
     "data": {
      "text/html": [
       "<style scoped>\n",
       "  .ansiout {\n",
       "    display: block;\n",
       "    unicode-bidi: embed;\n",
       "    white-space: pre-wrap;\n",
       "    word-wrap: break-word;\n",
       "    word-break: break-all;\n",
       "    font-family: \"Source Code Pro\", \"Menlo\", monospace;;\n",
       "    font-size: 13px;\n",
       "    color: #555;\n",
       "    margin-left: 4px;\n",
       "    line-height: 19px;\n",
       "  }\n",
       "</style>\n",
       "<div class=\"ansiout\">Out[11]: 20506</div>"
      ]
     },
     "metadata": {
      "application/vnd.databricks.v1+output": {
       "addedWidgets": {},
       "arguments": {},
       "data": "<div class=\"ansiout\">Out[11]: 20506</div>",
       "datasetInfos": [],
       "metadata": {},
       "removedWidgets": [],
       "type": "html"
      }
     },
     "output_type": "display_data"
    }
   ],
   "source": [
    "# Reading posts data into an RDD.\n",
    "rdd_posts = sc.textFile('/FileStore/tables/part_00000_xml.gz')\n",
    "rdd_posts.count()"
   ]
  },
  {
   "cell_type": "code",
   "execution_count": 0,
   "metadata": {
    "application/vnd.databricks.v1+cell": {
     "inputWidgets": {},
     "nuid": "6659f9fe-e0ba-4cae-be55-da775044803e",
     "showTitle": false,
     "title": ""
    }
   },
   "outputs": [
    {
     "data": {
      "text/html": [
       "<style scoped>\n",
       "  .ansiout {\n",
       "    display: block;\n",
       "    unicode-bidi: embed;\n",
       "    white-space: pre-wrap;\n",
       "    word-wrap: break-word;\n",
       "    word-break: break-all;\n",
       "    font-family: \"Source Code Pro\", \"Menlo\", monospace;;\n",
       "    font-size: 13px;\n",
       "    color: #555;\n",
       "    margin-left: 4px;\n",
       "    line-height: 19px;\n",
       "  }\n",
       "</style>\n",
       "<div class=\"ansiout\"></div>"
      ]
     },
     "metadata": {
      "application/vnd.databricks.v1+output": {
       "addedWidgets": {},
       "arguments": {},
       "data": "<div class=\"ansiout\"></div>",
       "datasetInfos": [],
       "metadata": {},
       "removedWidgets": [],
       "type": "html"
      }
     },
     "output_type": "display_data"
    }
   ],
   "source": [
    "# Function to parse scores.\n",
    "def fetch_scores(line): \n",
    "    \n",
    "    #line_encoded = line.strip().encode('utf-8')\n",
    "    named_tuple = namedtuple('named_tuple', ['FavoriteCount','score','count'])\n",
    "    root = etree.fromstring(line)\n",
    "    \n",
    "    try: \n",
    "        FavoriteCount = int(root.attrib['FavoriteCount'])\n",
    "    except: \n",
    "        FavoriteCount = int(0)\n",
    "    \n",
    "    try: \n",
    "        score = int(root.attrib['Score'])\n",
    "    except: \n",
    "        score = int(0)\n",
    "    \n",
    "    single = named_tuple(FavoriteCount,score, 1)\n",
    "    \n",
    "    return  (single.FavoriteCount, (single.score, 1))"
   ]
  },
  {
   "cell_type": "code",
   "execution_count": 0,
   "metadata": {
    "application/vnd.databricks.v1+cell": {
     "inputWidgets": {},
     "nuid": "af5f8762-f9bf-49a4-888f-203718a5199a",
     "showTitle": false,
     "title": ""
    }
   },
   "outputs": [
    {
     "data": {
      "text/html": [
       "<style scoped>\n",
       "  .ansiout {\n",
       "    display: block;\n",
       "    unicode-bidi: embed;\n",
       "    white-space: pre-wrap;\n",
       "    word-wrap: break-word;\n",
       "    word-break: break-all;\n",
       "    font-family: \"Source Code Pro\", \"Menlo\", monospace;;\n",
       "    font-size: 13px;\n",
       "    color: #555;\n",
       "    margin-left: 4px;\n",
       "    line-height: 19px;\n",
       "  }\n",
       "</style>\n",
       "<div class=\"ansiout\"></div>"
      ]
     },
     "metadata": {
      "application/vnd.databricks.v1+output": {
       "addedWidgets": {},
       "arguments": {},
       "data": "<div class=\"ansiout\"></div>",
       "datasetInfos": [],
       "metadata": {},
       "removedWidgets": [],
       "type": "html"
      }
     },
     "output_type": "display_data"
    }
   ],
   "source": [
    "# Function to parse posts.\n",
    "def parse_posts(line):\n",
    "    line = line.encode('utf-8') \n",
    "    try: \n",
    "        root = etree.fromstring(line)\n",
    "        return etree.tostring(root)\n",
    "    except: \n",
    "        return None"
   ]
  },
  {
   "cell_type": "code",
   "execution_count": 0,
   "metadata": {
    "application/vnd.databricks.v1+cell": {
     "inputWidgets": {},
     "nuid": "abb823ce-e08a-42e5-b1a4-cd57dca92b8a",
     "showTitle": false,
     "title": ""
    }
   },
   "outputs": [
    {
     "data": {
      "text/html": [
       "<style scoped>\n",
       "  .ansiout {\n",
       "    display: block;\n",
       "    unicode-bidi: embed;\n",
       "    white-space: pre-wrap;\n",
       "    word-wrap: break-word;\n",
       "    word-break: break-all;\n",
       "    font-family: \"Source Code Pro\", \"Menlo\", monospace;;\n",
       "    font-size: 13px;\n",
       "    color: #555;\n",
       "    margin-left: 4px;\n",
       "    line-height: 19px;\n",
       "  }\n",
       "</style>\n",
       "<div class=\"ansiout\"></div>"
      ]
     },
     "metadata": {
      "application/vnd.databricks.v1+output": {
       "addedWidgets": {},
       "arguments": {},
       "data": "<div class=\"ansiout\"></div>",
       "datasetInfos": [],
       "metadata": {},
       "removedWidgets": [],
       "type": "html"
      }
     },
     "output_type": "display_data"
    }
   ],
   "source": [
    "parsed_posts = rdd_posts.filter(lambda x: is_row(x)) \\\n",
    "               .map(parse_posts) \\\n",
    "               .filter(lambda x: x is not None)"
   ]
  },
  {
   "cell_type": "code",
   "execution_count": 0,
   "metadata": {
    "application/vnd.databricks.v1+cell": {
     "inputWidgets": {},
     "nuid": "f3c24b6a-3243-48c7-8e00-83413d6f0cb6",
     "showTitle": false,
     "title": ""
    }
   },
   "outputs": [
    {
     "data": {
      "text/html": [
       "<style scoped>\n",
       "  .ansiout {\n",
       "    display: block;\n",
       "    unicode-bidi: embed;\n",
       "    white-space: pre-wrap;\n",
       "    word-wrap: break-word;\n",
       "    word-break: break-all;\n",
       "    font-family: \"Source Code Pro\", \"Menlo\", monospace;;\n",
       "    font-size: 13px;\n",
       "    color: #555;\n",
       "    margin-left: 4px;\n",
       "    line-height: 19px;\n",
       "  }\n",
       "</style>\n",
       "<div class=\"ansiout\"></div>"
      ]
     },
     "metadata": {
      "application/vnd.databricks.v1+output": {
       "addedWidgets": {},
       "arguments": {},
       "data": "<div class=\"ansiout\"></div>",
       "datasetInfos": [],
       "metadata": {},
       "removedWidgets": [],
       "type": "html"
      }
     },
     "output_type": "display_data"
    }
   ],
   "source": [
    "# Combining scores and posts.\n",
    "combined = parsed_posts.map(fetch_scores)\\\n",
    "                .reduceByKey(lambda x,y: tuple(np.add(x,y)))\\\n",
    "                .sortByKey()\\\n",
    "                .take(50)"
   ]
  },
  {
   "cell_type": "code",
   "execution_count": 0,
   "metadata": {
    "application/vnd.databricks.v1+cell": {
     "inputWidgets": {},
     "nuid": "deef7bc0-a731-47f9-9ac0-b4ea4181db9a",
     "showTitle": false,
     "title": ""
    }
   },
   "outputs": [
    {
     "data": {
      "text/html": [
       "<style scoped>\n",
       "  .ansiout {\n",
       "    display: block;\n",
       "    unicode-bidi: embed;\n",
       "    white-space: pre-wrap;\n",
       "    word-wrap: break-word;\n",
       "    word-break: break-all;\n",
       "    font-family: \"Source Code Pro\", \"Menlo\", monospace;;\n",
       "    font-size: 13px;\n",
       "    color: #555;\n",
       "    margin-left: 4px;\n",
       "    line-height: 19px;\n",
       "  }\n",
       "</style>\n",
       "<div class=\"ansiout\">[(0, (43683, 7652)), (1, (2879, 657)), (2, (2435, 437)), (3, (1828, 243)), (4, (1394, 163)), (5, (1075, 116)), (6, (974, 79)), (7, (892, 67)), (8, (696, 50)), (9, (715, 44)), (10, (524, 28)), (11, (381, 21)), (12, (429, 21)), (13, (317, 15)), (14, (226, 11)), (15, (264, 12)), (16, (280, 12)), (17, (284, 10)), (18, (214, 10)), (19, (169, 6)), (20, (88, 4)), (21, (160, 5)), (22, (209, 7)), (23, (274, 8)), (24, (142, 5)), (25, (101, 2)), (26, (109, 3)), (27, (256, 5)), (28, (99, 3)), (29, (201, 4)), (30, (83, 2)), (31, (172, 5)), (32, (36, 1)), (33, (73, 2)), (34, (76, 2)), (35, (82, 2)), (36, (89, 2)), (37, (109, 2)), (38, (154, 3)), (39, (120, 3)), (40, (47, 1)), (41, (51, 1)), (42, (52, 1)), (45, (64, 1)), (47, (78, 1)), (48, (60, 1)), (49, (47, 1)), (52, (76, 1)), (54, (78, 1)), (58, (91, 2))]\n",
       "</div>"
      ]
     },
     "metadata": {
      "application/vnd.databricks.v1+output": {
       "addedWidgets": {},
       "arguments": {},
       "data": "<div class=\"ansiout\">[(0, (43683, 7652)), (1, (2879, 657)), (2, (2435, 437)), (3, (1828, 243)), (4, (1394, 163)), (5, (1075, 116)), (6, (974, 79)), (7, (892, 67)), (8, (696, 50)), (9, (715, 44)), (10, (524, 28)), (11, (381, 21)), (12, (429, 21)), (13, (317, 15)), (14, (226, 11)), (15, (264, 12)), (16, (280, 12)), (17, (284, 10)), (18, (214, 10)), (19, (169, 6)), (20, (88, 4)), (21, (160, 5)), (22, (209, 7)), (23, (274, 8)), (24, (142, 5)), (25, (101, 2)), (26, (109, 3)), (27, (256, 5)), (28, (99, 3)), (29, (201, 4)), (30, (83, 2)), (31, (172, 5)), (32, (36, 1)), (33, (73, 2)), (34, (76, 2)), (35, (82, 2)), (36, (89, 2)), (37, (109, 2)), (38, (154, 3)), (39, (120, 3)), (40, (47, 1)), (41, (51, 1)), (42, (52, 1)), (45, (64, 1)), (47, (78, 1)), (48, (60, 1)), (49, (47, 1)), (52, (76, 1)), (54, (78, 1)), (58, (91, 2))]\n</div>",
       "datasetInfos": [],
       "metadata": {},
       "removedWidgets": [],
       "type": "html"
      }
     },
     "output_type": "display_data"
    }
   ],
   "source": [
    "combined"
   ]
  },
  {
   "cell_type": "markdown",
   "metadata": {},
   "source": [
    "<br/><br/>"
   ]
  },
  {
   "cell_type": "markdown",
   "metadata": {
    "application/vnd.databricks.v1+cell": {
     "inputWidgets": {},
     "nuid": "ccf165fc-2313-4070-b46d-f4d56a5176be",
     "showTitle": false,
     "title": ""
    }
   },
   "source": [
    "### Answer percentage"
   ]
  },
  {
   "cell_type": "code",
   "execution_count": 0,
   "metadata": {
    "application/vnd.databricks.v1+cell": {
     "inputWidgets": {},
     "nuid": "9acc4df6-b20f-450a-b98d-bd248fc76f80",
     "showTitle": false,
     "title": ""
    }
   },
   "outputs": [
    {
     "data": {
      "text/html": [
       "<style scoped>\n",
       "  .ansiout {\n",
       "    display: block;\n",
       "    unicode-bidi: embed;\n",
       "    white-space: pre-wrap;\n",
       "    word-wrap: break-word;\n",
       "    word-break: break-all;\n",
       "    font-family: \"Source Code Pro\", \"Menlo\", monospace;;\n",
       "    font-size: 13px;\n",
       "    color: #555;\n",
       "    margin-left: 4px;\n",
       "    line-height: 19px;\n",
       "  }\n",
       "</style>\n",
       "<div class=\"ansiout\">212990\n",
       "</div>"
      ]
     },
     "metadata": {
      "application/vnd.databricks.v1+output": {
       "addedWidgets": {},
       "arguments": {},
       "data": "<div class=\"ansiout\">212990\n</div>",
       "datasetInfos": [],
       "metadata": {},
       "removedWidgets": [],
       "type": "html"
      }
     },
     "output_type": "display_data"
    }
   ],
   "source": [
    "rdd_posts = sc.textFile(localpath('/spark-stats-data/allPosts/')) \n",
    "rdd_posts.count()"
   ]
  },
  {
   "cell_type": "code",
   "execution_count": 0,
   "metadata": {
    "application/vnd.databricks.v1+cell": {
     "inputWidgets": {},
     "nuid": "0a529f79-037a-4089-a534-b559f5eada19",
     "showTitle": false,
     "title": ""
    }
   },
   "outputs": [
    {
     "data": {
      "text/html": [
       "<style scoped>\n",
       "  .ansiout {\n",
       "    display: block;\n",
       "    unicode-bidi: embed;\n",
       "    white-space: pre-wrap;\n",
       "    word-wrap: break-word;\n",
       "    word-break: break-all;\n",
       "    font-family: \"Source Code Pro\", \"Menlo\", monospace;;\n",
       "    font-size: 13px;\n",
       "    color: #555;\n",
       "    margin-left: 4px;\n",
       "    line-height: 19px;\n",
       "  }\n",
       "</style>\n",
       "<div class=\"ansiout\">100425\n",
       "</div>"
      ]
     },
     "metadata": {
      "application/vnd.databricks.v1+output": {
       "addedWidgets": {},
       "arguments": {},
       "data": "<div class=\"ansiout\">100425\n</div>",
       "datasetInfos": [],
       "metadata": {},
       "removedWidgets": [],
       "type": "html"
      }
     },
     "output_type": "display_data"
    }
   ],
   "source": [
    "rdd_users = sc.textFile(localpath('/spark-stats-data/allUsers/'))\n",
    "rdd_users.count()"
   ]
  },
  {
   "cell_type": "code",
   "execution_count": 0,
   "metadata": {
    "application/vnd.databricks.v1+cell": {
     "inputWidgets": {},
     "nuid": "920cdb71-6b40-4225-bb90-99deb5a94ba3",
     "showTitle": false,
     "title": ""
    }
   },
   "outputs": [
    {
     "data": {
      "text/html": [
       "<style scoped>\n",
       "  .ansiout {\n",
       "    display: block;\n",
       "    unicode-bidi: embed;\n",
       "    white-space: pre-wrap;\n",
       "    word-wrap: break-word;\n",
       "    word-break: break-all;\n",
       "    font-family: \"Source Code Pro\", \"Menlo\", monospace;;\n",
       "    font-size: 13px;\n",
       "    color: #555;\n",
       "    margin-left: 4px;\n",
       "    line-height: 19px;\n",
       "  }\n",
       "</style>\n",
       "<div class=\"ansiout\"></div>"
      ]
     },
     "metadata": {
      "application/vnd.databricks.v1+output": {
       "addedWidgets": {},
       "arguments": {},
       "data": "<div class=\"ansiout\"></div>",
       "datasetInfos": [],
       "metadata": {},
       "removedWidgets": [],
       "type": "html"
      }
     },
     "output_type": "display_data"
    }
   ],
   "source": [
    "# Function to parse users.\n",
    "def parse_users(line):\n",
    "    if '  <row'in line:\n",
    "        try:\n",
    "            root = ET.fromstring(line.encode('utf8'))\n",
    "        except:\n",
    "            pass\n",
    "            return (\"Empty\")\n",
    "            \n",
    "        if root != '':\n",
    "            if \"Id\" and \"Reputation\" in root.attrib:\n",
    "                return(root.attrib[\"Id\"], int(root.attrib[\"Reputation\"]))\n",
    "            else:\n",
    "                return(\"Empty\")\n",
    "        else:\n",
    "            return(\"Empty\")\n",
    "    else:\n",
    "        return(\"Empty\")"
   ]
  },
  {
   "cell_type": "code",
   "execution_count": 0,
   "metadata": {
    "application/vnd.databricks.v1+cell": {
     "inputWidgets": {},
     "nuid": "e15e0d61-9c3a-4e99-9a5f-bf18ca802a8c",
     "showTitle": false,
     "title": ""
    }
   },
   "outputs": [
    {
     "data": {
      "text/html": [
       "<style scoped>\n",
       "  .ansiout {\n",
       "    display: block;\n",
       "    unicode-bidi: embed;\n",
       "    white-space: pre-wrap;\n",
       "    word-wrap: break-word;\n",
       "    word-break: break-all;\n",
       "    font-family: \"Source Code Pro\", \"Menlo\", monospace;;\n",
       "    font-size: 13px;\n",
       "    color: #555;\n",
       "    margin-left: 4px;\n",
       "    line-height: 19px;\n",
       "  }\n",
       "</style>\n",
       "<div class=\"ansiout\">50320\n",
       "</div>"
      ]
     },
     "metadata": {
      "application/vnd.databricks.v1+output": {
       "addedWidgets": {},
       "arguments": {},
       "data": "<div class=\"ansiout\">50320\n</div>",
       "datasetInfos": [],
       "metadata": {},
       "removedWidgets": [],
       "type": "html"
      }
     },
     "output_type": "display_data"
    }
   ],
   "source": [
    "parsed_users = rdd_users.map(parse_users).filter(lambda x: x!= 'Empty')\n",
    "parsed_users.count()"
   ]
  },
  {
   "cell_type": "code",
   "execution_count": 0,
   "metadata": {
    "application/vnd.databricks.v1+cell": {
     "inputWidgets": {},
     "nuid": "a981aeb3-e1a0-47f9-9b18-df30db788883",
     "showTitle": false,
     "title": ""
    }
   },
   "outputs": [
    {
     "data": {
      "text/html": [
       "<style scoped>\n",
       "  .ansiout {\n",
       "    display: block;\n",
       "    unicode-bidi: embed;\n",
       "    white-space: pre-wrap;\n",
       "    word-wrap: break-word;\n",
       "    word-break: break-all;\n",
       "    font-family: \"Source Code Pro\", \"Menlo\", monospace;;\n",
       "    font-size: 13px;\n",
       "    color: #555;\n",
       "    margin-left: 4px;\n",
       "    line-height: 19px;\n",
       "  }\n",
       "</style>\n",
       "<div class=\"ansiout\"></div>"
      ]
     },
     "metadata": {
      "application/vnd.databricks.v1+output": {
       "addedWidgets": {},
       "arguments": {},
       "data": "<div class=\"ansiout\"></div>",
       "datasetInfos": [],
       "metadata": {},
       "removedWidgets": [],
       "type": "html"
      }
     },
     "output_type": "display_data"
    }
   ],
   "source": [
    "# Function to parse posts.\n",
    "def parse_posts(line):\n",
    "    if '  <row'in line:\n",
    "        try:\n",
    "            root = ET.fromstring(line.encode('utf8'))\n",
    "        except:\n",
    "            pass\n",
    "            return (\"Empty\")\n",
    "            \n",
    "        if root != '':\n",
    "            if \"OwnerUserId\" and \"PostTypeId\" in root.attrib:\n",
    "                type = root.attrib[\"PostTypeId\"]\n",
    "                try:\n",
    "                    owner = root.attrib[\"OwnerUserId\"]\n",
    "                except:\n",
    "                    pass\n",
    "                    return (\"Empty\")\n",
    "                if type == '2':\n",
    "                    type_count = [1.,0.,1.]\n",
    "                else:\n",
    "                    if type == '1':\n",
    "                        type_count = [0.,1.,1.]\n",
    "                    else:\n",
    "                        return(\"Empty\")\n",
    "                return(owner, type_count)\n",
    "            else:\n",
    "                return(\"Empty\")\n",
    "        else:\n",
    "            return(\"Empty\")\n",
    "    else:\n",
    "        return(\"Empty\")"
   ]
  },
  {
   "cell_type": "code",
   "execution_count": 0,
   "metadata": {
    "application/vnd.databricks.v1+cell": {
     "inputWidgets": {},
     "nuid": "c02f49dd-472c-4ac5-b73a-08b6695bbc0d",
     "showTitle": false,
     "title": ""
    }
   },
   "outputs": [
    {
     "data": {
      "text/html": [
       "<style scoped>\n",
       "  .ansiout {\n",
       "    display: block;\n",
       "    unicode-bidi: embed;\n",
       "    white-space: pre-wrap;\n",
       "    word-wrap: break-word;\n",
       "    word-break: break-all;\n",
       "    font-family: \"Source Code Pro\", \"Menlo\", monospace;;\n",
       "    font-size: 13px;\n",
       "    color: #555;\n",
       "    margin-left: 4px;\n",
       "    line-height: 19px;\n",
       "  }\n",
       "</style>\n",
       "<div class=\"ansiout\">Out[69]: 1521</div>"
      ]
     },
     "metadata": {
      "application/vnd.databricks.v1+output": {
       "addedWidgets": {},
       "arguments": {},
       "data": "<div class=\"ansiout\">Out[69]: 1521</div>",
       "datasetInfos": [],
       "metadata": {},
       "removedWidgets": [],
       "type": "html"
      }
     },
     "output_type": "display_data"
    }
   ],
   "source": [
    "parsed_posts = rdd_posts.map(parse_posts).filter(lambda x: x!= 'Empty')\\\n",
    "        .reduceByKey(lambda x, y: np.add(x,y))\n",
    "\n",
    "parsed_posts.count()"
   ]
  },
  {
   "cell_type": "code",
   "execution_count": 0,
   "metadata": {
    "application/vnd.databricks.v1+cell": {
     "inputWidgets": {},
     "nuid": "e990b68f-9257-4ab3-8899-cb37a130f3c2",
     "showTitle": false,
     "title": ""
    }
   },
   "outputs": [
    {
     "data": {
      "text/html": [
       "<style scoped>\n",
       "  .ansiout {\n",
       "    display: block;\n",
       "    unicode-bidi: embed;\n",
       "    white-space: pre-wrap;\n",
       "    word-wrap: break-word;\n",
       "    word-break: break-all;\n",
       "    font-family: \"Source Code Pro\", \"Menlo\", monospace;;\n",
       "    font-size: 13px;\n",
       "    color: #555;\n",
       "    margin-left: 4px;\n",
       "    line-height: 19px;\n",
       "  }\n",
       "</style>\n",
       "<div class=\"ansiout\">26887\n",
       "</div>"
      ]
     },
     "metadata": {
      "application/vnd.databricks.v1+output": {
       "addedWidgets": {},
       "arguments": {},
       "data": "<div class=\"ansiout\">26887\n</div>",
       "datasetInfos": [],
       "metadata": {},
       "removedWidgets": [],
       "type": "html"
      }
     },
     "output_type": "display_data"
    }
   ],
   "source": [
    "parsed_posts = rdd_posts.map(parse_posts).filter(lambda x: x!= 'Empty')\\\n",
    "        .reduceByKey(lambda x, y: np.add(x,y))\n",
    "\n",
    "parsed_posts.count()"
   ]
  },
  {
   "cell_type": "code",
   "execution_count": 0,
   "metadata": {
    "application/vnd.databricks.v1+cell": {
     "inputWidgets": {},
     "nuid": "25459888-7441-483e-8d49-5bb5a28532b9",
     "showTitle": false,
     "title": ""
    }
   },
   "outputs": [
    {
     "data": {
      "text/html": [
       "<style scoped>\n",
       "  .ansiout {\n",
       "    display: block;\n",
       "    unicode-bidi: embed;\n",
       "    white-space: pre-wrap;\n",
       "    word-wrap: break-word;\n",
       "    word-break: break-all;\n",
       "    font-family: \"Source Code Pro\", \"Menlo\", monospace;;\n",
       "    font-size: 13px;\n",
       "    color: #555;\n",
       "    margin-left: 4px;\n",
       "    line-height: 19px;\n",
       "  }\n",
       "</style>\n",
       "<div class=\"ansiout\">[(919, 0.996694214876033), (805, 0.9959749552772809), (686, 0.9803049555273189), (7290, 0.9918887601390498), (930, 0.9817351598173516), (4505, 1.0), (4253, 0.9909747292418772), (183, 0.847870182555781), (11032, 0.9875647668393782), (28746, 0.968421052631579), (887, 0.9794871794871794), (159, 0.9728813559322034), (2116, 0.9833333333333333), (4856, 0.9543147208121827), (22047, 1.0), (5739, 0.9872773536895675), (3277, 0.956081081081081), (88, 0.9660493827160493), (2970, 1.0), (601, 0.9772151898734177), (17230, 0.9970059880239521), (449, 1.0), (2392, 0.9724137931034482), (1390, 0.9411764705882353), (5836, 0.846441947565543), (7555, 1.0), (603, 0.8158844765342961), (7972, 0.9823008849557522), (6633, 0.9912280701754386), (2958, 0.9930313588850174), (9394, 0.9700854700854701), (7828, 0.9850427350427351), (2817, 0.8206896551724138), (7224, 0.9757575757575757), (4598, 0.9857142857142858), (7071, 0.9107142857142857), (1739, 0.9948717948717949), (1036, 0.9545454545454546), (3382, 1.0), (8013, 0.9040697674418605), (3019, 0.8571428571428571), (4376, 0.963302752293578), (251, 0.9924242424242424), (28666, 0.9), (1764, 0.9325842696629213), (23853, 1.0), (32036, 0.9959839357429718), (10849, 0.9518072289156626), (26338, 0.9691358024691358), (1352, 0.9902912621359223), (401, 0.9119496855345912), (5, 0.8547008547008547), (8, 0.8991596638655462), (7250, 0.9877300613496932), (1909, 0.9518072289156626), (21054, 0.9345794392523364), (4257, 0.9757575757575757), (196, 0.7357512953367875), (442, 0.8712121212121212), (279, 1.0), (2669, 0.946843853820598), (8402, 0.6521739130434783), (36041, 0.9889807162534435), (2126, 1.0), (44269, 0.9033613445378151), (6029, 1.0), (11981, 0.9649122807017544), (1934, 0.9680851063829787), (795, 0.676056338028169), (25433, 0.9867256637168141), (253, 0.3695652173913043), (364, 0.6736111111111112), (25, 0.9166666666666666), (22311, 0.9401709401709402), (334, 1.0), (13047, 0.9733333333333334), (8507, 0.9428571428571428), (264, 0.90625), (14188, 0.8983050847457628), (307, 1.0), (8076, 0.9333333333333333), (5862, 1.0), (8413, 0.9836065573770492), (1307, 0.8333333333333334), (2860, 0.8903225806451613), (223, 0.8588235294117647), (11887, 0.976878612716763), (52554, 0.9652777777777778), (2074, 1.0), (35989, 0.9487179487179487), (1005, 0.0034482758620689655), (22228, 0.8513513513513513), (4862, 0.8974358974358975), (3601, 0.9852941176470589), (17908, 1.0), (13138, 0.8639455782312925), (1108, 0.9722222222222222), (1679, 0.941747572815534), (11852, 1.0)]\n",
       "</div>"
      ]
     },
     "metadata": {
      "application/vnd.databricks.v1+output": {
       "addedWidgets": {},
       "arguments": {},
       "data": "<div class=\"ansiout\">[(919, 0.996694214876033), (805, 0.9959749552772809), (686, 0.9803049555273189), (7290, 0.9918887601390498), (930, 0.9817351598173516), (4505, 1.0), (4253, 0.9909747292418772), (183, 0.847870182555781), (11032, 0.9875647668393782), (28746, 0.968421052631579), (887, 0.9794871794871794), (159, 0.9728813559322034), (2116, 0.9833333333333333), (4856, 0.9543147208121827), (22047, 1.0), (5739, 0.9872773536895675), (3277, 0.956081081081081), (88, 0.9660493827160493), (2970, 1.0), (601, 0.9772151898734177), (17230, 0.9970059880239521), (449, 1.0), (2392, 0.9724137931034482), (1390, 0.9411764705882353), (5836, 0.846441947565543), (7555, 1.0), (603, 0.8158844765342961), (7972, 0.9823008849557522), (6633, 0.9912280701754386), (2958, 0.9930313588850174), (9394, 0.9700854700854701), (7828, 0.9850427350427351), (2817, 0.8206896551724138), (7224, 0.9757575757575757), (4598, 0.9857142857142858), (7071, 0.9107142857142857), (1739, 0.9948717948717949), (1036, 0.9545454545454546), (3382, 1.0), (8013, 0.9040697674418605), (3019, 0.8571428571428571), (4376, 0.963302752293578), (251, 0.9924242424242424), (28666, 0.9), (1764, 0.9325842696629213), (23853, 1.0), (32036, 0.9959839357429718), (10849, 0.9518072289156626), (26338, 0.9691358024691358), (1352, 0.9902912621359223), (401, 0.9119496855345912), (5, 0.8547008547008547), (8, 0.8991596638655462), (7250, 0.9877300613496932), (1909, 0.9518072289156626), (21054, 0.9345794392523364), (4257, 0.9757575757575757), (196, 0.7357512953367875), (442, 0.8712121212121212), (279, 1.0), (2669, 0.946843853820598), (8402, 0.6521739130434783), (36041, 0.9889807162534435), (2126, 1.0), (44269, 0.9033613445378151), (6029, 1.0), (11981, 0.9649122807017544), (1934, 0.9680851063829787), (795, 0.676056338028169), (25433, 0.9867256637168141), (253, 0.3695652173913043), (364, 0.6736111111111112), (25, 0.9166666666666666), (22311, 0.9401709401709402), (334, 1.0), (13047, 0.9733333333333334), (8507, 0.9428571428571428), (264, 0.90625), (14188, 0.8983050847457628), (307, 1.0), (8076, 0.9333333333333333), (5862, 1.0), (8413, 0.9836065573770492), (1307, 0.8333333333333334), (2860, 0.8903225806451613), (223, 0.8588235294117647), (11887, 0.976878612716763), (52554, 0.9652777777777778), (2074, 1.0), (35989, 0.9487179487179487), (1005, 0.0034482758620689655), (22228, 0.8513513513513513), (4862, 0.8974358974358975), (3601, 0.9852941176470589), (17908, 1.0), (13138, 0.8639455782312925), (1108, 0.9722222222222222), (1679, 0.941747572815534), (11852, 1.0)]\n</div>",
       "datasetInfos": [],
       "metadata": {},
       "removedWidgets": [],
       "type": "html"
      }
     },
     "output_type": "display_data"
    }
   ],
   "source": [
    "# Combining posts and users.\n",
    "combined = parsed_posts.join(parsed_users).map(lambda x: (x[1][1], x[1][0], int(x[0])))\\\n",
    "        .map(lambda x: (x[0],(x[2], x[1][0]/x[1][2]))).sortByKey(False)\\\n",
    "        .map(lambda x: x[1]).collect()\n",
    "print(combined[:99])"
   ]
  },
  {
   "cell_type": "code",
   "execution_count": 0,
   "metadata": {
    "application/vnd.databricks.v1+cell": {
     "inputWidgets": {},
     "nuid": "37cb1f10-5029-43b6-bb9b-64c6a704ba16",
     "showTitle": false,
     "title": ""
    }
   },
   "outputs": [
    {
     "data": {
      "text/html": [
       "<style scoped>\n",
       "  .ansiout {\n",
       "    display: block;\n",
       "    unicode-bidi: embed;\n",
       "    white-space: pre-wrap;\n",
       "    word-wrap: break-word;\n",
       "    word-break: break-all;\n",
       "    font-family: \"Source Code Pro\", \"Menlo\", monospace;;\n",
       "    font-size: 13px;\n",
       "    color: #555;\n",
       "    margin-left: 4px;\n",
       "    line-height: 19px;\n",
       "  }\n",
       "</style>\n",
       "<div class=\"ansiout\">(-1, 0.5157639985252271)\n",
       "</div>"
      ]
     },
     "metadata": {
      "application/vnd.databricks.v1+output": {
       "addedWidgets": {},
       "arguments": {},
       "data": "<div class=\"ansiout\">(-1, 0.5157639985252271)\n</div>",
       "datasetInfos": [],
       "metadata": {},
       "removedWidgets": [],
       "type": "html"
      }
     },
     "output_type": "display_data"
    }
   ],
   "source": [
    "# Feed to the grader in this format.\n",
    "total = parsed_posts.map(lambda x: (\"t\",x[1])).reduceByKey(lambda x, y: np.add(x,y)).collect()\n",
    "sum_of_total = total[0]\n",
    "fraction = (-1, sum_of_total[1][0]/sum_of_total[1][2])\n",
    "print(fraction)"
   ]
  },
  {
   "cell_type": "markdown",
   "metadata": {},
   "source": [
    "<br/><br/>"
   ]
  },
  {
   "cell_type": "markdown",
   "metadata": {
    "application/vnd.databricks.v1+cell": {
     "inputWidgets": {},
     "nuid": "29e4eaa3-e1f2-4ab4-9dd1-0e05df987efe",
     "showTitle": false,
     "title": ""
    }
   },
   "source": [
    "### First Question"
   ]
  },
  {
   "cell_type": "code",
   "execution_count": 0,
   "metadata": {
    "application/vnd.databricks.v1+cell": {
     "inputWidgets": {},
     "nuid": "5e1261cd-3195-4269-8274-f32021b01894",
     "showTitle": false,
     "title": ""
    }
   },
   "outputs": [
    {
     "data": {
      "text/html": [
       "<style scoped>\n",
       "  .ansiout {\n",
       "    display: block;\n",
       "    unicode-bidi: embed;\n",
       "    white-space: pre-wrap;\n",
       "    word-wrap: break-word;\n",
       "    word-break: break-all;\n",
       "    font-family: \"Source Code Pro\", \"Menlo\", monospace;;\n",
       "    font-size: 13px;\n",
       "    color: #555;\n",
       "    margin-left: 4px;\n",
       "    line-height: 19px;\n",
       "  }\n",
       "</style>\n",
       "<div class=\"ansiout\">Out[2]: 99515</div>"
      ]
     },
     "metadata": {
      "application/vnd.databricks.v1+output": {
       "addedWidgets": {},
       "arguments": {},
       "data": "<div class=\"ansiout\">Out[2]: 99515</div>",
       "datasetInfos": [],
       "metadata": {},
       "removedWidgets": [],
       "type": "html"
      }
     },
     "output_type": "display_data"
    }
   ],
   "source": [
    "rdd_users = sc.textFile('/FileStore/tables/user_part_00000_xml.gz')\n",
    "rdd_users.count()"
   ]
  },
  {
   "cell_type": "code",
   "execution_count": 0,
   "metadata": {
    "application/vnd.databricks.v1+cell": {
     "inputWidgets": {},
     "nuid": "a7cb59b5-9d51-4bf2-8c3a-20f4474607ee",
     "showTitle": false,
     "title": ""
    }
   },
   "outputs": [
    {
     "data": {
      "text/html": [
       "<style scoped>\n",
       "  .ansiout {\n",
       "    display: block;\n",
       "    unicode-bidi: embed;\n",
       "    white-space: pre-wrap;\n",
       "    word-wrap: break-word;\n",
       "    word-break: break-all;\n",
       "    font-family: \"Source Code Pro\", \"Menlo\", monospace;;\n",
       "    font-size: 13px;\n",
       "    color: #555;\n",
       "    margin-left: 4px;\n",
       "    line-height: 19px;\n",
       "  }\n",
       "</style>\n",
       "<div class=\"ansiout\">Out[3]: 20506</div>"
      ]
     },
     "metadata": {
      "application/vnd.databricks.v1+output": {
       "addedWidgets": {},
       "arguments": {},
       "data": "<div class=\"ansiout\">Out[3]: 20506</div>",
       "datasetInfos": [],
       "metadata": {},
       "removedWidgets": [],
       "type": "html"
      }
     },
     "output_type": "display_data"
    }
   ],
   "source": [
    "rdd_posts = sc.textFile('/FileStore/tables/part_00000_xml.gz') \n",
    "rdd_posts.count()"
   ]
  },
  {
   "cell_type": "code",
   "execution_count": 0,
   "metadata": {
    "application/vnd.databricks.v1+cell": {
     "inputWidgets": {},
     "nuid": "45a814c8-e4d4-49fc-ba27-b2021702d666",
     "showTitle": false,
     "title": ""
    }
   },
   "outputs": [
    {
     "data": {
      "text/html": [
       "<style scoped>\n",
       "  .ansiout {\n",
       "    display: block;\n",
       "    unicode-bidi: embed;\n",
       "    white-space: pre-wrap;\n",
       "    word-wrap: break-word;\n",
       "    word-break: break-all;\n",
       "    font-family: \"Source Code Pro\", \"Menlo\", monospace;;\n",
       "    font-size: 13px;\n",
       "    color: #555;\n",
       "    margin-left: 4px;\n",
       "    line-height: 19px;\n",
       "  }\n",
       "</style>\n",
       "<div class=\"ansiout\">100425\n",
       "</div>"
      ]
     },
     "metadata": {
      "application/vnd.databricks.v1+output": {
       "addedWidgets": {},
       "arguments": {},
       "data": "<div class=\"ansiout\">100425\n</div>",
       "datasetInfos": [],
       "metadata": {},
       "removedWidgets": [],
       "type": "html"
      }
     },
     "output_type": "display_data"
    }
   ],
   "source": [
    "rdd_users = sc.textFile(localpath('/spark-stats-data/allUsers/'))\n",
    "rdd_users.count()"
   ]
  },
  {
   "cell_type": "code",
   "execution_count": 0,
   "metadata": {
    "application/vnd.databricks.v1+cell": {
     "inputWidgets": {},
     "nuid": "8eaf66f5-b397-4f48-870d-d55cc2cffe49",
     "showTitle": false,
     "title": ""
    }
   },
   "outputs": [
    {
     "data": {
      "text/html": [
       "<style scoped>\n",
       "  .ansiout {\n",
       "    display: block;\n",
       "    unicode-bidi: embed;\n",
       "    white-space: pre-wrap;\n",
       "    word-wrap: break-word;\n",
       "    word-break: break-all;\n",
       "    font-family: \"Source Code Pro\", \"Menlo\", monospace;;\n",
       "    font-size: 13px;\n",
       "    color: #555;\n",
       "    margin-left: 4px;\n",
       "    line-height: 19px;\n",
       "  }\n",
       "</style>\n",
       "<div class=\"ansiout\">212990\n",
       "</div>"
      ]
     },
     "metadata": {
      "application/vnd.databricks.v1+output": {
       "addedWidgets": {},
       "arguments": {},
       "data": "<div class=\"ansiout\">212990\n</div>",
       "datasetInfos": [],
       "metadata": {},
       "removedWidgets": [],
       "type": "html"
      }
     },
     "output_type": "display_data"
    }
   ],
   "source": [
    "rdd_posts = sc.textFile(localpath('/spark-stats-data/allPosts/')) \n",
    "rdd_posts.count()"
   ]
  },
  {
   "cell_type": "code",
   "execution_count": 0,
   "metadata": {
    "application/vnd.databricks.v1+cell": {
     "inputWidgets": {},
     "nuid": "163a58e7-4cbc-4a7d-bb63-6f52d99ef82d",
     "showTitle": false,
     "title": ""
    }
   },
   "outputs": [
    {
     "data": {
      "text/html": [
       "<style scoped>\n",
       "  .ansiout {\n",
       "    display: block;\n",
       "    unicode-bidi: embed;\n",
       "    white-space: pre-wrap;\n",
       "    word-wrap: break-word;\n",
       "    word-break: break-all;\n",
       "    font-family: \"Source Code Pro\", \"Menlo\", monospace;;\n",
       "    font-size: 13px;\n",
       "    color: #555;\n",
       "    margin-left: 4px;\n",
       "    line-height: 19px;\n",
       "  }\n",
       "</style>\n",
       "<div class=\"ansiout\"></div>"
      ]
     },
     "metadata": {
      "application/vnd.databricks.v1+output": {
       "addedWidgets": {},
       "arguments": {},
       "data": "<div class=\"ansiout\"></div>",
       "datasetInfos": [],
       "metadata": {},
       "removedWidgets": [],
       "type": "html"
      }
     },
     "output_type": "display_data"
    }
   ],
   "source": [
    "def is_row(line_current):\n",
    "    line_strip = line_current.strip().strip('\\n')\n",
    "    return (line_strip.find(\"<row \")==0 and line_strip[-3:]==\" />\")"
   ]
  },
  {
   "cell_type": "code",
   "execution_count": 0,
   "metadata": {
    "application/vnd.databricks.v1+cell": {
     "inputWidgets": {},
     "nuid": "a1a978fe-1f45-43ed-bce8-eee7885c8760",
     "showTitle": false,
     "title": ""
    }
   },
   "outputs": [
    {
     "data": {
      "text/html": [
       "<style scoped>\n",
       "  .ansiout {\n",
       "    display: block;\n",
       "    unicode-bidi: embed;\n",
       "    white-space: pre-wrap;\n",
       "    word-wrap: break-word;\n",
       "    word-break: break-all;\n",
       "    font-family: \"Source Code Pro\", \"Menlo\", monospace;;\n",
       "    font-size: 13px;\n",
       "    color: #555;\n",
       "    margin-left: 4px;\n",
       "    line-height: 19px;\n",
       "  }\n",
       "</style>\n",
       "<div class=\"ansiout\"></div>"
      ]
     },
     "metadata": {
      "application/vnd.databricks.v1+output": {
       "addedWidgets": {},
       "arguments": {},
       "data": "<div class=\"ansiout\"></div>",
       "datasetInfos": [],
       "metadata": {},
       "removedWidgets": [],
       "type": "html"
      }
     },
     "output_type": "display_data"
    }
   ],
   "source": [
    "# Function to parse users.\n",
    "def parse_users(line): \n",
    "    \n",
    "    line= line.encode('utf-8')\n",
    "    named_tuple = namedtuple('named_tuple', ['userID','reputation', 'user_creation_date'])\n",
    "    \n",
    "    try: \n",
    "        root = etree.fromstring(line)\n",
    "    except: \n",
    "        root= None\n",
    "    \n",
    "    try: \n",
    "        userID = root.attrib['Id']\n",
    "    except: \n",
    "        userID = None\n",
    "    \n",
    "    try: \n",
    "        reputation = int(root.attrib['Reputation'])\n",
    "    except: \n",
    "        reputation = 0\n",
    "    \n",
    "    try: \n",
    "        date_object = root.attrib['CreationDate'].split('T')\n",
    "        date_concat = date_object[0] + ' ' + date_object[1]\n",
    "        user_creation_date = dt.datetime.strptime(date_concat, '%Y-%m-%d %H:%M:%S.%f') \n",
    "    except: \n",
    "        user_creation_date = None\n",
    "    \n",
    "    single = named_tuple(userID, reputation, user_creation_date)\n",
    "    return single\n"
   ]
  },
  {
   "cell_type": "code",
   "execution_count": 0,
   "metadata": {
    "application/vnd.databricks.v1+cell": {
     "inputWidgets": {},
     "nuid": "7895edbb-bfc0-48c3-8379-2e5f370e6d63",
     "showTitle": false,
     "title": ""
    }
   },
   "outputs": [
    {
     "data": {
      "text/html": [
       "<style scoped>\n",
       "  .ansiout {\n",
       "    display: block;\n",
       "    unicode-bidi: embed;\n",
       "    white-space: pre-wrap;\n",
       "    word-wrap: break-word;\n",
       "    word-break: break-all;\n",
       "    font-family: \"Source Code Pro\", \"Menlo\", monospace;;\n",
       "    font-size: 13px;\n",
       "    color: #555;\n",
       "    margin-left: 4px;\n",
       "    line-height: 19px;\n",
       "  }\n",
       "</style>\n",
       "<div class=\"ansiout\"></div>"
      ]
     },
     "metadata": {
      "application/vnd.databricks.v1+output": {
       "addedWidgets": {},
       "arguments": {},
       "data": "<div class=\"ansiout\"></div>",
       "datasetInfos": [],
       "metadata": {},
       "removedWidgets": [],
       "type": "html"
      }
     },
     "output_type": "display_data"
    }
   ],
   "source": [
    "parsed_users= rdd_users.filter(lambda x: is_row(x))\\\n",
    "                    .map(parse_users) \\\n",
    "                    .filter(lambda x: x[0] != None and x[2] != None) \\\n",
    "                    .map(lambda x: (x.userID, (x.reputation, x.user_creation_date)))"
   ]
  },
  {
   "cell_type": "code",
   "execution_count": 0,
   "metadata": {
    "application/vnd.databricks.v1+cell": {
     "inputWidgets": {},
     "nuid": "5d9fb947-cd67-4ef9-aec6-8add51e46b98",
     "showTitle": false,
     "title": ""
    }
   },
   "outputs": [
    {
     "data": {
      "text/html": [
       "<style scoped>\n",
       "  .ansiout {\n",
       "    display: block;\n",
       "    unicode-bidi: embed;\n",
       "    white-space: pre-wrap;\n",
       "    word-wrap: break-word;\n",
       "    word-break: break-all;\n",
       "    font-family: \"Source Code Pro\", \"Menlo\", monospace;;\n",
       "    font-size: 13px;\n",
       "    color: #555;\n",
       "    margin-left: 4px;\n",
       "    line-height: 19px;\n",
       "  }\n",
       "</style>\n",
       "<div class=\"ansiout\"></div>"
      ]
     },
     "metadata": {
      "application/vnd.databricks.v1+output": {
       "addedWidgets": {},
       "arguments": {},
       "data": "<div class=\"ansiout\"></div>",
       "datasetInfos": [],
       "metadata": {},
       "removedWidgets": [],
       "type": "html"
      }
     },
     "output_type": "display_data"
    }
   ],
   "source": [
    "# Function to parse posts.\n",
    "def parse_posts(line):\n",
    "    line = line.encode('utf-8') \n",
    "    try: \n",
    "        root = etree.fromstring(line)\n",
    "        return etree.tostring(root)\n",
    "    except: \n",
    "        return None"
   ]
  },
  {
   "cell_type": "code",
   "execution_count": 0,
   "metadata": {
    "application/vnd.databricks.v1+cell": {
     "inputWidgets": {},
     "nuid": "852a5191-185b-48a1-b563-b72d54a38882",
     "showTitle": false,
     "title": ""
    }
   },
   "outputs": [
    {
     "data": {
      "text/html": [
       "<style scoped>\n",
       "  .ansiout {\n",
       "    display: block;\n",
       "    unicode-bidi: embed;\n",
       "    white-space: pre-wrap;\n",
       "    word-wrap: break-word;\n",
       "    word-break: break-all;\n",
       "    font-family: \"Source Code Pro\", \"Menlo\", monospace;;\n",
       "    font-size: 13px;\n",
       "    color: #555;\n",
       "    margin-left: 4px;\n",
       "    line-height: 19px;\n",
       "  }\n",
       "</style>\n",
       "<div class=\"ansiout\"></div>"
      ]
     },
     "metadata": {
      "application/vnd.databricks.v1+output": {
       "addedWidgets": {},
       "arguments": {},
       "data": "<div class=\"ansiout\"></div>",
       "datasetInfos": [],
       "metadata": {},
       "removedWidgets": [],
       "type": "html"
      }
     },
     "output_type": "display_data"
    }
   ],
   "source": [
    "# Function to extract dates.\n",
    "def fetch_dates(line):\n",
    "    \n",
    "    #row = row.encode('utf-8')\n",
    "    named_tuple_posts = namedtuple('named_tuple_posts', ['userID','question', 'question_creation_date'])\n",
    "    \n",
    "    try: \n",
    "        root = etree.fromstring(line)\n",
    "    except: \n",
    "        root = None\n",
    "        \n",
    "    try: \n",
    "        userID = root.attrib['OwnerUserId']\n",
    "    except: \n",
    "        userID = None   \n",
    "    \n",
    "    try: \n",
    "        if root.attrib['PostTypeId'] == '1':\n",
    "            question = 'Yes'\n",
    "        else: \n",
    "            question = None\n",
    "    except: \n",
    "        question = None\n",
    "    \n",
    "    try: \n",
    "        date_object = root.attrib['CreationDate'].split('T')\n",
    "        date_concat = date_object[0] + ' ' + date_object[1]\n",
    "        question_creation_date = dt.datetime.strptime(date_concat, '%Y-%m-%d %H:%M:%S.%f')\n",
    "    except: \n",
    "        question_creation_date = None\n",
    "    \n",
    "    single = named_tuple_posts(userID, question, question_creation_date)\n",
    "    return single    \n",
    "    "
   ]
  },
  {
   "cell_type": "code",
   "execution_count": 0,
   "metadata": {
    "application/vnd.databricks.v1+cell": {
     "inputWidgets": {},
     "nuid": "1e322880-7efd-41f6-b74a-22fbd2c272c7",
     "showTitle": false,
     "title": ""
    }
   },
   "outputs": [
    {
     "data": {
      "text/html": [
       "<style scoped>\n",
       "  .ansiout {\n",
       "    display: block;\n",
       "    unicode-bidi: embed;\n",
       "    white-space: pre-wrap;\n",
       "    word-wrap: break-word;\n",
       "    word-break: break-all;\n",
       "    font-family: \"Source Code Pro\", \"Menlo\", monospace;;\n",
       "    font-size: 13px;\n",
       "    color: #555;\n",
       "    margin-left: 4px;\n",
       "    line-height: 19px;\n",
       "  }\n",
       "</style>\n",
       "<div class=\"ansiout\"></div>"
      ]
     },
     "metadata": {
      "application/vnd.databricks.v1+output": {
       "addedWidgets": {},
       "arguments": {},
       "data": "<div class=\"ansiout\"></div>",
       "datasetInfos": [],
       "metadata": {},
       "removedWidgets": [],
       "type": "html"
      }
     },
     "output_type": "display_data"
    }
   ],
   "source": [
    "parsed_posts = rdd_posts.filter(lambda x: is_row(x)) \\\n",
    "               .map(parse_posts) \\\n",
    "               .filter(lambda x: x is not None)"
   ]
  },
  {
   "cell_type": "code",
   "execution_count": 0,
   "metadata": {
    "application/vnd.databricks.v1+cell": {
     "inputWidgets": {},
     "nuid": "895c66af-e3e0-4004-943b-e6d2656ccbfa",
     "showTitle": false,
     "title": ""
    }
   },
   "outputs": [
    {
     "data": {
      "text/html": [
       "<style scoped>\n",
       "  .ansiout {\n",
       "    display: block;\n",
       "    unicode-bidi: embed;\n",
       "    white-space: pre-wrap;\n",
       "    word-wrap: break-word;\n",
       "    word-break: break-all;\n",
       "    font-family: \"Source Code Pro\", \"Menlo\", monospace;;\n",
       "    font-size: 13px;\n",
       "    color: #555;\n",
       "    margin-left: 4px;\n",
       "    line-height: 19px;\n",
       "  }\n",
       "</style>\n",
       "<div class=\"ansiout\"></div>"
      ]
     },
     "metadata": {
      "application/vnd.databricks.v1+output": {
       "addedWidgets": {},
       "arguments": {},
       "data": "<div class=\"ansiout\"></div>",
       "datasetInfos": [],
       "metadata": {},
       "removedWidgets": [],
       "type": "html"
      }
     },
     "output_type": "display_data"
    }
   ],
   "source": [
    "# Combining post creation date with posts.\n",
    "dates .parsed_posts_date = parsed_posts.map(fetch_dates) \\\n",
    "                .filter(lambda x: x[0] != None and x[1] != None and x[2] != None) \\\n",
    "                .map(lambda x: (x.userID, x.question_creation_date))"
   ]
  },
  {
   "cell_type": "code",
   "execution_count": 0,
   "metadata": {
    "application/vnd.databricks.v1+cell": {
     "inputWidgets": {},
     "nuid": "ef07d381-8f3d-44ba-917e-b2cb8d66c606",
     "showTitle": false,
     "title": ""
    }
   },
   "outputs": [
    {
     "data": {
      "text/html": [
       "<style scoped>\n",
       "  .ansiout {\n",
       "    display: block;\n",
       "    unicode-bidi: embed;\n",
       "    white-space: pre-wrap;\n",
       "    word-wrap: break-word;\n",
       "    word-break: break-all;\n",
       "    font-family: \"Source Code Pro\", \"Menlo\", monospace;;\n",
       "    font-size: 13px;\n",
       "    color: #555;\n",
       "    margin-left: 4px;\n",
       "    line-height: 19px;\n",
       "  }\n",
       "</style>\n",
       "<div class=\"ansiout\"></div>"
      ]
     },
     "metadata": {
      "application/vnd.databricks.v1+output": {
       "addedWidgets": {},
       "arguments": {},
       "data": "<div class=\"ansiout\"></div>",
       "datasetInfos": [],
       "metadata": {},
       "removedWidgets": [],
       "type": "html"
      }
     },
     "output_type": "display_data"
    }
   ],
   "source": [
    "# Comparing user creation date against post creation date.\n",
    "combined = parsed_posts_date.reduceByKey(lambda x, y: min(x, y)) \\\n",
    "                        .join(parsed_users) \\\n",
    "                        .map(lambda x: (int(x[0]), (x[1][0] - x[1][1][1]).days, x[1][1][0])) \\\n",
    "                        .takeOrdered(100, key=lambda x: -x[2])"
   ]
  },
  {
   "cell_type": "code",
   "execution_count": 0,
   "metadata": {
    "application/vnd.databricks.v1+cell": {
     "inputWidgets": {},
     "nuid": "3a526631-2542-4556-8414-186d9b0452c1",
     "showTitle": false,
     "title": ""
    }
   },
   "outputs": [
    {
     "data": {
      "text/html": [
       "<style scoped>\n",
       "  .ansiout {\n",
       "    display: block;\n",
       "    unicode-bidi: embed;\n",
       "    white-space: pre-wrap;\n",
       "    word-wrap: break-word;\n",
       "    word-break: break-all;\n",
       "    font-family: \"Source Code Pro\", \"Menlo\", monospace;;\n",
       "    font-size: 13px;\n",
       "    color: #555;\n",
       "    margin-left: 4px;\n",
       "    line-height: 19px;\n",
       "  }\n",
       "</style>\n",
       "<div class=\"ansiout\">Out[13]: [(919, 3, 100976),\n",
       " (686, 190, 47334),\n",
       " (930, 4, 32283),\n",
       " (183, 0, 23610),\n",
       " (887, 22, 20315),\n",
       " (159, 0, 20133),\n",
       " (3277, -1, 16131),\n",
       " (88, 0, 14768),\n",
       " (601, 19, 14100),\n",
       " (2392, 42, 12491),\n",
       " (1390, 117, 12098),\n",
       " (603, 41, 11830),\n",
       " (2958, 63, 11083),\n",
       " (2817, 0, 10552),\n",
       " (1036, 5, 9530),\n",
       " (3019, 0, 8794),\n",
       " (251, 2, 8221),\n",
       " (1764, 1, 7971),\n",
       " (1352, 0, 7552),\n",
       " (401, 34, 7116),\n",
       " (5, 0, 6962),\n",
       " (8, 0, 6948),\n",
       " (1909, 87, 6814),\n",
       " (196, 0, 6682),\n",
       " (442, 28, 6588),\n",
       " (2669, 20, 6352),\n",
       " (1934, 0, 5967),\n",
       " (795, 0, 5849),\n",
       " (253, 12, 5762),\n",
       " (364, 7, 5739),\n",
       " (25, 0, 5661),\n",
       " (264, 70, 5085),\n",
       " (1307, 3, 4238),\n",
       " (2860, 0, 4204),\n",
       " (223, 1, 4192),\n",
       " (1005, 42, 4080),\n",
       " (1108, 65, 3805),\n",
       " (1679, 2, 3747),\n",
       " (2645, 0, 3646),\n",
       " (1381, 0, 3572),\n",
       " (1569, 0, 3369),\n",
       " (26, 213, 3220),\n",
       " (1124, 10, 3195),\n",
       " (339, 4, 3179),\n",
       " (2310, 0, 3124),\n",
       " (3567, 9, 3106),\n",
       " (485, 14, 3022),\n",
       " (215, 0, 2751),\n",
       " (1106, 0, 2640),\n",
       " (29, 105, 2570),\n",
       " (2775, 1, 2530),\n",
       " (3911, 0, 2501),\n",
       " (74, 0, 2496),\n",
       " (582, 0, 2450),\n",
       " (656, 165, 2340),\n",
       " (2798, 10, 2336),\n",
       " (30, 7, 2330),\n",
       " (438, 1, 2328),\n",
       " (696, 103, 2317),\n",
       " (4426, 0, 2267),\n",
       " (3262, 0, 2235),\n",
       " (521, 9, 2213),\n",
       " (561, 20, 2147),\n",
       " (439, 92, 2143),\n",
       " (1347, 0, 2100),\n",
       " (2485, 15, 2092),\n",
       " (319, 1, 2089),\n",
       " (71, 0, 2071),\n",
       " (776, 0, 2025),\n",
       " (61, 0, 2024),\n",
       " (666, 22, 1995),\n",
       " (199, 0, 1955),\n",
       " (511, 1, 1916),\n",
       " (1540, 25, 1844),\n",
       " (39, 0, 1741),\n",
       " (1329, 4, 1739),\n",
       " (4479, 0, 1697),\n",
       " (1670, 78, 1679),\n",
       " (36, 210, 1625),\n",
       " (3874, 43, 1600),\n",
       " (179, 77, 1561),\n",
       " (3488, 31, 1545),\n",
       " (144, 0, 1486),\n",
       " (273, 12, 1469),\n",
       " (3748, 1, 1455),\n",
       " (226, 59, 1385),\n",
       " (230, 180, 1374),\n",
       " (2719, -1, 1363),\n",
       " (333, 0, 1353),\n",
       " (557, 70, 1348),\n",
       " (1499, 0, 1342),\n",
       " (2425, 44, 1342),\n",
       " (266, 0, 1332),\n",
       " (89, 1, 1311),\n",
       " (3919, 0, 1282),\n",
       " (1913, -1, 1250),\n",
       " (851, 0, 1225),\n",
       " (190, 0, 1196),\n",
       " (2921, 0, 1196),\n",
       " (881, 38, 1188)]</div>"
      ]
     },
     "metadata": {
      "application/vnd.databricks.v1+output": {
       "addedWidgets": {},
       "arguments": {},
       "data": "<div class=\"ansiout\">Out[13]: [(919, 3, 100976),\n (686, 190, 47334),\n (930, 4, 32283),\n (183, 0, 23610),\n (887, 22, 20315),\n (159, 0, 20133),\n (3277, -1, 16131),\n (88, 0, 14768),\n (601, 19, 14100),\n (2392, 42, 12491),\n (1390, 117, 12098),\n (603, 41, 11830),\n (2958, 63, 11083),\n (2817, 0, 10552),\n (1036, 5, 9530),\n (3019, 0, 8794),\n (251, 2, 8221),\n (1764, 1, 7971),\n (1352, 0, 7552),\n (401, 34, 7116),\n (5, 0, 6962),\n (8, 0, 6948),\n (1909, 87, 6814),\n (196, 0, 6682),\n (442, 28, 6588),\n (2669, 20, 6352),\n (1934, 0, 5967),\n (795, 0, 5849),\n (253, 12, 5762),\n (364, 7, 5739),\n (25, 0, 5661),\n (264, 70, 5085),\n (1307, 3, 4238),\n (2860, 0, 4204),\n (223, 1, 4192),\n (1005, 42, 4080),\n (1108, 65, 3805),\n (1679, 2, 3747),\n (2645, 0, 3646),\n (1381, 0, 3572),\n (1569, 0, 3369),\n (26, 213, 3220),\n (1124, 10, 3195),\n (339, 4, 3179),\n (2310, 0, 3124),\n (3567, 9, 3106),\n (485, 14, 3022),\n (215, 0, 2751),\n (1106, 0, 2640),\n (29, 105, 2570),\n (2775, 1, 2530),\n (3911, 0, 2501),\n (74, 0, 2496),\n (582, 0, 2450),\n (656, 165, 2340),\n (2798, 10, 2336),\n (30, 7, 2330),\n (438, 1, 2328),\n (696, 103, 2317),\n (4426, 0, 2267),\n (3262, 0, 2235),\n (521, 9, 2213),\n (561, 20, 2147),\n (439, 92, 2143),\n (1347, 0, 2100),\n (2485, 15, 2092),\n (319, 1, 2089),\n (71, 0, 2071),\n (776, 0, 2025),\n (61, 0, 2024),\n (666, 22, 1995),\n (199, 0, 1955),\n (511, 1, 1916),\n (1540, 25, 1844),\n (39, 0, 1741),\n (1329, 4, 1739),\n (4479, 0, 1697),\n (1670, 78, 1679),\n (36, 210, 1625),\n (3874, 43, 1600),\n (179, 77, 1561),\n (3488, 31, 1545),\n (144, 0, 1486),\n (273, 12, 1469),\n (3748, 1, 1455),\n (226, 59, 1385),\n (230, 180, 1374),\n (2719, -1, 1363),\n (333, 0, 1353),\n (557, 70, 1348),\n (1499, 0, 1342),\n (2425, 44, 1342),\n (266, 0, 1332),\n (89, 1, 1311),\n (3919, 0, 1282),\n (1913, -1, 1250),\n (851, 0, 1225),\n (190, 0, 1196),\n (2921, 0, 1196),\n (881, 38, 1188)]</div>",
       "datasetInfos": [],
       "metadata": {},
       "removedWidgets": [],
       "type": "html"
      }
     },
     "output_type": "display_data"
    }
   ],
   "source": [
    "combined"
   ]
  },
  {
   "cell_type": "markdown",
   "metadata": {},
   "source": [
    "</br></br>"
   ]
  },
  {
   "cell_type": "markdown",
   "metadata": {
    "application/vnd.databricks.v1+cell": {
     "inputWidgets": {},
     "nuid": "d53046fa-9833-4466-a960-7f2cf00e19f5",
     "showTitle": false,
     "title": ""
    }
   },
   "source": [
    "### Identify Veterans"
   ]
  },
  {
   "cell_type": "code",
   "execution_count": 0,
   "metadata": {
    "application/vnd.databricks.v1+cell": {
     "inputWidgets": {},
     "nuid": "984d7e5e-b70a-41e3-a9be-165b8dfe8ae1",
     "showTitle": false,
     "title": ""
    }
   },
   "outputs": [
    {
     "data": {
      "text/html": [
       "<style scoped>\n",
       "  .ansiout {\n",
       "    display: block;\n",
       "    unicode-bidi: embed;\n",
       "    white-space: pre-wrap;\n",
       "    word-wrap: break-word;\n",
       "    word-break: break-all;\n",
       "    font-family: \"Source Code Pro\", \"Menlo\", monospace;;\n",
       "    font-size: 13px;\n",
       "    color: #555;\n",
       "    margin-left: 4px;\n",
       "    line-height: 19px;\n",
       "  }\n",
       "</style>\n",
       "<div class=\"ansiout\"></div>"
      ]
     },
     "metadata": {
      "application/vnd.databricks.v1+output": {
       "addedWidgets": {},
       "arguments": {},
       "data": "<div class=\"ansiout\"></div>",
       "datasetInfos": [],
       "metadata": {},
       "removedWidgets": [],
       "type": "html"
      }
     },
     "output_type": "display_data"
    }
   ],
   "source": [
    "# Function to parse users.\n",
    "def parse_users(line):\n",
    "    if '<row' in line:\n",
    "        try:\n",
    "            root = ET.fromstring(line.encode('utf8'))\n",
    "        except:\n",
    "            pass\n",
    "            return (\"Empty\")\n",
    "            \n",
    "        if root != '':\n",
    "            if \"Id\" and \"CreationDate\" in root.attrib:\n",
    "                return(root.attrib[\"Id\"], root.attrib[\"CreationDate\"])\n",
    "            else:\n",
    "                return(\"Empty\")\n",
    "        else:\n",
    "            return(\"Empty\")\n",
    "    else:\n",
    "        return(\"Empty\")"
   ]
  },
  {
   "cell_type": "code",
   "execution_count": 0,
   "metadata": {
    "application/vnd.databricks.v1+cell": {
     "inputWidgets": {},
     "nuid": "c0111b83-f185-493b-83ab-366918e2e39b",
     "showTitle": false,
     "title": ""
    }
   },
   "outputs": [
    {
     "data": {
      "text/html": [
       "<style scoped>\n",
       "  .ansiout {\n",
       "    display: block;\n",
       "    unicode-bidi: embed;\n",
       "    white-space: pre-wrap;\n",
       "    word-wrap: break-word;\n",
       "    word-break: break-all;\n",
       "    font-family: \"Source Code Pro\", \"Menlo\", monospace;;\n",
       "    font-size: 13px;\n",
       "    color: #555;\n",
       "    margin-left: 4px;\n",
       "    line-height: 19px;\n",
       "  }\n",
       "</style>\n",
       "<div class=\"ansiout\">50320\n",
       "</div>"
      ]
     },
     "metadata": {
      "application/vnd.databricks.v1+output": {
       "addedWidgets": {},
       "arguments": {},
       "data": "<div class=\"ansiout\">50320\n</div>",
       "datasetInfos": [],
       "metadata": {},
       "removedWidgets": [],
       "type": "html"
      }
     },
     "output_type": "display_data"
    }
   ],
   "source": [
    "parsed_users = rdd_users.map(parse_users).filter(lambda x: x!= 'Empty')\n",
    "parsed_users.count()"
   ]
  },
  {
   "cell_type": "code",
   "execution_count": 0,
   "metadata": {
    "application/vnd.databricks.v1+cell": {
     "inputWidgets": {},
     "nuid": "02d71cff-8ff0-481f-9dd7-5fd2b31139bc",
     "showTitle": false,
     "title": ""
    }
   },
   "outputs": [
    {
     "data": {
      "text/html": [
       "<style scoped>\n",
       "  .ansiout {\n",
       "    display: block;\n",
       "    unicode-bidi: embed;\n",
       "    white-space: pre-wrap;\n",
       "    word-wrap: break-word;\n",
       "    word-break: break-all;\n",
       "    font-family: \"Source Code Pro\", \"Menlo\", monospace;;\n",
       "    font-size: 13px;\n",
       "    color: #555;\n",
       "    margin-left: 4px;\n",
       "    line-height: 19px;\n",
       "  }\n",
       "</style>\n",
       "<div class=\"ansiout\"></div>"
      ]
     },
     "metadata": {
      "application/vnd.databricks.v1+output": {
       "addedWidgets": {},
       "arguments": {},
       "data": "<div class=\"ansiout\"></div>",
       "datasetInfos": [],
       "metadata": {},
       "removedWidgets": [],
       "type": "html"
      }
     },
     "output_type": "display_data"
    }
   ],
   "source": [
    "# Function to parse posts.\n",
    "def parse_posts(line):\n",
    "    if '<row' in line:\n",
    "        try:\n",
    "            root = ET.fromstring(line.encode('utf8'))\n",
    "        except:\n",
    "            pass\n",
    "            return (\"Empty\")            \n",
    "        if root != '':\n",
    "            if \"CreationDate\" in root.attrib:\n",
    "                try:\n",
    "                    return (root.attrib[\"OwnerUserId\"], root.attrib[\"CreationDate\"])\n",
    "                except:\n",
    "                    pass\n",
    "                    return (\"Empty\")\n",
    "            else:\n",
    "                return(\"Empty\")\n",
    "        else:\n",
    "            return(\"Empty\")\n",
    "    else:\n",
    "        return(\"Empty\")"
   ]
  },
  {
   "cell_type": "code",
   "execution_count": 0,
   "metadata": {
    "application/vnd.databricks.v1+cell": {
     "inputWidgets": {},
     "nuid": "06e0ee4e-54d4-4167-bc65-3e3aa6ecf104",
     "showTitle": false,
     "title": ""
    }
   },
   "outputs": [
    {
     "data": {
      "text/html": [
       "<style scoped>\n",
       "  .ansiout {\n",
       "    display: block;\n",
       "    unicode-bidi: embed;\n",
       "    white-space: pre-wrap;\n",
       "    word-wrap: break-word;\n",
       "    word-break: break-all;\n",
       "    font-family: \"Source Code Pro\", \"Menlo\", monospace;;\n",
       "    font-size: 13px;\n",
       "    color: #555;\n",
       "    margin-left: 4px;\n",
       "    line-height: 19px;\n",
       "  }\n",
       "</style>\n",
       "<div class=\"ansiout\">107152\n",
       "</div>"
      ]
     },
     "metadata": {
      "application/vnd.databricks.v1+output": {
       "addedWidgets": {},
       "arguments": {},
       "data": "<div class=\"ansiout\">107152\n</div>",
       "datasetInfos": [],
       "metadata": {},
       "removedWidgets": [],
       "type": "html"
      }
     },
     "output_type": "display_data"
    }
   ],
   "source": [
    "parsed_posts = rdd_posts.map(parse_posts).filter(lambda x: x!= 'Empty')\n",
    "\n",
    "parsed_posts.count()"
   ]
  },
  {
   "cell_type": "code",
   "execution_count": 0,
   "metadata": {
    "application/vnd.databricks.v1+cell": {
     "inputWidgets": {},
     "nuid": "427a9163-f8bd-430b-a3c5-1f07b5651439",
     "showTitle": false,
     "title": ""
    }
   },
   "outputs": [
    {
     "data": {
      "text/html": [
       "<style scoped>\n",
       "  .ansiout {\n",
       "    display: block;\n",
       "    unicode-bidi: embed;\n",
       "    white-space: pre-wrap;\n",
       "    word-wrap: break-word;\n",
       "    word-break: break-all;\n",
       "    font-family: \"Source Code Pro\", \"Menlo\", monospace;;\n",
       "    font-size: 13px;\n",
       "    color: #555;\n",
       "    margin-left: 4px;\n",
       "    line-height: 19px;\n",
       "  }\n",
       "</style>\n",
       "<div class=\"ansiout\"></div>"
      ]
     },
     "metadata": {
      "application/vnd.databricks.v1+output": {
       "addedWidgets": {},
       "arguments": {},
       "data": "<div class=\"ansiout\"></div>",
       "datasetInfos": [],
       "metadata": {},
       "removedWidgets": [],
       "type": "html"
      }
     },
     "output_type": "display_data"
    }
   ],
   "source": [
    "# Function to parse questions.\n",
    "def parse_questions(line):\n",
    "    if '<row'in line:\n",
    "        try:\n",
    "            root = ET.fromstring(line.encode('utf8').strip())\n",
    "        except:\n",
    "            pass\n",
    "            return (\"Empty\")\n",
    "            \n",
    "        if root != '':\n",
    "            if \"OwnerUserId\" in root.attrib:\n",
    "                p_type = root.attrib[\"PostTypeId\"]\n",
    "                owner = root.attrib[\"OwnerUserId\"]\n",
    "                if p_type == '1':\n",
    "                    score = float(root.attrib[\"Score\"])\n",
    "                    views = float(root.attrib[\"ViewCount\"])\n",
    "                    answers = float(root.attrib[\"AnswerCount\"])\n",
    "                    create_date = root.attrib[\"CreationDate\"] \n",
    "                    favs = 0.\n",
    "                    try:\n",
    "                        favs = float(root.attrib[\"FavoriteCount\"])\n",
    "                    except:\n",
    "                        pass\n",
    "\n",
    "                    return(owner, [create_date, score, views, answers, favs])\n",
    "                else:\n",
    "                    return(\"Empty\")\n",
    "            else:\n",
    "                return(\"Empty\")\n",
    "        else:\n",
    "            return(\"Empty\")\n",
    "    else:\n",
    "        return(\"Empty\")"
   ]
  },
  {
   "cell_type": "code",
   "execution_count": 0,
   "metadata": {
    "application/vnd.databricks.v1+cell": {
     "inputWidgets": {},
     "nuid": "b1740140-0b0c-4339-b687-18cf913161ed",
     "showTitle": false,
     "title": ""
    }
   },
   "outputs": [
    {
     "data": {
      "text/html": [
       "<style scoped>\n",
       "  .ansiout {\n",
       "    display: block;\n",
       "    unicode-bidi: embed;\n",
       "    white-space: pre-wrap;\n",
       "    word-wrap: break-word;\n",
       "    word-break: break-all;\n",
       "    font-family: \"Source Code Pro\", \"Menlo\", monospace;;\n",
       "    font-size: 13px;\n",
       "    color: #555;\n",
       "    margin-left: 4px;\n",
       "    line-height: 19px;\n",
       "  }\n",
       "</style>\n",
       "<div class=\"ansiout\">23133\n",
       "</div>"
      ]
     },
     "metadata": {
      "application/vnd.databricks.v1+output": {
       "addedWidgets": {},
       "arguments": {},
       "data": "<div class=\"ansiout\">23133\n</div>",
       "datasetInfos": [],
       "metadata": {},
       "removedWidgets": [],
       "type": "html"
      }
     },
     "output_type": "display_data"
    }
   ],
   "source": [
    "parsed_questions = rdd_posts.map(parse_questions).filter(lambda x: x!= \"Empty\")\\\n",
    "            .reduceByKey(min).map(lambda x: (x[0],x[1][1:]))\n",
    "parsed_questions.count()"
   ]
  },
  {
   "cell_type": "code",
   "execution_count": 0,
   "metadata": {
    "application/vnd.databricks.v1+cell": {
     "inputWidgets": {},
     "nuid": "e90d09aa-57b3-4ae4-a18a-a3d94565c843",
     "showTitle": false,
     "title": ""
    }
   },
   "outputs": [
    {
     "data": {
      "text/html": [
       "<style scoped>\n",
       "  .ansiout {\n",
       "    display: block;\n",
       "    unicode-bidi: embed;\n",
       "    white-space: pre-wrap;\n",
       "    word-wrap: break-word;\n",
       "    word-break: break-all;\n",
       "    font-family: \"Source Code Pro\", \"Menlo\", monospace;;\n",
       "    font-size: 13px;\n",
       "    color: #555;\n",
       "    margin-left: 4px;\n",
       "    line-height: 19px;\n",
       "  }\n",
       "</style>\n",
       "<div class=\"ansiout\">[(&#39;23994&#39;, [-1.0, 33.0, 1.0, 0.0]), (&#39;61518&#39;, [4.0, 173.0, 1.0, 1.0]), (&#39;35549&#39;, [1.0, 390.0, 1.0, 0.0]), (&#39;36313&#39;, [3.0, 73.0, 0.0, 0.0]), (&#39;69951&#39;, [0.0, 15.0, 0.0, 0.0]), (&#39;11549&#39;, [2.0, 304.0, 1.0, 1.0]), (&#39;60913&#39;, [1.0, 12.0, 0.0, 0.0]), (&#39;17525&#39;, [3.0, 65.0, 2.0, 0.0]), (&#39;11384&#39;, [1.0, 264.0, 0.0, 0.0]), (&#39;43270&#39;, [0.0, 69.0, 1.0, 0.0])]\n",
       "</div>"
      ]
     },
     "metadata": {
      "application/vnd.databricks.v1+output": {
       "addedWidgets": {},
       "arguments": {},
       "data": "<div class=\"ansiout\">[(&#39;23994&#39;, [-1.0, 33.0, 1.0, 0.0]), (&#39;61518&#39;, [4.0, 173.0, 1.0, 1.0]), (&#39;35549&#39;, [1.0, 390.0, 1.0, 0.0]), (&#39;36313&#39;, [3.0, 73.0, 0.0, 0.0]), (&#39;69951&#39;, [0.0, 15.0, 0.0, 0.0]), (&#39;11549&#39;, [2.0, 304.0, 1.0, 1.0]), (&#39;60913&#39;, [1.0, 12.0, 0.0, 0.0]), (&#39;17525&#39;, [3.0, 65.0, 2.0, 0.0]), (&#39;11384&#39;, [1.0, 264.0, 0.0, 0.0]), (&#39;43270&#39;, [0.0, 69.0, 1.0, 0.0])]\n</div>",
       "datasetInfos": [],
       "metadata": {},
       "removedWidgets": [],
       "type": "html"
      }
     },
     "output_type": "display_data"
    }
   ],
   "source": [
    "parsed_questions.take(10)"
   ]
  },
  {
   "cell_type": "code",
   "execution_count": 0,
   "metadata": {
    "application/vnd.databricks.v1+cell": {
     "inputWidgets": {},
     "nuid": "01ceb744-df61-42a4-8303-67e06d093ba3",
     "showTitle": false,
     "title": ""
    }
   },
   "outputs": [
    {
     "data": {
      "text/html": [
       "<style scoped>\n",
       "  .ansiout {\n",
       "    display: block;\n",
       "    unicode-bidi: embed;\n",
       "    white-space: pre-wrap;\n",
       "    word-wrap: break-word;\n",
       "    word-break: break-all;\n",
       "    font-family: \"Source Code Pro\", \"Menlo\", monospace;;\n",
       "    font-size: 13px;\n",
       "    color: #555;\n",
       "    margin-left: 4px;\n",
       "    line-height: 19px;\n",
       "  }\n",
       "</style>\n",
       "<div class=\"ansiout\"></div>"
      ]
     },
     "metadata": {
      "application/vnd.databricks.v1+output": {
       "addedWidgets": {},
       "arguments": {},
       "data": "<div class=\"ansiout\"></div>",
       "datasetInfos": [],
       "metadata": {},
       "removedWidgets": [],
       "type": "html"
      }
     },
     "output_type": "display_data"
    }
   ],
   "source": [
    "from datetime import datetime\n",
    "import time"
   ]
  },
  {
   "cell_type": "code",
   "execution_count": 0,
   "metadata": {
    "application/vnd.databricks.v1+cell": {
     "inputWidgets": {},
     "nuid": "9c150d89-41fc-4023-9049-81ee1ac4c639",
     "showTitle": false,
     "title": ""
    }
   },
   "outputs": [
    {
     "data": {
      "text/html": [
       "<style scoped>\n",
       "  .ansiout {\n",
       "    display: block;\n",
       "    unicode-bidi: embed;\n",
       "    white-space: pre-wrap;\n",
       "    word-wrap: break-word;\n",
       "    word-break: break-all;\n",
       "    font-family: \"Source Code Pro\", \"Menlo\", monospace;;\n",
       "    font-size: 13px;\n",
       "    color: #555;\n",
       "    margin-left: 4px;\n",
       "    line-height: 19px;\n",
       "  }\n",
       "</style>\n",
       "<div class=\"ansiout\"></div>"
      ]
     },
     "metadata": {
      "application/vnd.databricks.v1+output": {
       "addedWidgets": {},
       "arguments": {},
       "data": "<div class=\"ansiout\"></div>",
       "datasetInfos": [],
       "metadata": {},
       "removedWidgets": [],
       "type": "html"
      }
     },
     "output_type": "display_data"
    }
   ],
   "source": [
    "# Function to find whether user has posted between 100 and 150 days.\n",
    "def date_conversion (date1, date2):  \n",
    "    obj1= datetime.strptime(date1, \"%Y-%m-%dT%H:%M:%S.%f\")\n",
    "    obj2= datetime.strptime(date2, \"%Y-%m-%dT%H:%M:%S.%f\")\n",
    "    diff = obj2- obj1\n",
    "    diff_sec = diff.total_seconds()\n",
    "    if diff_sec > 8640000 and diff_sec < 12960000:\n",
    "        return 1\n",
    "    else:\n",
    "        return 0"
   ]
  },
  {
   "cell_type": "code",
   "execution_count": 0,
   "metadata": {
    "application/vnd.databricks.v1+cell": {
     "inputWidgets": {},
     "nuid": "df8d3ed4-8bb6-4a0f-918b-69320ac52b77",
     "showTitle": false,
     "title": ""
    }
   },
   "outputs": [
    {
     "data": {
      "text/html": [
       "<style scoped>\n",
       "  .ansiout {\n",
       "    display: block;\n",
       "    unicode-bidi: embed;\n",
       "    white-space: pre-wrap;\n",
       "    word-wrap: break-word;\n",
       "    word-break: break-all;\n",
       "    font-family: \"Source Code Pro\", \"Menlo\", monospace;;\n",
       "    font-size: 13px;\n",
       "    color: #555;\n",
       "    margin-left: 4px;\n",
       "    line-height: 19px;\n",
       "  }\n",
       "</style>\n",
       "<div class=\"ansiout\"></div>"
      ]
     },
     "metadata": {
      "application/vnd.databricks.v1+output": {
       "addedWidgets": {},
       "arguments": {},
       "data": "<div class=\"ansiout\"></div>",
       "datasetInfos": [],
       "metadata": {},
       "removedWidgets": [],
       "type": "html"
      }
     },
     "output_type": "display_data"
    }
   ],
   "source": [
    "# More than 1 post is veteran otherwise brief user.\n",
    "def transform(x):\n",
    "    if x[1]>=1:\n",
    "        veteran =1\n",
    "    else:\n",
    "        veteran= 0\n",
    "    return (x[0],veteran)"
   ]
  },
  {
   "cell_type": "code",
   "execution_count": 0,
   "metadata": {
    "application/vnd.databricks.v1+cell": {
     "inputWidgets": {},
     "nuid": "6f8a7450-8efb-4b31-91cb-91ccf8e72de7",
     "showTitle": false,
     "title": ""
    }
   },
   "outputs": [
    {
     "data": {
      "text/html": [
       "<style scoped>\n",
       "  .ansiout {\n",
       "    display: block;\n",
       "    unicode-bidi: embed;\n",
       "    white-space: pre-wrap;\n",
       "    word-wrap: break-word;\n",
       "    word-break: break-all;\n",
       "    font-family: \"Source Code Pro\", \"Menlo\", monospace;;\n",
       "    font-size: 13px;\n",
       "    color: #555;\n",
       "    margin-left: 4px;\n",
       "    line-height: 19px;\n",
       "  }\n",
       "</style>\n",
       "<div class=\"ansiout\"></div>"
      ]
     },
     "metadata": {
      "application/vnd.databricks.v1+output": {
       "addedWidgets": {},
       "arguments": {},
       "data": "<div class=\"ansiout\"></div>",
       "datasetInfos": [],
       "metadata": {},
       "removedWidgets": [],
       "type": "html"
      }
     },
     "output_type": "display_data"
    }
   ],
   "source": [
    "# Combining users and posts.\n",
    "combined = parsed_users.join(parsed_posts).map(lambda x: (x[0], date_conversion(x[1][0], x[1][1])))\\\n",
    "        .reduceByKey(lambda x,y: x+y).map(transform)"
   ]
  },
  {
   "cell_type": "code",
   "execution_count": 0,
   "metadata": {
    "application/vnd.databricks.v1+cell": {
     "inputWidgets": {},
     "nuid": "9c1407ad-99c4-4485-8f81-4217c4ac916f",
     "showTitle": false,
     "title": ""
    }
   },
   "outputs": [
    {
     "data": {
      "text/html": [
       "<style scoped>\n",
       "  .ansiout {\n",
       "    display: block;\n",
       "    unicode-bidi: embed;\n",
       "    white-space: pre-wrap;\n",
       "    word-wrap: break-word;\n",
       "    word-break: break-all;\n",
       "    font-family: \"Source Code Pro\", \"Menlo\", monospace;;\n",
       "    font-size: 13px;\n",
       "    color: #555;\n",
       "    margin-left: 4px;\n",
       "    line-height: 19px;\n",
       "  }\n",
       "</style>\n",
       "<div class=\"ansiout\">[(&#39;23991&#39;, 0), (&#39;55619&#39;, 0), (&#39;55344&#39;, 0), (&#39;35549&#39;, 0), (&#39;22465&#39;, 0), (&#39;69953&#39;, 0), (&#39;13732&#39;, 1), (&#39;11549&#39;, 0), (&#39;28999&#39;, 0), (&#39;4028&#39;, 0)]\n",
       "</div>"
      ]
     },
     "metadata": {
      "application/vnd.databricks.v1+output": {
       "addedWidgets": {},
       "arguments": {},
       "data": "<div class=\"ansiout\">[(&#39;23991&#39;, 0), (&#39;55619&#39;, 0), (&#39;55344&#39;, 0), (&#39;35549&#39;, 0), (&#39;22465&#39;, 0), (&#39;69953&#39;, 0), (&#39;13732&#39;, 1), (&#39;11549&#39;, 0), (&#39;28999&#39;, 0), (&#39;4028&#39;, 0)]\n</div>",
       "datasetInfos": [],
       "metadata": {},
       "removedWidgets": [],
       "type": "html"
      }
     },
     "output_type": "display_data"
    }
   ],
   "source": [
    "combined.take(10)"
   ]
  },
  {
   "cell_type": "code",
   "execution_count": 0,
   "metadata": {
    "application/vnd.databricks.v1+cell": {
     "inputWidgets": {},
     "nuid": "27014398-5864-49b1-a67c-8dfe7aadd4b5",
     "showTitle": false,
     "title": ""
    }
   },
   "outputs": [
    {
     "data": {
      "text/html": [
       "<style scoped>\n",
       "  .ansiout {\n",
       "    display: block;\n",
       "    unicode-bidi: embed;\n",
       "    white-space: pre-wrap;\n",
       "    word-wrap: break-word;\n",
       "    word-break: break-all;\n",
       "    font-family: \"Source Code Pro\", \"Menlo\", monospace;;\n",
       "    font-size: 13px;\n",
       "    color: #555;\n",
       "    margin-left: 4px;\n",
       "    line-height: 19px;\n",
       "  }\n",
       "</style>\n",
       "<div class=\"ansiout\"></div>"
      ]
     },
     "metadata": {
      "application/vnd.databricks.v1+output": {
       "addedWidgets": {},
       "arguments": {},
       "data": "<div class=\"ansiout\"></div>",
       "datasetInfos": [],
       "metadata": {},
       "removedWidgets": [],
       "type": "html"
      }
     },
     "output_type": "display_data"
    }
   ],
   "source": [
    "# Combining classification and questions.\n",
    "veterans = combined.join(parsed_questions).map(lambda x: (x[1][0], x[1][1]+[1]))\\\n",
    "            .reduceByKey(lambda x,y: np.add(x,y))\\\n",
    "            .map(lambda x: (x[0], [x[1][0]/x[1][4], x[1][1]/x[1][4], x[1][2]/x[1][4], x[1][3]/x[1][4]]))"
   ]
  },
  {
   "cell_type": "code",
   "execution_count": 0,
   "metadata": {
    "application/vnd.databricks.v1+cell": {
     "inputWidgets": {},
     "nuid": "4c9a0ee1-7849-4a45-906e-258712193a3d",
     "showTitle": false,
     "title": ""
    }
   },
   "outputs": [
    {
     "data": {
      "text/html": [
       "<style scoped>\n",
       "  .ansiout {\n",
       "    display: block;\n",
       "    unicode-bidi: embed;\n",
       "    white-space: pre-wrap;\n",
       "    word-wrap: break-word;\n",
       "    word-break: break-all;\n",
       "    font-family: \"Source Code Pro\", \"Menlo\", monospace;;\n",
       "    font-size: 13px;\n",
       "    color: #555;\n",
       "    margin-left: 4px;\n",
       "    line-height: 19px;\n",
       "  }\n",
       "</style>\n",
       "<div class=\"ansiout\">Out[47]: [(0,\n",
       "  [7.491609081934847,\n",
       "   2919.062191510365,\n",
       "   2.4777887462981245,\n",
       "   3.5735439289239883]),\n",
       " (1,\n",
       "  [10.171270718232044,\n",
       "   3450.453038674033,\n",
       "   2.9060773480662982,\n",
       "   5.574585635359116])]</div>"
      ]
     },
     "metadata": {
      "application/vnd.databricks.v1+output": {
       "addedWidgets": {},
       "arguments": {},
       "data": "<div class=\"ansiout\">Out[47]: [(0,\n  [7.491609081934847,\n   2919.062191510365,\n   2.4777887462981245,\n   3.5735439289239883]),\n (1,\n  [10.171270718232044,\n   3450.453038674033,\n   2.9060773480662982,\n   5.574585635359116])]</div>",
       "datasetInfos": [],
       "metadata": {},
       "removedWidgets": [],
       "type": "html"
      }
     },
     "output_type": "display_data"
    }
   ],
   "source": [
    "veterans.take(5)"
   ]
  },
  {
   "cell_type": "markdown",
   "metadata": {},
   "source": [
    "</br></br>"
   ]
  },
  {
   "cell_type": "markdown",
   "metadata": {
    "application/vnd.databricks.v1+cell": {
     "inputWidgets": {},
     "nuid": "c65a3cd0-bcc3-4e64-8816-ab235d961046",
     "showTitle": false,
     "title": ""
    }
   },
   "source": [
    "### Identify veterans for full data/stack"
   ]
  },
  {
   "cell_type": "code",
   "execution_count": 0,
   "metadata": {
    "application/vnd.databricks.v1+cell": {
     "inputWidgets": {},
     "nuid": "f6536be4-e1f1-4fb0-a829-afa4a55c7903",
     "showTitle": false,
     "title": ""
    }
   },
   "outputs": [
    {
     "data": {
      "text/html": [
       "<style scoped>\n",
       "  .ansiout {\n",
       "    display: block;\n",
       "    unicode-bidi: embed;\n",
       "    white-space: pre-wrap;\n",
       "    word-wrap: break-word;\n",
       "    word-break: break-all;\n",
       "    font-family: \"Source Code Pro\", \"Menlo\", monospace;;\n",
       "    font-size: 13px;\n",
       "    color: #555;\n",
       "    margin-left: 4px;\n",
       "    line-height: 19px;\n",
       "  }\n",
       "</style>\n",
       "<div class=\"ansiout\">47946654\n",
       "</div>"
      ]
     },
     "metadata": {
      "application/vnd.databricks.v1+output": {
       "addedWidgets": {},
       "arguments": {},
       "data": "<div class=\"ansiout\">47946654\n</div>",
       "datasetInfos": [],
       "metadata": {},
       "removedWidgets": [],
       "type": "html"
      }
     },
     "output_type": "display_data"
    }
   ],
   "source": [
    "rdd_posts = sc.textFile(localpath('/spark-stack-data/allPosts/')) \n",
    "rdd_posts.count()"
   ]
  },
  {
   "cell_type": "code",
   "execution_count": 0,
   "metadata": {
    "application/vnd.databricks.v1+cell": {
     "inputWidgets": {},
     "nuid": "62738349-fbbb-48a4-a7c1-ed335f9d6699",
     "showTitle": false,
     "title": ""
    }
   },
   "outputs": [
    {
     "data": {
      "text/html": [
       "<style scoped>\n",
       "  .ansiout {\n",
       "    display: block;\n",
       "    unicode-bidi: embed;\n",
       "    white-space: pre-wrap;\n",
       "    word-wrap: break-word;\n",
       "    word-break: break-all;\n",
       "    font-family: \"Source Code Pro\", \"Menlo\", monospace;;\n",
       "    font-size: 13px;\n",
       "    color: #555;\n",
       "    margin-left: 4px;\n",
       "    line-height: 19px;\n",
       "  }\n",
       "</style>\n",
       "<div class=\"ansiout\">7978096\n",
       "</div>"
      ]
     },
     "metadata": {
      "application/vnd.databricks.v1+output": {
       "addedWidgets": {},
       "arguments": {},
       "data": "<div class=\"ansiout\">7978096\n</div>",
       "datasetInfos": [],
       "metadata": {},
       "removedWidgets": [],
       "type": "html"
      }
     },
     "output_type": "display_data"
    }
   ],
   "source": [
    "rdd_users = sc.textFile(localpath('/spark-stack-data/allUsers/')) \n",
    "rdd_users.count()"
   ]
  },
  {
   "cell_type": "code",
   "execution_count": 0,
   "metadata": {
    "application/vnd.databricks.v1+cell": {
     "inputWidgets": {},
     "nuid": "4bfbeae8-2452-42d0-ae78-fa7e0f14684f",
     "showTitle": false,
     "title": ""
    }
   },
   "outputs": [
    {
     "data": {
      "text/html": [
       "<style scoped>\n",
       "  .ansiout {\n",
       "    display: block;\n",
       "    unicode-bidi: embed;\n",
       "    white-space: pre-wrap;\n",
       "    word-wrap: break-word;\n",
       "    word-break: break-all;\n",
       "    font-family: \"Source Code Pro\", \"Menlo\", monospace;;\n",
       "    font-size: 13px;\n",
       "    color: #555;\n",
       "    margin-left: 4px;\n",
       "    line-height: 19px;\n",
       "  }\n",
       "</style>\n",
       "<div class=\"ansiout\"></div>"
      ]
     },
     "metadata": {
      "application/vnd.databricks.v1+output": {
       "addedWidgets": {},
       "arguments": {},
       "data": "<div class=\"ansiout\"></div>",
       "datasetInfos": [],
       "metadata": {},
       "removedWidgets": [],
       "type": "html"
      }
     },
     "output_type": "display_data"
    }
   ],
   "source": [
    "# Function to parse users.\n",
    "def parse_users(line):\n",
    "    if '<row' in line:\n",
    "        try:\n",
    "            root = ET.fromstring(line.encode('utf8'))\n",
    "        except:\n",
    "            pass\n",
    "            return (\"Empty\")\n",
    "            \n",
    "        if root != '':\n",
    "            if \"Id\" and \"CreationDate\" in root.attrib:\n",
    "                return(root.attrib[\"Id\"], root.attrib[\"CreationDate\"])\n",
    "            else:\n",
    "                return(\"Empty\")\n",
    "        else:\n",
    "            return(\"Empty\")\n",
    "    else:\n",
    "        return(\"Empty\")"
   ]
  },
  {
   "cell_type": "code",
   "execution_count": 0,
   "metadata": {
    "application/vnd.databricks.v1+cell": {
     "inputWidgets": {},
     "nuid": "982d5680-b05c-4557-b012-bc16565090ba",
     "showTitle": false,
     "title": ""
    }
   },
   "outputs": [
    {
     "data": {
      "text/html": [
       "<style scoped>\n",
       "  .ansiout {\n",
       "    display: block;\n",
       "    unicode-bidi: embed;\n",
       "    white-space: pre-wrap;\n",
       "    word-wrap: break-word;\n",
       "    word-break: break-all;\n",
       "    font-family: \"Source Code Pro\", \"Menlo\", monospace;;\n",
       "    font-size: 13px;\n",
       "    color: #555;\n",
       "    margin-left: 4px;\n",
       "    line-height: 19px;\n",
       "  }\n",
       "</style>\n",
       "<div class=\"ansiout\">4016017\n",
       "</div>"
      ]
     },
     "metadata": {
      "application/vnd.databricks.v1+output": {
       "addedWidgets": {},
       "arguments": {},
       "data": "<div class=\"ansiout\">4016017\n</div>",
       "datasetInfos": [],
       "metadata": {},
       "removedWidgets": [],
       "type": "html"
      }
     },
     "output_type": "display_data"
    }
   ],
   "source": [
    "parsed_users = rdd_users.map(parse_users).filter(lambda x: x!= 'Empty')\n",
    "parsed_users.count()"
   ]
  },
  {
   "cell_type": "code",
   "execution_count": 0,
   "metadata": {
    "application/vnd.databricks.v1+cell": {
     "inputWidgets": {},
     "nuid": "bc64c210-2b99-4125-9e48-ffc8ecd63206",
     "showTitle": false,
     "title": ""
    }
   },
   "outputs": [
    {
     "data": {
      "text/html": [
       "<style scoped>\n",
       "  .ansiout {\n",
       "    display: block;\n",
       "    unicode-bidi: embed;\n",
       "    white-space: pre-wrap;\n",
       "    word-wrap: break-word;\n",
       "    word-break: break-all;\n",
       "    font-family: \"Source Code Pro\", \"Menlo\", monospace;;\n",
       "    font-size: 13px;\n",
       "    color: #555;\n",
       "    margin-left: 4px;\n",
       "    line-height: 19px;\n",
       "  }\n",
       "</style>\n",
       "<div class=\"ansiout\">[(&#39;2629093&#39;, &#39;2013-07-29T06:01:42.410&#39;), (&#39;2629094&#39;, &#39;2013-07-29T06:02:00.537&#39;), (&#39;2629095&#39;, &#39;2013-07-29T06:02:44.543&#39;), (&#39;2629096&#39;, &#39;2013-07-29T06:04:16.690&#39;), (&#39;2629097&#39;, &#39;2013-07-29T06:04:34.343&#39;), (&#39;2629098&#39;, &#39;2013-07-29T06:04:58.327&#39;), (&#39;2629099&#39;, &#39;2013-07-29T06:05:24.410&#39;), (&#39;2629100&#39;, &#39;2013-07-29T06:05:31.910&#39;), (&#39;2629101&#39;, &#39;2013-07-29T06:05:33.473&#39;), (&#39;2629102&#39;, &#39;2013-07-29T06:05:49.413&#39;)]\n",
       "</div>"
      ]
     },
     "metadata": {
      "application/vnd.databricks.v1+output": {
       "addedWidgets": {},
       "arguments": {},
       "data": "<div class=\"ansiout\">[(&#39;2629093&#39;, &#39;2013-07-29T06:01:42.410&#39;), (&#39;2629094&#39;, &#39;2013-07-29T06:02:00.537&#39;), (&#39;2629095&#39;, &#39;2013-07-29T06:02:44.543&#39;), (&#39;2629096&#39;, &#39;2013-07-29T06:04:16.690&#39;), (&#39;2629097&#39;, &#39;2013-07-29T06:04:34.343&#39;), (&#39;2629098&#39;, &#39;2013-07-29T06:04:58.327&#39;), (&#39;2629099&#39;, &#39;2013-07-29T06:05:24.410&#39;), (&#39;2629100&#39;, &#39;2013-07-29T06:05:31.910&#39;), (&#39;2629101&#39;, &#39;2013-07-29T06:05:33.473&#39;), (&#39;2629102&#39;, &#39;2013-07-29T06:05:49.413&#39;)]\n</div>",
       "datasetInfos": [],
       "metadata": {},
       "removedWidgets": [],
       "type": "html"
      }
     },
     "output_type": "display_data"
    }
   ],
   "source": [
    "parsed_users.take(10)"
   ]
  },
  {
   "cell_type": "code",
   "execution_count": 0,
   "metadata": {
    "application/vnd.databricks.v1+cell": {
     "inputWidgets": {},
     "nuid": "84bbb5f1-5f8c-4011-a0d6-b01e121ce6f5",
     "showTitle": false,
     "title": ""
    }
   },
   "outputs": [
    {
     "data": {
      "text/html": [
       "<style scoped>\n",
       "  .ansiout {\n",
       "    display: block;\n",
       "    unicode-bidi: embed;\n",
       "    white-space: pre-wrap;\n",
       "    word-wrap: break-word;\n",
       "    word-break: break-all;\n",
       "    font-family: \"Source Code Pro\", \"Menlo\", monospace;;\n",
       "    font-size: 13px;\n",
       "    color: #555;\n",
       "    margin-left: 4px;\n",
       "    line-height: 19px;\n",
       "  }\n",
       "</style>\n",
       "<div class=\"ansiout\"></div>"
      ]
     },
     "metadata": {
      "application/vnd.databricks.v1+output": {
       "addedWidgets": {},
       "arguments": {},
       "data": "<div class=\"ansiout\"></div>",
       "datasetInfos": [],
       "metadata": {},
       "removedWidgets": [],
       "type": "html"
      }
     },
     "output_type": "display_data"
    }
   ],
   "source": [
    "# Function to parse posts.\n",
    "def parse_posts(line):\n",
    "    if '<row' in line:\n",
    "        try:\n",
    "            root = ET.fromstring(line.encode('utf8'))\n",
    "        except:\n",
    "            pass\n",
    "            return (\"Empty\")            \n",
    "        if root != '':\n",
    "            if \"CreationDate\" in root.attrib:\n",
    "                try:\n",
    "                    return (root.attrib[\"OwnerUserId\"], root.attrib[\"CreationDate\"])\n",
    "                except:\n",
    "                    pass\n",
    "                    return (\"Empty\")\n",
    "            else:\n",
    "                return(\"Empty\")\n",
    "        else:\n",
    "            return(\"Empty\")\n",
    "    else:\n",
    "        return(\"Empty\")"
   ]
  },
  {
   "cell_type": "code",
   "execution_count": 0,
   "metadata": {
    "application/vnd.databricks.v1+cell": {
     "inputWidgets": {},
     "nuid": "7161ae8f-8211-43c2-8060-525be5d2affe",
     "showTitle": false,
     "title": ""
    }
   },
   "outputs": [
    {
     "data": {
      "text/html": [
       "<style scoped>\n",
       "  .ansiout {\n",
       "    display: block;\n",
       "    unicode-bidi: embed;\n",
       "    white-space: pre-wrap;\n",
       "    word-wrap: break-word;\n",
       "    word-break: break-all;\n",
       "    font-family: \"Source Code Pro\", \"Menlo\", monospace;;\n",
       "    font-size: 13px;\n",
       "    color: #555;\n",
       "    margin-left: 4px;\n",
       "    line-height: 19px;\n",
       "  }\n",
       "</style>\n",
       "<div class=\"ansiout\">23875001\n",
       "</div>"
      ]
     },
     "metadata": {
      "application/vnd.databricks.v1+output": {
       "addedWidgets": {},
       "arguments": {},
       "data": "<div class=\"ansiout\">23875001\n</div>",
       "datasetInfos": [],
       "metadata": {},
       "removedWidgets": [],
       "type": "html"
      }
     },
     "output_type": "display_data"
    }
   ],
   "source": [
    "parsed_posts = rdd_posts.map(parse_posts).filter(lambda x: x!= 'Empty')\n",
    "\n",
    "parsed_posts.count()"
   ]
  },
  {
   "cell_type": "code",
   "execution_count": 0,
   "metadata": {
    "application/vnd.databricks.v1+cell": {
     "inputWidgets": {},
     "nuid": "d90e0af4-04a6-4df2-ae88-d637677928ab",
     "showTitle": false,
     "title": ""
    }
   },
   "outputs": [
    {
     "data": {
      "text/html": [
       "<style scoped>\n",
       "  .ansiout {\n",
       "    display: block;\n",
       "    unicode-bidi: embed;\n",
       "    white-space: pre-wrap;\n",
       "    word-wrap: break-word;\n",
       "    word-break: break-all;\n",
       "    font-family: \"Source Code Pro\", \"Menlo\", monospace;;\n",
       "    font-size: 13px;\n",
       "    color: #555;\n",
       "    margin-left: 4px;\n",
       "    line-height: 19px;\n",
       "  }\n",
       "</style>\n",
       "<div class=\"ansiout\">[(&#39;2433934&#39;, &#39;2014-04-22T06:15:07.070&#39;), (&#39;1692695&#39;, &#39;2014-04-22T06:15:07.190&#39;), (&#39;2655465&#39;, &#39;2014-04-22T06:15:33.113&#39;), (&#39;3189313&#39;, &#39;2014-04-22T06:15:37.650&#39;), (&#39;3330929&#39;, &#39;2014-04-22T06:15:46.763&#39;), (&#39;3557296&#39;, &#39;2014-04-22T06:15:59.837&#39;), (&#39;692977&#39;, &#39;2014-04-22T06:16:00.200&#39;), (&#39;3557098&#39;, &#39;2014-04-22T06:16:03.460&#39;), (&#39;2616474&#39;, &#39;2014-04-22T06:16:04.017&#39;), (&#39;2020444&#39;, &#39;2014-04-22T06:16:05.267&#39;), (&#39;133802&#39;, &#39;2014-04-22T06:16:11.333&#39;), (&#39;418864&#39;, &#39;2014-04-22T06:16:11.633&#39;), (&#39;2846794&#39;, &#39;2014-04-22T06:16:12.743&#39;), (&#39;1915323&#39;, &#39;2014-04-22T06:16:12.957&#39;), (&#39;2541124&#39;, &#39;2014-04-22T06:16:15.587&#39;), (&#39;1060208&#39;, &#39;2014-04-22T06:16:19.550&#39;), (&#39;2156712&#39;, &#39;2014-04-22T06:16:20.430&#39;), (&#39;2504224&#39;, &#39;2014-04-22T06:16:21.340&#39;), (&#39;1446916&#39;, &#39;2014-04-22T06:16:22.707&#39;), (&#39;3319147&#39;, &#39;2014-04-22T06:16:26.467&#39;)]\n",
       "</div>"
      ]
     },
     "metadata": {
      "application/vnd.databricks.v1+output": {
       "addedWidgets": {},
       "arguments": {},
       "data": "<div class=\"ansiout\">[(&#39;2433934&#39;, &#39;2014-04-22T06:15:07.070&#39;), (&#39;1692695&#39;, &#39;2014-04-22T06:15:07.190&#39;), (&#39;2655465&#39;, &#39;2014-04-22T06:15:33.113&#39;), (&#39;3189313&#39;, &#39;2014-04-22T06:15:37.650&#39;), (&#39;3330929&#39;, &#39;2014-04-22T06:15:46.763&#39;), (&#39;3557296&#39;, &#39;2014-04-22T06:15:59.837&#39;), (&#39;692977&#39;, &#39;2014-04-22T06:16:00.200&#39;), (&#39;3557098&#39;, &#39;2014-04-22T06:16:03.460&#39;), (&#39;2616474&#39;, &#39;2014-04-22T06:16:04.017&#39;), (&#39;2020444&#39;, &#39;2014-04-22T06:16:05.267&#39;), (&#39;133802&#39;, &#39;2014-04-22T06:16:11.333&#39;), (&#39;418864&#39;, &#39;2014-04-22T06:16:11.633&#39;), (&#39;2846794&#39;, &#39;2014-04-22T06:16:12.743&#39;), (&#39;1915323&#39;, &#39;2014-04-22T06:16:12.957&#39;), (&#39;2541124&#39;, &#39;2014-04-22T06:16:15.587&#39;), (&#39;1060208&#39;, &#39;2014-04-22T06:16:19.550&#39;), (&#39;2156712&#39;, &#39;2014-04-22T06:16:20.430&#39;), (&#39;2504224&#39;, &#39;2014-04-22T06:16:21.340&#39;), (&#39;1446916&#39;, &#39;2014-04-22T06:16:22.707&#39;), (&#39;3319147&#39;, &#39;2014-04-22T06:16:26.467&#39;)]\n</div>",
       "datasetInfos": [],
       "metadata": {},
       "removedWidgets": [],
       "type": "html"
      }
     },
     "output_type": "display_data"
    }
   ],
   "source": [
    "parsed_posts.take(20)"
   ]
  },
  {
   "cell_type": "code",
   "execution_count": 0,
   "metadata": {
    "application/vnd.databricks.v1+cell": {
     "inputWidgets": {},
     "nuid": "87d994a5-fb5f-4f8c-8577-cf08cb32f3a4",
     "showTitle": false,
     "title": ""
    }
   },
   "outputs": [
    {
     "data": {
      "text/html": [
       "<style scoped>\n",
       "  .ansiout {\n",
       "    display: block;\n",
       "    unicode-bidi: embed;\n",
       "    white-space: pre-wrap;\n",
       "    word-wrap: break-word;\n",
       "    word-break: break-all;\n",
       "    font-family: \"Source Code Pro\", \"Menlo\", monospace;;\n",
       "    font-size: 13px;\n",
       "    color: #555;\n",
       "    margin-left: 4px;\n",
       "    line-height: 19px;\n",
       "  }\n",
       "</style>\n",
       "<div class=\"ansiout\"></div>"
      ]
     },
     "metadata": {
      "application/vnd.databricks.v1+output": {
       "addedWidgets": {},
       "arguments": {},
       "data": "<div class=\"ansiout\"></div>",
       "datasetInfos": [],
       "metadata": {},
       "removedWidgets": [],
       "type": "html"
      }
     },
     "output_type": "display_data"
    }
   ],
   "source": [
    "# Function to parse questions.\n",
    "def parse_questions(line):\n",
    "    if '<row'in line:\n",
    "        try:\n",
    "            root = ET.fromstring(line.encode('utf8').strip())\n",
    "        except:\n",
    "            pass\n",
    "            return (\"Empty\")\n",
    "            \n",
    "        if root != '':\n",
    "            if \"OwnerUserId\" in root.attrib:\n",
    "                p_type = root.attrib[\"PostTypeId\"]\n",
    "                owner = root.attrib[\"OwnerUserId\"]\n",
    "                if p_type == '1':\n",
    "                    score = float(root.attrib[\"Score\"])\n",
    "                    views = float(root.attrib[\"ViewCount\"])\n",
    "                    answers = float(root.attrib[\"AnswerCount\"])\n",
    "                    create_date = root.attrib[\"CreationDate\"] \n",
    "                    favs = 0.\n",
    "                    try:\n",
    "                        favs = float(root.attrib[\"FavoriteCount\"])\n",
    "                    except:\n",
    "                        pass\n",
    "\n",
    "                    return(owner, [create_date, score, views, answers, favs])\n",
    "                else:\n",
    "                    return(\"Empty\")\n",
    "            else:\n",
    "                return(\"Empty\")\n",
    "        else:\n",
    "            return(\"Empty\")\n",
    "    else:\n",
    "        return(\"Empty\")"
   ]
  },
  {
   "cell_type": "code",
   "execution_count": 0,
   "metadata": {
    "application/vnd.databricks.v1+cell": {
     "inputWidgets": {},
     "nuid": "841063a0-8a3b-4df8-a5c0-a8424c99b129",
     "showTitle": false,
     "title": ""
    }
   },
   "outputs": [
    {
     "data": {
      "text/html": [
       "<style scoped>\n",
       "  .ansiout {\n",
       "    display: block;\n",
       "    unicode-bidi: embed;\n",
       "    white-space: pre-wrap;\n",
       "    word-wrap: break-word;\n",
       "    word-break: break-all;\n",
       "    font-family: \"Source Code Pro\", \"Menlo\", monospace;;\n",
       "    font-size: 13px;\n",
       "    color: #555;\n",
       "    margin-left: 4px;\n",
       "    line-height: 19px;\n",
       "  }\n",
       "</style>\n",
       "<div class=\"ansiout\">1664063\n",
       "</div>"
      ]
     },
     "metadata": {
      "application/vnd.databricks.v1+output": {
       "addedWidgets": {},
       "arguments": {},
       "data": "<div class=\"ansiout\">1664063\n</div>",
       "datasetInfos": [],
       "metadata": {},
       "removedWidgets": [],
       "type": "html"
      }
     },
     "output_type": "display_data"
    }
   ],
   "source": [
    "parsed_questions = rdd_posts.map(parse_questions).filter(lambda x: x!= \"Empty\")\\\n",
    "            .reduceByKey(min).map(lambda x: (x[0],x[1][1:]))\n",
    "parsed_questions.count()"
   ]
  },
  {
   "cell_type": "code",
   "execution_count": 0,
   "metadata": {
    "application/vnd.databricks.v1+cell": {
     "inputWidgets": {},
     "nuid": "ea8becf0-5b7c-48ee-b58d-97d9b51fc549",
     "showTitle": false,
     "title": ""
    }
   },
   "outputs": [
    {
     "data": {
      "text/html": [
       "<style scoped>\n",
       "  .ansiout {\n",
       "    display: block;\n",
       "    unicode-bidi: embed;\n",
       "    white-space: pre-wrap;\n",
       "    word-wrap: break-word;\n",
       "    word-break: break-all;\n",
       "    font-family: \"Source Code Pro\", \"Menlo\", monospace;;\n",
       "    font-size: 13px;\n",
       "    color: #555;\n",
       "    margin-left: 4px;\n",
       "    line-height: 19px;\n",
       "  }\n",
       "</style>\n",
       "<div class=\"ansiout\">[(&#39;400303&#39;, [0.0, 861.0, 1.0, 0.0]), (&#39;3233915&#39;, [0.0, 63.0, 1.0, 0.0]), (&#39;1394056&#39;, [1.0, 12115.0, 3.0, 0.0]), (&#39;1988847&#39;, [1.0, 1832.0, 1.0, 0.0]), (&#39;3382688&#39;, [1.0, 195.0, 1.0, 0.0]), (&#39;4022777&#39;, [-2.0, 28.0, 2.0, 0.0]), (&#39;4227558&#39;, [0.0, 16.0, 1.0, 0.0]), (&#39;656672&#39;, [3.0, 450.0, 1.0, 0.0]), (&#39;382512&#39;, [5.0, 13683.0, 3.0, 0.0]), (&#39;2811225&#39;, [0.0, 679.0, 1.0, 0.0])]\n",
       "</div>"
      ]
     },
     "metadata": {
      "application/vnd.databricks.v1+output": {
       "addedWidgets": {},
       "arguments": {},
       "data": "<div class=\"ansiout\">[(&#39;400303&#39;, [0.0, 861.0, 1.0, 0.0]), (&#39;3233915&#39;, [0.0, 63.0, 1.0, 0.0]), (&#39;1394056&#39;, [1.0, 12115.0, 3.0, 0.0]), (&#39;1988847&#39;, [1.0, 1832.0, 1.0, 0.0]), (&#39;3382688&#39;, [1.0, 195.0, 1.0, 0.0]), (&#39;4022777&#39;, [-2.0, 28.0, 2.0, 0.0]), (&#39;4227558&#39;, [0.0, 16.0, 1.0, 0.0]), (&#39;656672&#39;, [3.0, 450.0, 1.0, 0.0]), (&#39;382512&#39;, [5.0, 13683.0, 3.0, 0.0]), (&#39;2811225&#39;, [0.0, 679.0, 1.0, 0.0])]\n</div>",
       "datasetInfos": [],
       "metadata": {},
       "removedWidgets": [],
       "type": "html"
      }
     },
     "output_type": "display_data"
    }
   ],
   "source": [
    "parsed_questions.take(10)"
   ]
  },
  {
   "cell_type": "code",
   "execution_count": 0,
   "metadata": {
    "application/vnd.databricks.v1+cell": {
     "inputWidgets": {},
     "nuid": "83f539ae-8cbc-4b67-8047-02946d72f314",
     "showTitle": false,
     "title": ""
    }
   },
   "outputs": [
    {
     "data": {
      "text/html": [
       "<style scoped>\n",
       "  .ansiout {\n",
       "    display: block;\n",
       "    unicode-bidi: embed;\n",
       "    white-space: pre-wrap;\n",
       "    word-wrap: break-word;\n",
       "    word-break: break-all;\n",
       "    font-family: \"Source Code Pro\", \"Menlo\", monospace;;\n",
       "    font-size: 13px;\n",
       "    color: #555;\n",
       "    margin-left: 4px;\n",
       "    line-height: 19px;\n",
       "  }\n",
       "</style>\n",
       "<div class=\"ansiout\"></div>"
      ]
     },
     "metadata": {
      "application/vnd.databricks.v1+output": {
       "addedWidgets": {},
       "arguments": {},
       "data": "<div class=\"ansiout\"></div>",
       "datasetInfos": [],
       "metadata": {},
       "removedWidgets": [],
       "type": "html"
      }
     },
     "output_type": "display_data"
    }
   ],
   "source": [
    "# Function to find whether user has posted between 100 and 150 days.\n",
    "from datetime import datetime\n",
    "import time\n",
    "\n",
    "def date_conversions(date1, date2):  \n",
    "    obj1 = datetime.strptime(date1, \"%Y-%m-%dT%H:%M:%S.%f\")\n",
    "    obj2= datetime.strptime(date2, \"%Y-%m-%dT%H:%M:%S.%f\")\n",
    "    diff = obj2- obj1\n",
    "    diff_sec = diff.total_seconds()\n",
    "    if diff_sec > 8640000 and diff_sec < 12960000:\n",
    "        return 1\n",
    "    else:\n",
    "        return 0"
   ]
  },
  {
   "cell_type": "code",
   "execution_count": 0,
   "metadata": {
    "application/vnd.databricks.v1+cell": {
     "inputWidgets": {},
     "nuid": "b327a107-95ec-4929-995b-866877ef2f80",
     "showTitle": false,
     "title": ""
    }
   },
   "outputs": [
    {
     "data": {
      "text/html": [
       "<style scoped>\n",
       "  .ansiout {\n",
       "    display: block;\n",
       "    unicode-bidi: embed;\n",
       "    white-space: pre-wrap;\n",
       "    word-wrap: break-word;\n",
       "    word-break: break-all;\n",
       "    font-family: \"Source Code Pro\", \"Menlo\", monospace;;\n",
       "    font-size: 13px;\n",
       "    color: #555;\n",
       "    margin-left: 4px;\n",
       "    line-height: 19px;\n",
       "  }\n",
       "</style>\n",
       "<div class=\"ansiout\"></div>"
      ]
     },
     "metadata": {
      "application/vnd.databricks.v1+output": {
       "addedWidgets": {},
       "arguments": {},
       "data": "<div class=\"ansiout\"></div>",
       "datasetInfos": [],
       "metadata": {},
       "removedWidgets": [],
       "type": "html"
      }
     },
     "output_type": "display_data"
    }
   ],
   "source": [
    "# More than 1 post is veteran otherwise brief user.\n",
    "def transform(x):\n",
    "    if x[1]>=1:\n",
    "        veteran =1\n",
    "    else:\n",
    "        veteran = 0\n",
    "    return (x[0],veteran)"
   ]
  },
  {
   "cell_type": "code",
   "execution_count": 0,
   "metadata": {
    "application/vnd.databricks.v1+cell": {
     "inputWidgets": {},
     "nuid": "66783575-cd15-4b76-bd43-634fb2e2f3b0",
     "showTitle": false,
     "title": ""
    }
   },
   "outputs": [
    {
     "data": {
      "text/html": [
       "<style scoped>\n",
       "  .ansiout {\n",
       "    display: block;\n",
       "    unicode-bidi: embed;\n",
       "    white-space: pre-wrap;\n",
       "    word-wrap: break-word;\n",
       "    word-break: break-all;\n",
       "    font-family: \"Source Code Pro\", \"Menlo\", monospace;;\n",
       "    font-size: 13px;\n",
       "    color: #555;\n",
       "    margin-left: 4px;\n",
       "    line-height: 19px;\n",
       "  }\n",
       "</style>\n",
       "<div class=\"ansiout\">2134402\n",
       "</div>"
      ]
     },
     "metadata": {
      "application/vnd.databricks.v1+output": {
       "addedWidgets": {},
       "arguments": {},
       "data": "<div class=\"ansiout\">2134402\n</div>",
       "datasetInfos": [],
       "metadata": {},
       "removedWidgets": [],
       "type": "html"
      }
     },
     "output_type": "display_data"
    }
   ],
   "source": [
    "# Combining users and posts.\n",
    "combined = parsed_users.join(parsed_posts).map(lambda x: (x[0], date_conversion(x[1][0], x[1][1])))\\\n",
    "        .reduceByKey(lambda x,y: x+y).map(transform)\n",
    "combined.count()"
   ]
  },
  {
   "cell_type": "code",
   "execution_count": 0,
   "metadata": {
    "application/vnd.databricks.v1+cell": {
     "inputWidgets": {},
     "nuid": "062ab13e-088c-45df-9f3e-5e9784f8fe03",
     "showTitle": false,
     "title": ""
    }
   },
   "outputs": [
    {
     "data": {
      "text/html": [
       "<style scoped>\n",
       "  .ansiout {\n",
       "    display: block;\n",
       "    unicode-bidi: embed;\n",
       "    white-space: pre-wrap;\n",
       "    word-wrap: break-word;\n",
       "    word-break: break-all;\n",
       "    font-family: \"Source Code Pro\", \"Menlo\", monospace;;\n",
       "    font-size: 13px;\n",
       "    color: #555;\n",
       "    margin-left: 4px;\n",
       "    line-height: 19px;\n",
       "  }\n",
       "</style>\n",
       "<div class=\"ansiout\">[(&#39;4244030&#39;, 0), (&#39;3572161&#39;, 0), (&#39;2366235&#39;, 0), (&#39;3081058&#39;, 0), (&#39;4517024&#39;, 0), (&#39;226394&#39;, 0), (&#39;3415433&#39;, 0), (&#39;2067486&#39;, 0), (&#39;2089439&#39;, 0), (&#39;4533468&#39;, 0), (&#39;4245037&#39;, 0), (&#39;3172408&#39;, 1), (&#39;49114&#39;, 0), (&#39;2277308&#39;, 0), (&#39;945718&#39;, 0), (&#39;3808011&#39;, 0), (&#39;2279515&#39;, 0), (&#39;2171253&#39;, 0), (&#39;1025276&#39;, 0), (&#39;2528105&#39;, 1), (&#39;3023252&#39;, 0), (&#39;3271310&#39;, 0), (&#39;2062661&#39;, 0), (&#39;3433536&#39;, 0), (&#39;2052956&#39;, 0), (&#39;1096793&#39;, 0), (&#39;472777&#39;, 0), (&#39;904209&#39;, 0), (&#39;3358938&#39;, 0), (&#39;1834308&#39;, 0), (&#39;1518873&#39;, 0), (&#39;1554668&#39;, 1), (&#39;2430620&#39;, 1), (&#39;4569777&#39;, 0), (&#39;3551380&#39;, 0), (&#39;4546220&#39;, 0), (&#39;794996&#39;, 1), (&#39;2742088&#39;, 0), (&#39;2005020&#39;, 0), (&#39;3927882&#39;, 0)]\n",
       "</div>"
      ]
     },
     "metadata": {
      "application/vnd.databricks.v1+output": {
       "addedWidgets": {},
       "arguments": {},
       "data": "<div class=\"ansiout\">[(&#39;4244030&#39;, 0), (&#39;3572161&#39;, 0), (&#39;2366235&#39;, 0), (&#39;3081058&#39;, 0), (&#39;4517024&#39;, 0), (&#39;226394&#39;, 0), (&#39;3415433&#39;, 0), (&#39;2067486&#39;, 0), (&#39;2089439&#39;, 0), (&#39;4533468&#39;, 0), (&#39;4245037&#39;, 0), (&#39;3172408&#39;, 1), (&#39;49114&#39;, 0), (&#39;2277308&#39;, 0), (&#39;945718&#39;, 0), (&#39;3808011&#39;, 0), (&#39;2279515&#39;, 0), (&#39;2171253&#39;, 0), (&#39;1025276&#39;, 0), (&#39;2528105&#39;, 1), (&#39;3023252&#39;, 0), (&#39;3271310&#39;, 0), (&#39;2062661&#39;, 0), (&#39;3433536&#39;, 0), (&#39;2052956&#39;, 0), (&#39;1096793&#39;, 0), (&#39;472777&#39;, 0), (&#39;904209&#39;, 0), (&#39;3358938&#39;, 0), (&#39;1834308&#39;, 0), (&#39;1518873&#39;, 0), (&#39;1554668&#39;, 1), (&#39;2430620&#39;, 1), (&#39;4569777&#39;, 0), (&#39;3551380&#39;, 0), (&#39;4546220&#39;, 0), (&#39;794996&#39;, 1), (&#39;2742088&#39;, 0), (&#39;2005020&#39;, 0), (&#39;3927882&#39;, 0)]\n</div>",
       "datasetInfos": [],
       "metadata": {},
       "removedWidgets": [],
       "type": "html"
      }
     },
     "output_type": "display_data"
    }
   ],
   "source": [
    "combined.take(40)"
   ]
  },
  {
   "cell_type": "code",
   "execution_count": 0,
   "metadata": {
    "application/vnd.databricks.v1+cell": {
     "inputWidgets": {},
     "nuid": "0d3417d9-bf03-43fb-a80a-5bc7ab95ef34",
     "showTitle": false,
     "title": ""
    }
   },
   "outputs": [
    {
     "data": {
      "text/html": [
       "<style scoped>\n",
       "  .ansiout {\n",
       "    display: block;\n",
       "    unicode-bidi: embed;\n",
       "    white-space: pre-wrap;\n",
       "    word-wrap: break-word;\n",
       "    word-break: break-all;\n",
       "    font-family: \"Source Code Pro\", \"Menlo\", monospace;;\n",
       "    font-size: 13px;\n",
       "    color: #555;\n",
       "    margin-left: 4px;\n",
       "    line-height: 19px;\n",
       "  }\n",
       "</style>\n",
       "<div class=\"ansiout\"></div>"
      ]
     },
     "metadata": {
      "application/vnd.databricks.v1+output": {
       "addedWidgets": {},
       "arguments": {},
       "data": "<div class=\"ansiout\"></div>",
       "datasetInfos": [],
       "metadata": {},
       "removedWidgets": [],
       "type": "html"
      }
     },
     "output_type": "display_data"
    }
   ],
   "source": [
    "# Combining classification and questions.\n",
    "veterans = combined.join(parsed_questions).map(lambda x: (x[1][0], x[1][1]+[1]))\\\n",
    "            .reduceByKey(lambda x,y: np.add(x,y))\\\n",
    "            .map(lambda x: (x[0], [x[1][0]/x[1][4], x[1][1]/x[1][4], x[1][2]/x[1][4], x[1][3]/x[1][4]]))"
   ]
  },
  {
   "cell_type": "code",
   "execution_count": 0,
   "metadata": {
    "application/vnd.databricks.v1+cell": {
     "inputWidgets": {},
     "nuid": "2596de55-812d-4f63-97ca-5331286ece39",
     "showTitle": false,
     "title": ""
    }
   },
   "outputs": [
    {
     "data": {
      "text/html": [
       "<style scoped>\n",
       "  .ansiout {\n",
       "    display: block;\n",
       "    unicode-bidi: embed;\n",
       "    white-space: pre-wrap;\n",
       "    word-wrap: break-word;\n",
       "    word-break: break-all;\n",
       "    font-family: \"Source Code Pro\", \"Menlo\", monospace;;\n",
       "    font-size: 13px;\n",
       "    color: #555;\n",
       "    margin-left: 4px;\n",
       "    line-height: 19px;\n",
       "  }\n",
       "</style>\n",
       "<div class=\"ansiout\">[(0, [1.1307456144103445, 1096.1519220732553, 1.5038565525030159, 0.3861764445851408]), (1, [2.2598437331442924, 1844.0344896669696, 1.8426197044183144, 0.8673157237744455])]\n",
       "</div>"
      ]
     },
     "metadata": {
      "application/vnd.databricks.v1+output": {
       "addedWidgets": {},
       "arguments": {},
       "data": "<div class=\"ansiout\">[(0, [1.1307456144103445, 1096.1519220732553, 1.5038565525030159, 0.3861764445851408]), (1, [2.2598437331442924, 1844.0344896669696, 1.8426197044183144, 0.8673157237744455])]\n</div>",
       "datasetInfos": [],
       "metadata": {},
       "removedWidgets": [],
       "type": "html"
      }
     },
     "output_type": "display_data"
    }
   ],
   "source": [
    "veterans.take(5)"
   ]
  },
  {
   "cell_type": "markdown",
   "metadata": {},
   "source": [
    "</br></br>"
   ]
  },
  {
   "cell_type": "markdown",
   "metadata": {
    "application/vnd.databricks.v1+cell": {
     "inputWidgets": {},
     "nuid": "8933669d-3eba-45ad-86ca-5160388c235d",
     "showTitle": false,
     "title": ""
    }
   },
   "source": [
    "###  Word2Vec for ggplot2."
   ]
  },
  {
   "cell_type": "code",
   "execution_count": 0,
   "metadata": {
    "application/vnd.databricks.v1+cell": {
     "inputWidgets": {},
     "nuid": "fb4ae47d-f847-4dd4-b2ea-0466aaf1f765",
     "showTitle": false,
     "title": ""
    }
   },
   "outputs": [
    {
     "data": {
      "text/html": [
       "<style scoped>\n",
       "  .ansiout {\n",
       "    display: block;\n",
       "    unicode-bidi: embed;\n",
       "    white-space: pre-wrap;\n",
       "    word-wrap: break-word;\n",
       "    word-break: break-all;\n",
       "    font-family: \"Source Code Pro\", \"Menlo\", monospace;;\n",
       "    font-size: 13px;\n",
       "    color: #555;\n",
       "    margin-left: 4px;\n",
       "    line-height: 19px;\n",
       "  }\n",
       "</style>\n",
       "<div class=\"ansiout\"></div>"
      ]
     },
     "metadata": {
      "application/vnd.databricks.v1+output": {
       "addedWidgets": {},
       "arguments": {},
       "data": "<div class=\"ansiout\"></div>",
       "datasetInfos": [],
       "metadata": {},
       "removedWidgets": [],
       "type": "html"
      }
     },
     "output_type": "display_data"
    }
   ],
   "source": [
    "# Setting vector size and random seed as per the problem statement.\n",
    "word2vec = Word2Vec().setVectorSize(100).setSeed(42)"
   ]
  },
  {
   "cell_type": "code",
   "execution_count": 0,
   "metadata": {
    "application/vnd.databricks.v1+cell": {
     "inputWidgets": {},
     "nuid": "c570a433-a238-4a28-b20f-f3ff9ed025f4",
     "showTitle": false,
     "title": ""
    }
   },
   "outputs": [
    {
     "data": {
      "text/html": [
       "<style scoped>\n",
       "  .ansiout {\n",
       "    display: block;\n",
       "    unicode-bidi: embed;\n",
       "    white-space: pre-wrap;\n",
       "    word-wrap: break-word;\n",
       "    word-break: break-all;\n",
       "    font-family: \"Source Code Pro\", \"Menlo\", monospace;;\n",
       "    font-size: 13px;\n",
       "    color: #555;\n",
       "    margin-left: 4px;\n",
       "    line-height: 19px;\n",
       "  }\n",
       "</style>\n",
       "<div class=\"ansiout\"></div>"
      ]
     },
     "metadata": {
      "application/vnd.databricks.v1+output": {
       "addedWidgets": {},
       "arguments": {},
       "data": "<div class=\"ansiout\"></div>",
       "datasetInfos": [],
       "metadata": {},
       "removedWidgets": [],
       "type": "html"
      }
     },
     "output_type": "display_data"
    }
   ],
   "source": [
    "def is_row(line_current):\n",
    "    line_strip = line_current.strip().strip('\\n')\n",
    "    return (line_strip.find(\"<row \")==0 and line_strip[-3:]==\" />\")"
   ]
  },
  {
   "cell_type": "code",
   "execution_count": 0,
   "metadata": {
    "application/vnd.databricks.v1+cell": {
     "inputWidgets": {},
     "nuid": "2a589260-fdcb-4350-8002-ce48b7aef9ce",
     "showTitle": false,
     "title": ""
    }
   },
   "outputs": [
    {
     "data": {
      "text/html": [
       "<style scoped>\n",
       "  .ansiout {\n",
       "    display: block;\n",
       "    unicode-bidi: embed;\n",
       "    white-space: pre-wrap;\n",
       "    word-wrap: break-word;\n",
       "    word-break: break-all;\n",
       "    font-family: \"Source Code Pro\", \"Menlo\", monospace;;\n",
       "    font-size: 13px;\n",
       "    color: #555;\n",
       "    margin-left: 4px;\n",
       "    line-height: 19px;\n",
       "  }\n",
       "</style>\n",
       "<div class=\"ansiout\"></div>"
      ]
     },
     "metadata": {
      "application/vnd.databricks.v1+output": {
       "addedWidgets": {},
       "arguments": {},
       "data": "<div class=\"ansiout\"></div>",
       "datasetInfos": [],
       "metadata": {},
       "removedWidgets": [],
       "type": "html"
      }
     },
     "output_type": "display_data"
    }
   ],
   "source": [
    "# Function to extract tags.\n",
    "def fetch_tags(line):\n",
    "    root = etree.XML(line)\n",
    "    tags = []\n",
    "    if 'Tags' in root.attrib: \n",
    "        Tag_string = root.get('Tags')\n",
    "        tags = Tag_string.replace('&lt;', ' ').replace('&gt;', ' ').replace('<', ' ').replace('>', ' ').split()\n",
    "    else:\n",
    "        return None\n",
    "    return tags"
   ]
  },
  {
   "cell_type": "code",
   "execution_count": 0,
   "metadata": {
    "application/vnd.databricks.v1+cell": {
     "inputWidgets": {},
     "nuid": "ab187075-da84-480a-97fa-5ad6db72d70c",
     "showTitle": false,
     "title": ""
    }
   },
   "outputs": [
    {
     "data": {
      "text/html": [
       "<style scoped>\n",
       "  .ansiout {\n",
       "    display: block;\n",
       "    unicode-bidi: embed;\n",
       "    white-space: pre-wrap;\n",
       "    word-wrap: break-word;\n",
       "    word-break: break-all;\n",
       "    font-family: \"Source Code Pro\", \"Menlo\", monospace;;\n",
       "    font-size: 13px;\n",
       "    color: #555;\n",
       "    margin-left: 4px;\n",
       "    line-height: 19px;\n",
       "  }\n",
       "</style>\n",
       "<div class=\"ansiout\">8966083\n",
       "</div>"
      ]
     },
     "metadata": {
      "application/vnd.databricks.v1+output": {
       "addedWidgets": {},
       "arguments": {},
       "data": "<div class=\"ansiout\">8966083\n</div>",
       "datasetInfos": [],
       "metadata": {},
       "removedWidgets": [],
       "type": "html"
      }
     },
     "output_type": "display_data"
    }
   ],
   "source": [
    "tags = sc.textFile(localpath('spark-stack-data/allPosts'))\\\n",
    "        .filter(is_row)\\\n",
    "        .map(fetch_tags)\\\n",
    "        .filter(lambda x: x is not None)\n",
    "\n",
    "tags.count()"
   ]
  },
  {
   "cell_type": "code",
   "execution_count": 0,
   "metadata": {
    "application/vnd.databricks.v1+cell": {
     "inputWidgets": {},
     "nuid": "43fbff8a-94c7-4ecb-8c13-38ae6355b427",
     "showTitle": false,
     "title": ""
    }
   },
   "outputs": [
    {
     "data": {
      "text/html": [
       "<style scoped>\n",
       "  .ansiout {\n",
       "    display: block;\n",
       "    unicode-bidi: embed;\n",
       "    white-space: pre-wrap;\n",
       "    word-wrap: break-word;\n",
       "    word-break: break-all;\n",
       "    font-family: \"Source Code Pro\", \"Menlo\", monospace;;\n",
       "    font-size: 13px;\n",
       "    color: #555;\n",
       "    margin-left: 4px;\n",
       "    line-height: 19px;\n",
       "  }\n",
       "</style>\n",
       "<div class=\"ansiout\"></div>"
      ]
     },
     "metadata": {
      "application/vnd.databricks.v1+output": {
       "addedWidgets": {},
       "arguments": {},
       "data": "<div class=\"ansiout\"></div>",
       "datasetInfos": [],
       "metadata": {},
       "removedWidgets": [],
       "type": "html"
      }
     },
     "output_type": "display_data"
    }
   ],
   "source": [
    "model = word2vec.fit(tags)"
   ]
  },
  {
   "cell_type": "code",
   "execution_count": 0,
   "metadata": {
    "application/vnd.databricks.v1+cell": {
     "inputWidgets": {},
     "nuid": "a40e550b-fe2f-4364-badb-d1b2a98a6639",
     "showTitle": false,
     "title": ""
    }
   },
   "outputs": [
    {
     "data": {
      "text/html": [
       "<style scoped>\n",
       "  .ansiout {\n",
       "    display: block;\n",
       "    unicode-bidi: embed;\n",
       "    white-space: pre-wrap;\n",
       "    word-wrap: break-word;\n",
       "    word-break: break-all;\n",
       "    font-family: \"Source Code Pro\", \"Menlo\", monospace;;\n",
       "    font-size: 13px;\n",
       "    color: #555;\n",
       "    margin-left: 4px;\n",
       "    line-height: 19px;\n",
       "  }\n",
       "</style>\n",
       "<div class=\"ansiout\">lattice 0.914175089362\n",
       "r-grid 0.853013366773\n",
       "plotmath 0.844089403526\n",
       "boxplot 0.839753503564\n",
       "plotrix 0.831518218593\n",
       "ecdf 0.830968580308\n",
       "gmisc 0.824988746884\n",
       "levelplot 0.824531900738\n",
       "density-plot 0.824492297613\n",
       "melt 0.816001808733\n",
       "gridextra 0.813623201172\n",
       "line-plot 0.809634432145\n",
       "loess 0.807918811886\n",
       "rgl 0.804110386348\n",
       "tapply 0.803792142344\n",
       "ggvis 0.801683385182\n",
       "mgcv 0.801153310268\n",
       "r-factor 0.798146535195\n",
       "quantile 0.797029189706\n",
       "performanceanalytics 0.794787815957\n",
       "weibull 0.792841571028\n",
       "ggdendro 0.791935147398\n",
       "categorical-data 0.790621594458\n",
       "ggmap 0.790548134704\n",
       "standard-error 0.788530333391\n",
       "</div>"
      ]
     },
     "metadata": {
      "application/vnd.databricks.v1+output": {
       "addedWidgets": {},
       "arguments": {},
       "data": "<div class=\"ansiout\">lattice 0.914175089362\nr-grid 0.853013366773\nplotmath 0.844089403526\nboxplot 0.839753503564\nplotrix 0.831518218593\necdf 0.830968580308\ngmisc 0.824988746884\nlevelplot 0.824531900738\ndensity-plot 0.824492297613\nmelt 0.816001808733\ngridextra 0.813623201172\nline-plot 0.809634432145\nloess 0.807918811886\nrgl 0.804110386348\ntapply 0.803792142344\nggvis 0.801683385182\nmgcv 0.801153310268\nr-factor 0.798146535195\nquantile 0.797029189706\nperformanceanalytics 0.794787815957\nweibull 0.792841571028\nggdendro 0.791935147398\ncategorical-data 0.790621594458\nggmap 0.790548134704\nstandard-error 0.788530333391\n</div>",
       "datasetInfos": [],
       "metadata": {},
       "removedWidgets": [],
       "type": "html"
      }
     },
     "output_type": "display_data"
    }
   ],
   "source": [
    "# Finding synonyms.\n",
    "synonyms = model.findSynonyms('ggplot2', 25)\n",
    "\n",
    "for word, cosine_distance in synonyms:\n",
    "    print(\"{} {}\".format(word, cosine_distance))"
   ]
  },
  {
   "cell_type": "code",
   "execution_count": 0,
   "metadata": {
    "application/vnd.databricks.v1+cell": {
     "inputWidgets": {},
     "nuid": "57ccf7b4-057e-4cbf-84a4-f0e6b215bd9b",
     "showTitle": false,
     "title": ""
    }
   },
   "outputs": [
    {
     "data": {
      "text/html": [
       "<style scoped>\n",
       "  .ansiout {\n",
       "    display: block;\n",
       "    unicode-bidi: embed;\n",
       "    white-space: pre-wrap;\n",
       "    word-wrap: break-word;\n",
       "    word-break: break-all;\n",
       "    font-family: \"Source Code Pro\", \"Menlo\", monospace;;\n",
       "    font-size: 13px;\n",
       "    color: #555;\n",
       "    margin-left: 4px;\n",
       "    line-height: 19px;\n",
       "  }\n",
       "</style>\n",
       "<div class=\"ansiout\"></div>"
      ]
     },
     "metadata": {
      "application/vnd.databricks.v1+output": {
       "addedWidgets": {},
       "arguments": {},
       "data": "<div class=\"ansiout\"></div>",
       "datasetInfos": [],
       "metadata": {},
       "removedWidgets": [],
       "type": "html"
      }
     },
     "output_type": "display_data"
    }
   ],
   "source": [
    "result='''\n",
    "lattice 0.914175089362\n",
    "r-grid 0.853013366773\n",
    "plotmath 0.844089403526\n",
    "boxplot 0.839753503564\n",
    "plotrix 0.831518218593\n",
    "ecdf 0.830968580308\n",
    "gmisc 0.824988746884\n",
    "levelplot 0.824531900738\n",
    "density-plot 0.824492297613\n",
    "melt 0.816001808733\n",
    "gridextra 0.813623201172\n",
    "line-plot 0.809634432145\n",
    "loess 0.807918811886\n",
    "rgl 0.804110386348\n",
    "tapply 0.803792142344\n",
    "ggvis 0.801683385182\n",
    "mgcv 0.801153310268\n",
    "r-factor 0.798146535195\n",
    "quantile 0.797029189706\n",
    "performanceanalytics 0.794787815957\n",
    "weibull 0.792841571028\n",
    "ggdendro 0.791935147398\n",
    "categorical-data 0.790621594458\n",
    "ggmap 0.790548134704\n",
    "standard-error 0.788530333391\n",
    "'''"
   ]
  },
  {
   "cell_type": "markdown",
   "metadata": {
    "application/vnd.databricks.v1+cell": {
     "inputWidgets": {},
     "nuid": "a577c37e-f9bc-44d3-922a-e23aedf2afab",
     "showTitle": false,
     "title": ""
    }
   },
   "source": [
    "</br></br>"
   ]
  },
  {
   "cell_type": "markdown",
   "metadata": {
    "application/vnd.databricks.v1+cell": {
     "inputWidgets": {},
     "nuid": "901736df-6d45-4d8d-818b-5491b6c611d7",
     "showTitle": false,
     "title": ""
    }
   },
   "source": [
    "### Classifications"
   ]
  },
  {
   "cell_type": "code",
   "execution_count": 0,
   "metadata": {
    "application/vnd.databricks.v1+cell": {
     "inputWidgets": {},
     "nuid": "bb28ca05-c477-40e7-b5c9-39ea24855f0e",
     "showTitle": false,
     "title": ""
    }
   },
   "outputs": [
    {
     "data": {
      "text/html": [
       "<style scoped>\n",
       "  .ansiout {\n",
       "    display: block;\n",
       "    unicode-bidi: embed;\n",
       "    white-space: pre-wrap;\n",
       "    word-wrap: break-word;\n",
       "    word-break: break-all;\n",
       "    font-family: \"Source Code Pro\", \"Menlo\", monospace;;\n",
       "    font-size: 13px;\n",
       "    color: #555;\n",
       "    margin-left: 4px;\n",
       "    line-height: 19px;\n",
       "  }\n",
       "</style>\n",
       "<div class=\"ansiout\"></div>"
      ]
     },
     "metadata": {
      "application/vnd.databricks.v1+output": {
       "addedWidgets": {},
       "arguments": {},
       "data": "<div class=\"ansiout\"></div>",
       "datasetInfos": [],
       "metadata": {},
       "removedWidgets": [],
       "type": "html"
      }
     },
     "output_type": "display_data"
    }
   ],
   "source": [
    "def is_row(line_current):\n",
    "    line_strip = line_current.strip().strip('\\n')\n",
    "    return (line_strip.find(\"<row \")==0 and line_strip[-3:]==\" />\")"
   ]
  },
  {
   "cell_type": "code",
   "execution_count": 0,
   "metadata": {
    "application/vnd.databricks.v1+cell": {
     "inputWidgets": {},
     "nuid": "12db6166-e1c3-479c-ac89-f9a5253dfc2a",
     "showTitle": false,
     "title": ""
    }
   },
   "outputs": [
    {
     "data": {
      "text/html": [
       "<style scoped>\n",
       "  .ansiout {\n",
       "    display: block;\n",
       "    unicode-bidi: embed;\n",
       "    white-space: pre-wrap;\n",
       "    word-wrap: break-word;\n",
       "    word-break: break-all;\n",
       "    font-family: \"Source Code Pro\", \"Menlo\", monospace;;\n",
       "    font-size: 13px;\n",
       "    color: #555;\n",
       "    margin-left: 4px;\n",
       "    line-height: 19px;\n",
       "  }\n",
       "</style>\n",
       "<div class=\"ansiout\"></div>"
      ]
     },
     "metadata": {
      "application/vnd.databricks.v1+output": {
       "addedWidgets": {},
       "arguments": {},
       "data": "<div class=\"ansiout\"></div>",
       "datasetInfos": [],
       "metadata": {},
       "removedWidgets": [],
       "type": "html"
      }
     },
     "output_type": "display_data"
    }
   ],
   "source": [
    "train = sc.textFile('/FileStore/tables/part_00001').filter(lambda x: is_row(x))\n",
    "test= sc.textFile('/FileStore/tables/part_00002').filter(lambda x: is_row(x))"
   ]
  },
  {
   "cell_type": "code",
   "execution_count": 0,
   "metadata": {
    "application/vnd.databricks.v1+cell": {
     "inputWidgets": {},
     "nuid": "ae939fe6-7097-499d-a44e-3bacd61d7d68",
     "showTitle": false,
     "title": ""
    }
   },
   "outputs": [],
   "source": [
    "train = sc.textFile(localpath('/spark-stats-data/train/')).filter(lambda x: is_row(x))\n",
    "test= sc.textFile(localpath('/spark-stats-data/test/')).filter(lambda x: is_row(x))"
   ]
  },
  {
   "cell_type": "code",
   "execution_count": 0,
   "metadata": {
    "application/vnd.databricks.v1+cell": {
     "inputWidgets": {},
     "nuid": "94b9c580-ad51-4103-abc8-1be50835f119",
     "showTitle": false,
     "title": ""
    }
   },
   "outputs": [
    {
     "data": {
      "text/html": [
       "<style scoped>\n",
       "  .ansiout {\n",
       "    display: block;\n",
       "    unicode-bidi: embed;\n",
       "    white-space: pre-wrap;\n",
       "    word-wrap: break-word;\n",
       "    word-break: break-all;\n",
       "    font-family: \"Source Code Pro\", \"Menlo\", monospace;;\n",
       "    font-size: 13px;\n",
       "    color: #555;\n",
       "    margin-left: 4px;\n",
       "    line-height: 19px;\n",
       "  }\n",
       "</style>\n",
       "<div class=\"ansiout\"></div>"
      ]
     },
     "metadata": {
      "application/vnd.databricks.v1+output": {
       "addedWidgets": {},
       "arguments": {},
       "data": "<div class=\"ansiout\"></div>",
       "datasetInfos": [],
       "metadata": {},
       "removedWidgets": [],
       "type": "html"
      }
     },
     "output_type": "display_data"
    }
   ],
   "source": [
    "# Function to extract tags.\n",
    "def fetch_tags(row):\n",
    "\n",
    "    row = row.strip().encode('utf-8')\n",
    "\n",
    "    try: \n",
    "        root = etree.fromstring(row)\n",
    "        post_id = int(root.attrib['Id'])\n",
    "        tags = root.attrib['Tags']\n",
    "        return (post_id, tags)  \n",
    "    except Exception: \n",
    "        return None "
   ]
  },
  {
   "cell_type": "code",
   "execution_count": 0,
   "metadata": {
    "application/vnd.databricks.v1+cell": {
     "inputWidgets": {},
     "nuid": "5125dde6-7523-4e14-829b-0bd2795e677e",
     "showTitle": false,
     "title": ""
    }
   },
   "outputs": [
    {
     "data": {
      "text/html": [
       "<style scoped>\n",
       "  .ansiout {\n",
       "    display: block;\n",
       "    unicode-bidi: embed;\n",
       "    white-space: pre-wrap;\n",
       "    word-wrap: break-word;\n",
       "    word-break: break-all;\n",
       "    font-family: \"Source Code Pro\", \"Menlo\", monospace;;\n",
       "    font-size: 13px;\n",
       "    color: #555;\n",
       "    margin-left: 4px;\n",
       "    line-height: 19px;\n",
       "  }\n",
       "</style>\n",
       "<div class=\"ansiout\"></div>"
      ]
     },
     "metadata": {
      "application/vnd.databricks.v1+output": {
       "addedWidgets": {},
       "arguments": {},
       "data": "<div class=\"ansiout\"></div>",
       "datasetInfos": [],
       "metadata": {},
       "removedWidgets": [],
       "type": "html"
      }
     },
     "output_type": "display_data"
    }
   ],
   "source": [
    "# Extracting the top 10 tags from training set.\n",
    "alpha_numeric = re.compile('[a-zA-Z0-9-\\']+') \n",
    "tags_10 = train.map(fetch_tags) \\\n",
    "          .filter(lambda x: x is not None) \\\n",
    "          .map(lambda line: (alpha_numeric.findall(line[1].lower()),)) \\\n",
    "          .flatMap(lambda x: [(tag, 1) for tags in x for tag in tags]) \\\n",
    "          .reduceByKey(lambda x,y: x+y) \\\n",
    "          .takeOrdered(10, key = lambda x: -x[1])"
   ]
  },
  {
   "cell_type": "code",
   "execution_count": 0,
   "metadata": {
    "application/vnd.databricks.v1+cell": {
     "inputWidgets": {},
     "nuid": "b0900d48-f2ed-4176-92ea-3fffa03090c9",
     "showTitle": false,
     "title": ""
    }
   },
   "outputs": [
    {
     "data": {
      "text/html": [
       "<style scoped>\n",
       "  .ansiout {\n",
       "    display: block;\n",
       "    unicode-bidi: embed;\n",
       "    white-space: pre-wrap;\n",
       "    word-wrap: break-word;\n",
       "    word-break: break-all;\n",
       "    font-family: \"Source Code Pro\", \"Menlo\", monospace;;\n",
       "    font-size: 13px;\n",
       "    color: #555;\n",
       "    margin-left: 4px;\n",
       "    line-height: 19px;\n",
       "  }\n",
       "</style>\n",
       "<div class=\"ansiout\">Out[38]: [&#39;r&#39;,\n",
       " &#39;regression&#39;,\n",
       " &#39;machine-learning&#39;,\n",
       " &#39;time-series&#39;,\n",
       " &#39;probability&#39;,\n",
       " &#39;distributions&#39;,\n",
       " &#39;hypothesis-testing&#39;,\n",
       " &#39;logistic&#39;,\n",
       " &#39;correlation&#39;,\n",
       " &#39;bayesian&#39;]</div>"
      ]
     },
     "metadata": {
      "application/vnd.databricks.v1+output": {
       "addedWidgets": {},
       "arguments": {},
       "data": "<div class=\"ansiout\">Out[38]: [&#39;r&#39;,\n &#39;regression&#39;,\n &#39;machine-learning&#39;,\n &#39;time-series&#39;,\n &#39;probability&#39;,\n &#39;distributions&#39;,\n &#39;hypothesis-testing&#39;,\n &#39;logistic&#39;,\n &#39;correlation&#39;,\n &#39;bayesian&#39;]</div>",
       "datasetInfos": [],
       "metadata": {},
       "removedWidgets": [],
       "type": "html"
      }
     },
     "output_type": "display_data"
    }
   ],
   "source": [
    "tags_10_words = [i[0] for i in tags_10]\n",
    "tags_10_words"
   ]
  },
  {
   "cell_type": "code",
   "execution_count": 0,
   "metadata": {
    "application/vnd.databricks.v1+cell": {
     "inputWidgets": {},
     "nuid": "d82d0f9f-c701-4412-ad9b-cd61d652580d",
     "showTitle": false,
     "title": ""
    }
   },
   "outputs": [
    {
     "data": {
      "text/html": [
       "<style scoped>\n",
       "  .ansiout {\n",
       "    display: block;\n",
       "    unicode-bidi: embed;\n",
       "    white-space: pre-wrap;\n",
       "    word-wrap: break-word;\n",
       "    word-break: break-all;\n",
       "    font-family: \"Source Code Pro\", \"Menlo\", monospace;;\n",
       "    font-size: 13px;\n",
       "    color: #555;\n",
       "    margin-left: 4px;\n",
       "    line-height: 19px;\n",
       "  }\n",
       "</style>\n",
       "<div class=\"ansiout\"></div>"
      ]
     },
     "metadata": {
      "application/vnd.databricks.v1+output": {
       "addedWidgets": {},
       "arguments": {},
       "data": "<div class=\"ansiout\"></div>",
       "datasetInfos": [],
       "metadata": {},
       "removedWidgets": [],
       "type": "html"
      }
     },
     "output_type": "display_data"
    }
   ],
   "source": [
    "# Function check whether a given tag is in top 10 tags or not.\n",
    "def within_top(line): \n",
    "    \n",
    "    for tag in tags_10_words:\n",
    "        if tag in line:\n",
    "            return 1\n",
    "    return 0"
   ]
  },
  {
   "cell_type": "code",
   "execution_count": 0,
   "metadata": {
    "application/vnd.databricks.v1+cell": {
     "inputWidgets": {},
     "nuid": "7c8eac37-649c-4cec-8830-fc7fe2643819",
     "showTitle": false,
     "title": ""
    }
   },
   "outputs": [
    {
     "data": {
      "text/html": [
       "<style scoped>\n",
       "  .ansiout {\n",
       "    display: block;\n",
       "    unicode-bidi: embed;\n",
       "    white-space: pre-wrap;\n",
       "    word-wrap: break-word;\n",
       "    word-break: break-all;\n",
       "    font-family: \"Source Code Pro\", \"Menlo\", monospace;;\n",
       "    font-size: 13px;\n",
       "    color: #555;\n",
       "    margin-left: 4px;\n",
       "    line-height: 19px;\n",
       "  }\n",
       "</style>\n",
       "<div class=\"ansiout\"></div>"
      ]
     },
     "metadata": {
      "application/vnd.databricks.v1+output": {
       "addedWidgets": {},
       "arguments": {},
       "data": "<div class=\"ansiout\"></div>",
       "datasetInfos": [],
       "metadata": {},
       "removedWidgets": [],
       "type": "html"
      }
     },
     "output_type": "display_data"
    }
   ],
   "source": [
    "# Function to extract body and tag.\n",
    "def fetch_body_and_tags(line):\n",
    "    \n",
    "    line = line.strip().encode('utf-8')\n",
    "    \n",
    "    try: \n",
    "        root = etree.fromstring(line)\n",
    "        body = root.attrib['Body']\n",
    "        tags = root.attrib['Tags']\n",
    "        post_type = int(root.attrib['PostTypeId'])\n",
    "        return (body, tags, post_type)  \n",
    "    except Exception: \n",
    "        return None"
   ]
  },
  {
   "cell_type": "code",
   "execution_count": 0,
   "metadata": {
    "application/vnd.databricks.v1+cell": {
     "inputWidgets": {},
     "nuid": "c3c4a2bf-18d2-457d-98de-03e3e355460f",
     "showTitle": false,
     "title": ""
    }
   },
   "outputs": [
    {
     "data": {
      "text/html": [
       "<style scoped>\n",
       "  .ansiout {\n",
       "    display: block;\n",
       "    unicode-bidi: embed;\n",
       "    white-space: pre-wrap;\n",
       "    word-wrap: break-word;\n",
       "    word-break: break-all;\n",
       "    font-family: \"Source Code Pro\", \"Menlo\", monospace;;\n",
       "    font-size: 13px;\n",
       "    color: #555;\n",
       "    margin-left: 4px;\n",
       "    line-height: 19px;\n",
       "  }\n",
       "</style>\n",
       "<div class=\"ansiout\">+--------------------+-----+\n",
       "                body|label|\n",
       "+--------------------+-----+\n",
       "&lt;p&gt;I am construct...|    1|\n",
       "&lt;p&gt;&lt;strong&gt;Edited...|    1|\n",
       "&lt;p&gt;I have a data ...|    1|\n",
       "+--------------------+-----+\n",
       "only showing top 3 rows\n",
       "\n",
       "</div>"
      ]
     },
     "metadata": {
      "application/vnd.databricks.v1+output": {
       "addedWidgets": {},
       "arguments": {},
       "data": "<div class=\"ansiout\">+--------------------+-----+\n|                body|label|\n+--------------------+-----+\n|&lt;p&gt;I am construct...|    1|\n|&lt;p&gt;&lt;strong&gt;Edited...|    1|\n|&lt;p&gt;I have a data ...|    1|\n+--------------------+-----+\nonly showing top 3 rows\n\n</div>",
       "datasetInfos": [
        {
         "name": "training",
         "schema": {
          "fields": [
           {
            "metadata": {},
            "name": "body",
            "nullable": true,
            "type": "string"
           },
           {
            "metadata": {},
            "name": "label",
            "nullable": true,
            "type": "long"
           }
          ],
          "type": "struct"
         },
         "tableIdentifier": null,
         "typeStr": "pyspark.sql.dataframe.DataFrame"
        }
       ],
       "metadata": {},
       "removedWidgets": [],
       "type": "html"
      }
     },
     "output_type": "display_data"
    }
   ],
   "source": [
    "training = train.map(fetch_body_and_tags) \\\n",
    "                                .filter(lambda x: x is not None and x[2] == 1) \\\n",
    "                                .map(lambda x: (x[0], alpha_numeric.findall(x[1].lower()))) \\\n",
    "                                .map(lambda x: (x[0], within_top(x[1]))) \\\n",
    "                                .toDF(['body', 'label']) \\\n",
    "                                .cache()\n",
    "training.show(3)"
   ]
  },
  {
   "cell_type": "code",
   "execution_count": 0,
   "metadata": {
    "application/vnd.databricks.v1+cell": {
     "inputWidgets": {},
     "nuid": "0a93aff3-8ff1-4043-8a9d-aa5157b1adb5",
     "showTitle": false,
     "title": ""
    }
   },
   "outputs": [
    {
     "data": {
      "text/html": [
       "<style scoped>\n",
       "  .ansiout {\n",
       "    display: block;\n",
       "    unicode-bidi: embed;\n",
       "    white-space: pre-wrap;\n",
       "    word-wrap: break-word;\n",
       "    word-break: break-all;\n",
       "    font-family: \"Source Code Pro\", \"Menlo\", monospace;;\n",
       "    font-size: 13px;\n",
       "    color: #555;\n",
       "    margin-left: 4px;\n",
       "    line-height: 19px;\n",
       "  }\n",
       "</style>\n",
       "<div class=\"ansiout\"></div>"
      ]
     },
     "metadata": {
      "application/vnd.databricks.v1+output": {
       "addedWidgets": {},
       "arguments": {},
       "data": "<div class=\"ansiout\"></div>",
       "datasetInfos": [],
       "metadata": {},
       "removedWidgets": [],
       "type": "html"
      }
     },
     "output_type": "display_data"
    }
   ],
   "source": [
    "# Function to extract body and ID.\n",
    "def fetch_id_body(line):\n",
    "\n",
    "    line = line.strip().encode('utf-8')\n",
    "    \n",
    "    try: \n",
    "        root = etree.fromstring(line)\n",
    "        Id = int(root.attrib['Id'])\n",
    "        body = root.attrib['Body']\n",
    "        post_type = int(root.attrib['PostTypeId'])\n",
    "        return (Id, body,post_type)   \n",
    "    except Exception: \n",
    "        return None"
   ]
  },
  {
   "cell_type": "code",
   "execution_count": 0,
   "metadata": {
    "application/vnd.databricks.v1+cell": {
     "inputWidgets": {},
     "nuid": "408fbced-27e0-47ff-a1d4-be10159361b4",
     "showTitle": false,
     "title": ""
    }
   },
   "outputs": [
    {
     "data": {
      "text/html": [
       "<style scoped>\n",
       "  .ansiout {\n",
       "    display: block;\n",
       "    unicode-bidi: embed;\n",
       "    white-space: pre-wrap;\n",
       "    word-wrap: break-word;\n",
       "    word-break: break-all;\n",
       "    font-family: \"Source Code Pro\", \"Menlo\", monospace;;\n",
       "    font-size: 13px;\n",
       "    color: #555;\n",
       "    margin-left: 4px;\n",
       "    line-height: 19px;\n",
       "  }\n",
       "</style>\n",
       "<div class=\"ansiout\">+-----+--------------------+\n",
       "   ID|                body|\n",
       "+-----+--------------------+\n",
       "73939|&lt;p&gt;I&#39;ve got some ...|\n",
       "74047|&lt;p&gt;I know that th...|\n",
       "74050|&lt;p&gt;I am trying to...|\n",
       "+-----+--------------------+\n",
       "only showing top 3 rows\n",
       "\n",
       "</div>"
      ]
     },
     "metadata": {
      "application/vnd.databricks.v1+output": {
       "addedWidgets": {},
       "arguments": {},
       "data": "<div class=\"ansiout\">+-----+--------------------+\n|   ID|                body|\n+-----+--------------------+\n|73939|&lt;p&gt;I&#39;ve got some ...|\n|74047|&lt;p&gt;I know that th...|\n|74050|&lt;p&gt;I am trying to...|\n+-----+--------------------+\nonly showing top 3 rows\n\n</div>",
       "datasetInfos": [
        {
         "name": "testing",
         "schema": {
          "fields": [
           {
            "metadata": {},
            "name": "ID",
            "nullable": true,
            "type": "long"
           },
           {
            "metadata": {},
            "name": "body",
            "nullable": true,
            "type": "string"
           }
          ],
          "type": "struct"
         },
         "tableIdentifier": null,
         "typeStr": "pyspark.sql.dataframe.DataFrame"
        }
       ],
       "metadata": {},
       "removedWidgets": [],
       "type": "html"
      }
     },
     "output_type": "display_data"
    }
   ],
   "source": [
    "testing = test.map(fetch_id_body) \\\n",
    "                        .filter(lambda x: x is not None and x[2] == 1) \\\n",
    "                        .toDF(['ID', 'body']) \\\n",
    "                        .select('ID', 'body')\n",
    "testing.show(3)"
   ]
  },
  {
   "cell_type": "code",
   "execution_count": 0,
   "metadata": {
    "application/vnd.databricks.v1+cell": {
     "inputWidgets": {},
     "nuid": "5d37fc71-3f0f-42ce-8d15-c3317b3b9d35",
     "showTitle": false,
     "title": ""
    }
   },
   "outputs": [
    {
     "data": {
      "text/html": [
       "<style scoped>\n",
       "  .ansiout {\n",
       "    display: block;\n",
       "    unicode-bidi: embed;\n",
       "    white-space: pre-wrap;\n",
       "    word-wrap: break-word;\n",
       "    word-break: break-all;\n",
       "    font-family: \"Source Code Pro\", \"Menlo\", monospace;;\n",
       "    font-size: 13px;\n",
       "    color: #555;\n",
       "    margin-left: 4px;\n",
       "    line-height: 19px;\n",
       "  }\n",
       "</style>\n",
       "<div class=\"ansiout\"></div>"
      ]
     },
     "metadata": {
      "application/vnd.databricks.v1+output": {
       "addedWidgets": {},
       "arguments": {},
       "data": "<div class=\"ansiout\"></div>",
       "datasetInfos": [],
       "metadata": {},
       "removedWidgets": [],
       "type": "html"
      }
     },
     "output_type": "display_data"
    }
   ],
   "source": [
    "tokenizer = Tokenizer(inputCol=\"body\", outputCol=\"words\")\n",
    "stopwords_remover = StopWordsRemover(inputCol=tokenizer.getOutputCol(), outputCol=\"words_minus_stopwords\")\n",
    "hashingTF = HashingTF(inputCol=stopwords_remover.getOutputCol(), outputCol=\"features\", numFeatures = 2000)"
   ]
  },
  {
   "cell_type": "code",
   "execution_count": 0,
   "metadata": {
    "application/vnd.databricks.v1+cell": {
     "inputWidgets": {},
     "nuid": "5c4eea4c-85f0-4e7e-b939-ebbc17c978c8",
     "showTitle": false,
     "title": ""
    }
   },
   "outputs": [
    {
     "data": {
      "text/html": [
       "<style scoped>\n",
       "  .ansiout {\n",
       "    display: block;\n",
       "    unicode-bidi: embed;\n",
       "    white-space: pre-wrap;\n",
       "    word-wrap: break-word;\n",
       "    word-break: break-all;\n",
       "    font-family: \"Source Code Pro\", \"Menlo\", monospace;;\n",
       "    font-size: 13px;\n",
       "    color: #555;\n",
       "    margin-left: 4px;\n",
       "    line-height: 19px;\n",
       "  }\n",
       "</style>\n",
       "<div class=\"ansiout\"></div>"
      ]
     },
     "metadata": {
      "application/vnd.databricks.v1+output": {
       "addedWidgets": {},
       "arguments": {},
       "data": "<div class=\"ansiout\"></div>",
       "datasetInfos": [
        {
         "name": "train_tokens",
         "schema": {
          "fields": [
           {
            "metadata": {},
            "name": "body",
            "nullable": true,
            "type": "string"
           },
           {
            "metadata": {},
            "name": "label",
            "nullable": true,
            "type": "long"
           },
           {
            "metadata": {},
            "name": "words",
            "nullable": true,
            "type": {
             "containsNull": true,
             "elementType": "string",
             "type": "array"
            }
           }
          ],
          "type": "struct"
         },
         "tableIdentifier": null,
         "typeStr": "pyspark.sql.dataframe.DataFrame"
        },
        {
         "name": "train_tokens_nostopwords",
         "schema": {
          "fields": [
           {
            "metadata": {},
            "name": "body",
            "nullable": true,
            "type": "string"
           },
           {
            "metadata": {},
            "name": "label",
            "nullable": true,
            "type": "long"
           },
           {
            "metadata": {},
            "name": "words",
            "nullable": true,
            "type": {
             "containsNull": true,
             "elementType": "string",
             "type": "array"
            }
           },
           {
            "metadata": {},
            "name": "words_minus_stopwords",
            "nullable": true,
            "type": {
             "containsNull": true,
             "elementType": "string",
             "type": "array"
            }
           }
          ],
          "type": "struct"
         },
         "tableIdentifier": null,
         "typeStr": "pyspark.sql.dataframe.DataFrame"
        },
        {
         "name": "train_hashes",
         "schema": {
          "fields": [
           {
            "metadata": {},
            "name": "body",
            "nullable": true,
            "type": "string"
           },
           {
            "metadata": {},
            "name": "label",
            "nullable": true,
            "type": "long"
           },
           {
            "metadata": {},
            "name": "words",
            "nullable": true,
            "type": {
             "containsNull": true,
             "elementType": "string",
             "type": "array"
            }
           },
           {
            "metadata": {},
            "name": "words_minus_stopwords",
            "nullable": true,
            "type": {
             "containsNull": true,
             "elementType": "string",
             "type": "array"
            }
           },
           {
            "metadata": {
             "ml_attr": {
              "num_attrs": 2000
             }
            },
            "name": "features",
            "nullable": true,
            "type": {
             "class": "org.apache.spark.ml.linalg.VectorUDT",
             "pyClass": "pyspark.ml.linalg.VectorUDT",
             "sqlType": {
              "fields": [
               {
                "metadata": {},
                "name": "type",
                "nullable": false,
                "type": "byte"
               },
               {
                "metadata": {},
                "name": "size",
                "nullable": true,
                "type": "integer"
               },
               {
                "metadata": {},
                "name": "indices",
                "nullable": true,
                "type": {
                 "containsNull": false,
                 "elementType": "integer",
                 "type": "array"
                }
               },
               {
                "metadata": {},
                "name": "values",
                "nullable": true,
                "type": {
                 "containsNull": false,
                 "elementType": "double",
                 "type": "array"
                }
               }
              ],
              "type": "struct"
             },
             "type": "udt"
            }
           }
          ],
          "type": "struct"
         },
         "tableIdentifier": null,
         "typeStr": "pyspark.sql.dataframe.DataFrame"
        }
       ],
       "metadata": {},
       "removedWidgets": [],
       "type": "html"
      }
     },
     "output_type": "display_data"
    }
   ],
   "source": [
    "train_tokens = tokenizer.transform(training)\n",
    "train_tokens_nostopwords = stopwords_remover.transform(train_tokens)\n",
    "train_hashes = hashingTF.transform(train_tokens_nostopwords)"
   ]
  },
  {
   "cell_type": "code",
   "execution_count": 0,
   "metadata": {
    "application/vnd.databricks.v1+cell": {
     "inputWidgets": {},
     "nuid": "d08a65b6-a868-4cfd-aa92-b885687363aa",
     "showTitle": false,
     "title": ""
    }
   },
   "outputs": [
    {
     "data": {
      "text/html": [
       "<style scoped>\n",
       "  .ansiout {\n",
       "    display: block;\n",
       "    unicode-bidi: embed;\n",
       "    white-space: pre-wrap;\n",
       "    word-wrap: break-word;\n",
       "    word-break: break-all;\n",
       "    font-family: \"Source Code Pro\", \"Menlo\", monospace;;\n",
       "    font-size: 13px;\n",
       "    color: #555;\n",
       "    margin-left: 4px;\n",
       "    line-height: 19px;\n",
       "  }\n",
       "</style>\n",
       "<div class=\"ansiout\"></div>"
      ]
     },
     "metadata": {
      "application/vnd.databricks.v1+output": {
       "addedWidgets": {},
       "arguments": {},
       "data": "<div class=\"ansiout\"></div>",
       "datasetInfos": [
        {
         "name": "test_tokens",
         "schema": {
          "fields": [
           {
            "metadata": {},
            "name": "ID",
            "nullable": true,
            "type": "long"
           },
           {
            "metadata": {},
            "name": "body",
            "nullable": true,
            "type": "string"
           },
           {
            "metadata": {},
            "name": "words",
            "nullable": true,
            "type": {
             "containsNull": true,
             "elementType": "string",
             "type": "array"
            }
           }
          ],
          "type": "struct"
         },
         "tableIdentifier": null,
         "typeStr": "pyspark.sql.dataframe.DataFrame"
        },
        {
         "name": "test_tokens_nostopwords",
         "schema": {
          "fields": [
           {
            "metadata": {},
            "name": "ID",
            "nullable": true,
            "type": "long"
           },
           {
            "metadata": {},
            "name": "body",
            "nullable": true,
            "type": "string"
           },
           {
            "metadata": {},
            "name": "words",
            "nullable": true,
            "type": {
             "containsNull": true,
             "elementType": "string",
             "type": "array"
            }
           },
           {
            "metadata": {},
            "name": "words_minus_stopwords",
            "nullable": true,
            "type": {
             "containsNull": true,
             "elementType": "string",
             "type": "array"
            }
           }
          ],
          "type": "struct"
         },
         "tableIdentifier": null,
         "typeStr": "pyspark.sql.dataframe.DataFrame"
        },
        {
         "name": "test_hashes",
         "schema": {
          "fields": [
           {
            "metadata": {},
            "name": "ID",
            "nullable": true,
            "type": "long"
           },
           {
            "metadata": {},
            "name": "body",
            "nullable": true,
            "type": "string"
           },
           {
            "metadata": {},
            "name": "words",
            "nullable": true,
            "type": {
             "containsNull": true,
             "elementType": "string",
             "type": "array"
            }
           },
           {
            "metadata": {},
            "name": "words_minus_stopwords",
            "nullable": true,
            "type": {
             "containsNull": true,
             "elementType": "string",
             "type": "array"
            }
           },
           {
            "metadata": {
             "ml_attr": {
              "num_attrs": 2000
             }
            },
            "name": "features",
            "nullable": true,
            "type": {
             "class": "org.apache.spark.ml.linalg.VectorUDT",
             "pyClass": "pyspark.ml.linalg.VectorUDT",
             "sqlType": {
              "fields": [
               {
                "metadata": {},
                "name": "type",
                "nullable": false,
                "type": "byte"
               },
               {
                "metadata": {},
                "name": "size",
                "nullable": true,
                "type": "integer"
               },
               {
                "metadata": {},
                "name": "indices",
                "nullable": true,
                "type": {
                 "containsNull": false,
                 "elementType": "integer",
                 "type": "array"
                }
               },
               {
                "metadata": {},
                "name": "values",
                "nullable": true,
                "type": {
                 "containsNull": false,
                 "elementType": "double",
                 "type": "array"
                }
               }
              ],
              "type": "struct"
             },
             "type": "udt"
            }
           }
          ],
          "type": "struct"
         },
         "tableIdentifier": null,
         "typeStr": "pyspark.sql.dataframe.DataFrame"
        }
       ],
       "metadata": {},
       "removedWidgets": [],
       "type": "html"
      }
     },
     "output_type": "display_data"
    }
   ],
   "source": [
    "test_tokens = tokenizer.transform(testing)\n",
    "test_tokens_nostopwords = stopwords_remover.transform(test_tokens)\n",
    "test_hashes = hashingTF.transform(test_tokens_nostopwords)"
   ]
  },
  {
   "cell_type": "code",
   "execution_count": 0,
   "metadata": {
    "application/vnd.databricks.v1+cell": {
     "inputWidgets": {},
     "nuid": "20f3e770-d717-4a99-bb19-b5041f731d18",
     "showTitle": false,
     "title": ""
    }
   },
   "outputs": [
    {
     "data": {
      "text/html": [
       "<style scoped>\n",
       "  .ansiout {\n",
       "    display: block;\n",
       "    unicode-bidi: embed;\n",
       "    white-space: pre-wrap;\n",
       "    word-wrap: break-word;\n",
       "    word-break: break-all;\n",
       "    font-family: \"Source Code Pro\", \"Menlo\", monospace;;\n",
       "    font-size: 13px;\n",
       "    color: #555;\n",
       "    margin-left: 4px;\n",
       "    line-height: 19px;\n",
       "  }\n",
       "</style>\n",
       "<div class=\"ansiout\"></div>"
      ]
     },
     "metadata": {
      "application/vnd.databricks.v1+output": {
       "addedWidgets": {},
       "arguments": {},
       "data": "<div class=\"ansiout\"></div>",
       "datasetInfos": [],
       "metadata": {},
       "removedWidgets": [],
       "type": "html"
      }
     },
     "output_type": "display_data"
    }
   ],
   "source": [
    "# Building a logistic regression model.\n",
    "logreg = LogisticRegression(maxIter=10, regParam=0.08)\n",
    "model = logreg.fit(train_hashes)"
   ]
  },
  {
   "cell_type": "code",
   "execution_count": 0,
   "metadata": {
    "application/vnd.databricks.v1+cell": {
     "inputWidgets": {},
     "nuid": "d0f09f4c-fdcb-4d48-88d0-8b093ac2bb03",
     "showTitle": false,
     "title": ""
    }
   },
   "outputs": [
    {
     "data": {
      "text/html": [
       "<style scoped>\n",
       "  .ansiout {\n",
       "    display: block;\n",
       "    unicode-bidi: embed;\n",
       "    white-space: pre-wrap;\n",
       "    word-wrap: break-word;\n",
       "    word-break: break-all;\n",
       "    font-family: \"Source Code Pro\", \"Menlo\", monospace;;\n",
       "    font-size: 13px;\n",
       "    color: #555;\n",
       "    margin-left: 4px;\n",
       "    line-height: 19px;\n",
       "  }\n",
       "</style>\n",
       "<div class=\"ansiout\"></div>"
      ]
     },
     "metadata": {
      "application/vnd.databricks.v1+output": {
       "addedWidgets": {},
       "arguments": {},
       "data": "<div class=\"ansiout\"></div>",
       "datasetInfos": [
        {
         "name": "prediction",
         "schema": {
          "fields": [
           {
            "metadata": {},
            "name": "ID",
            "nullable": true,
            "type": "long"
           },
           {
            "metadata": {},
            "name": "body",
            "nullable": true,
            "type": "string"
           },
           {
            "metadata": {},
            "name": "words",
            "nullable": true,
            "type": {
             "containsNull": true,
             "elementType": "string",
             "type": "array"
            }
           },
           {
            "metadata": {},
            "name": "words_minus_stopwords",
            "nullable": true,
            "type": {
             "containsNull": true,
             "elementType": "string",
             "type": "array"
            }
           },
           {
            "metadata": {
             "ml_attr": {
              "num_attrs": 2000
             }
            },
            "name": "features",
            "nullable": true,
            "type": {
             "class": "org.apache.spark.ml.linalg.VectorUDT",
             "pyClass": "pyspark.ml.linalg.VectorUDT",
             "sqlType": {
              "fields": [
               {
                "metadata": {},
                "name": "type",
                "nullable": false,
                "type": "byte"
               },
               {
                "metadata": {},
                "name": "size",
                "nullable": true,
                "type": "integer"
               },
               {
                "metadata": {},
                "name": "indices",
                "nullable": true,
                "type": {
                 "containsNull": false,
                 "elementType": "integer",
                 "type": "array"
                }
               },
               {
                "metadata": {},
                "name": "values",
                "nullable": true,
                "type": {
                 "containsNull": false,
                 "elementType": "double",
                 "type": "array"
                }
               }
              ],
              "type": "struct"
             },
             "type": "udt"
            }
           },
           {
            "metadata": {
             "ml_attr": {
              "num_attrs": 2
             }
            },
            "name": "rawPrediction",
            "nullable": true,
            "type": {
             "class": "org.apache.spark.ml.linalg.VectorUDT",
             "pyClass": "pyspark.ml.linalg.VectorUDT",
             "sqlType": {
              "fields": [
               {
                "metadata": {},
                "name": "type",
                "nullable": false,
                "type": "byte"
               },
               {
                "metadata": {},
                "name": "size",
                "nullable": true,
                "type": "integer"
               },
               {
                "metadata": {},
                "name": "indices",
                "nullable": true,
                "type": {
                 "containsNull": false,
                 "elementType": "integer",
                 "type": "array"
                }
               },
               {
                "metadata": {},
                "name": "values",
                "nullable": true,
                "type": {
                 "containsNull": false,
                 "elementType": "double",
                 "type": "array"
                }
               }
              ],
              "type": "struct"
             },
             "type": "udt"
            }
           },
           {
            "metadata": {
             "ml_attr": {
              "num_attrs": 2
             }
            },
            "name": "probability",
            "nullable": true,
            "type": {
             "class": "org.apache.spark.ml.linalg.VectorUDT",
             "pyClass": "pyspark.ml.linalg.VectorUDT",
             "sqlType": {
              "fields": [
               {
                "metadata": {},
                "name": "type",
                "nullable": false,
                "type": "byte"
               },
               {
                "metadata": {},
                "name": "size",
                "nullable": true,
                "type": "integer"
               },
               {
                "metadata": {},
                "name": "indices",
                "nullable": true,
                "type": {
                 "containsNull": false,
                 "elementType": "integer",
                 "type": "array"
                }
               },
               {
                "metadata": {},
                "name": "values",
                "nullable": true,
                "type": {
                 "containsNull": false,
                 "elementType": "double",
                 "type": "array"
                }
               }
              ],
              "type": "struct"
             },
             "type": "udt"
            }
           },
           {
            "metadata": {
             "ml_attr": {
              "num_vals": 2,
              "type": "nominal"
             }
            },
            "name": "prediction",
            "nullable": false,
            "type": "double"
           }
          ],
          "type": "struct"
         },
         "tableIdentifier": null,
         "typeStr": "pyspark.sql.dataframe.DataFrame"
        },
        {
         "name": "selected",
         "schema": {
          "fields": [
           {
            "metadata": {},
            "name": "ID",
            "nullable": true,
            "type": "long"
           },
           {
            "metadata": {},
            "name": "body",
            "nullable": true,
            "type": "string"
           },
           {
            "metadata": {
             "ml_attr": {
              "num_vals": 2,
              "type": "nominal"
             }
            },
            "name": "prediction",
            "nullable": false,
            "type": "double"
           }
          ],
          "type": "struct"
         },
         "tableIdentifier": null,
         "typeStr": "pyspark.sql.dataframe.DataFrame"
        }
       ],
       "metadata": {},
       "removedWidgets": [],
       "type": "html"
      }
     },
     "output_type": "display_data"
    }
   ],
   "source": [
    "prediction = model.transform(test_hashes)\n",
    "selected = prediction.select(\"ID\", \"body\", \"prediction\")"
   ]
  },
  {
   "cell_type": "code",
   "execution_count": 0,
   "metadata": {
    "application/vnd.databricks.v1+cell": {
     "inputWidgets": {},
     "nuid": "54daaec9-1f0b-4fe7-85af-5e74da079356",
     "showTitle": false,
     "title": ""
    }
   },
   "outputs": [
    {
     "data": {
      "text/html": [
       "<style scoped>\n",
       "  .ansiout {\n",
       "    display: block;\n",
       "    unicode-bidi: embed;\n",
       "    white-space: pre-wrap;\n",
       "    word-wrap: break-word;\n",
       "    word-break: break-all;\n",
       "    font-family: \"Source Code Pro\", \"Menlo\", monospace;;\n",
       "    font-size: 13px;\n",
       "    color: #555;\n",
       "    margin-left: 4px;\n",
       "    line-height: 19px;\n",
       "  }\n",
       "</style>\n",
       "<div class=\"ansiout\">Out[50]: [1, 0, 1, 0, 1, 1, 1, 0, 0, 1]</div>"
      ]
     },
     "metadata": {
      "application/vnd.databricks.v1+output": {
       "addedWidgets": {},
       "arguments": {},
       "data": "<div class=\"ansiout\">Out[50]: [1, 0, 1, 0, 1, 1, 1, 0, 0, 1]</div>",
       "datasetInfos": [],
       "metadata": {},
       "removedWidgets": [],
       "type": "html"
      }
     },
     "output_type": "display_data"
    }
   ],
   "source": [
    "selected_sorted = selected.sort(\"ID\").collect()\n",
    "selected_list = [int(x[2]) for x in selected_sorted]\n",
    "selected_list[:10]"
   ]
  },
  {
   "cell_type": "code",
   "execution_count": 0,
   "metadata": {
    "application/vnd.databricks.v1+cell": {
     "inputWidgets": {},
     "nuid": "db753752-a1cd-4b14-829d-bc9b9c045b7c",
     "showTitle": false,
     "title": ""
    }
   },
   "outputs": [
    {
     "data": {
      "text/html": [
       "<style scoped>\n",
       "  .ansiout {\n",
       "    display: block;\n",
       "    unicode-bidi: embed;\n",
       "    white-space: pre-wrap;\n",
       "    word-wrap: break-word;\n",
       "    word-break: break-all;\n",
       "    font-family: \"Source Code Pro\", \"Menlo\", monospace;;\n",
       "    font-size: 13px;\n",
       "    color: #555;\n",
       "    margin-left: 4px;\n",
       "    line-height: 19px;\n",
       "  }\n",
       "</style>\n",
       "<div class=\"ansiout\">Out[51]: [1, 0, 1, 0, 1, 1, 1, 0, 0, 1, 0, 0, 0, 0, 1, 1, 1, 1, 1, 0]</div>"
      ]
     },
     "metadata": {
      "application/vnd.databricks.v1+output": {
       "addedWidgets": {},
       "arguments": {},
       "data": "<div class=\"ansiout\">Out[51]: [1, 0, 1, 0, 1, 1, 1, 0, 0, 1, 0, 0, 0, 0, 1, 1, 1, 1, 1, 0]</div>",
       "datasetInfos": [],
       "metadata": {},
       "removedWidgets": [],
       "type": "html"
      }
     },
     "output_type": "display_data"
    }
   ],
   "source": [
    "classification = selected_list\n",
    "classification[:20]"
   ]
  },
  {
   "cell_type": "markdown",
   "metadata": {
    "application/vnd.databricks.v1+cell": {
     "inputWidgets": {},
     "nuid": "65e77ff7-d8b0-4a80-9a63-977165e1344e",
     "showTitle": false,
     "title": ""
    }
   },
   "source": [
    "### Model tuning"
   ]
  },
  {
   "cell_type": "code",
   "execution_count": 0,
   "metadata": {
    "application/vnd.databricks.v1+cell": {
     "inputWidgets": {},
     "nuid": "d1bec993-661b-417f-b15b-547ea2fa9937",
     "showTitle": false,
     "title": ""
    }
   },
   "outputs": [
    {
     "data": {
      "text/html": [
       "<style scoped>\n",
       "  .ansiout {\n",
       "    display: block;\n",
       "    unicode-bidi: embed;\n",
       "    white-space: pre-wrap;\n",
       "    word-wrap: break-word;\n",
       "    word-break: break-all;\n",
       "    font-family: \"Source Code Pro\", \"Menlo\", monospace;;\n",
       "    font-size: 13px;\n",
       "    color: #555;\n",
       "    margin-left: 4px;\n",
       "    line-height: 19px;\n",
       "  }\n",
       "</style>\n",
       "<div class=\"ansiout\"></div>"
      ]
     },
     "metadata": {
      "application/vnd.databricks.v1+output": {
       "addedWidgets": {},
       "arguments": {},
       "data": "<div class=\"ansiout\"></div>",
       "datasetInfos": [
        {
         "name": "tokens",
         "schema": {
          "fields": [
           {
            "metadata": {},
            "name": "body",
            "nullable": true,
            "type": "string"
           },
           {
            "metadata": {},
            "name": "label",
            "nullable": true,
            "type": "long"
           },
           {
            "metadata": {},
            "name": "words",
            "nullable": true,
            "type": {
             "containsNull": true,
             "elementType": "string",
             "type": "array"
            }
           }
          ],
          "type": "struct"
         },
         "tableIdentifier": null,
         "typeStr": "pyspark.sql.dataframe.DataFrame"
        },
        {
         "name": "hashes",
         "schema": {
          "fields": [
           {
            "metadata": {},
            "name": "body",
            "nullable": true,
            "type": "string"
           },
           {
            "metadata": {},
            "name": "label",
            "nullable": true,
            "type": "long"
           },
           {
            "metadata": {},
            "name": "words",
            "nullable": true,
            "type": {
             "containsNull": true,
             "elementType": "string",
             "type": "array"
            }
           },
           {
            "metadata": {
             "ml_attr": {
              "num_attrs": 262144
             }
            },
            "name": "features",
            "nullable": true,
            "type": {
             "class": "org.apache.spark.ml.linalg.VectorUDT",
             "pyClass": "pyspark.ml.linalg.VectorUDT",
             "sqlType": {
              "fields": [
               {
                "metadata": {},
                "name": "type",
                "nullable": false,
                "type": "byte"
               },
               {
                "metadata": {},
                "name": "size",
                "nullable": true,
                "type": "integer"
               },
               {
                "metadata": {},
                "name": "indices",
                "nullable": true,
                "type": {
                 "containsNull": false,
                 "elementType": "integer",
                 "type": "array"
                }
               },
               {
                "metadata": {},
                "name": "values",
                "nullable": true,
                "type": {
                 "containsNull": false,
                 "elementType": "double",
                 "type": "array"
                }
               }
              ],
              "type": "struct"
             },
             "type": "udt"
            }
           }
          ],
          "type": "struct"
         },
         "tableIdentifier": null,
         "typeStr": "pyspark.sql.dataframe.DataFrame"
        },
        {
         "name": "test_tokens",
         "schema": {
          "fields": [
           {
            "metadata": {},
            "name": "ID",
            "nullable": true,
            "type": "long"
           },
           {
            "metadata": {},
            "name": "body",
            "nullable": true,
            "type": "string"
           },
           {
            "metadata": {},
            "name": "words",
            "nullable": true,
            "type": {
             "containsNull": true,
             "elementType": "string",
             "type": "array"
            }
           }
          ],
          "type": "struct"
         },
         "tableIdentifier": null,
         "typeStr": "pyspark.sql.dataframe.DataFrame"
        },
        {
         "name": "test_hashes",
         "schema": {
          "fields": [
           {
            "metadata": {},
            "name": "ID",
            "nullable": true,
            "type": "long"
           },
           {
            "metadata": {},
            "name": "body",
            "nullable": true,
            "type": "string"
           },
           {
            "metadata": {},
            "name": "words",
            "nullable": true,
            "type": {
             "containsNull": true,
             "elementType": "string",
             "type": "array"
            }
           },
           {
            "metadata": {
             "ml_attr": {
              "num_attrs": 262144
             }
            },
            "name": "features",
            "nullable": true,
            "type": {
             "class": "org.apache.spark.ml.linalg.VectorUDT",
             "pyClass": "pyspark.ml.linalg.VectorUDT",
             "sqlType": {
              "fields": [
               {
                "metadata": {},
                "name": "type",
                "nullable": false,
                "type": "byte"
               },
               {
                "metadata": {},
                "name": "size",
                "nullable": true,
                "type": "integer"
               },
               {
                "metadata": {},
                "name": "indices",
                "nullable": true,
                "type": {
                 "containsNull": false,
                 "elementType": "integer",
                 "type": "array"
                }
               },
               {
                "metadata": {},
                "name": "values",
                "nullable": true,
                "type": {
                 "containsNull": false,
                 "elementType": "double",
                 "type": "array"
                }
               }
              ],
              "type": "struct"
             },
             "type": "udt"
            }
           }
          ],
          "type": "struct"
         },
         "tableIdentifier": null,
         "typeStr": "pyspark.sql.dataframe.DataFrame"
        }
       ],
       "metadata": {},
       "removedWidgets": [],
       "type": "html"
      }
     },
     "output_type": "display_data"
    }
   ],
   "source": [
    "tokenizer = Tokenizer(inputCol=\"body\", outputCol=\"words\")\n",
    "hashingTF = HashingTF(inputCol=tokenizer.getOutputCol(), outputCol=\"features\")\n",
    "\n",
    "tokens = tokenizer.transform(training)\n",
    "hashes = hashingTF.transform(tokens)\n",
    "\n",
    "test_tokens = tokenizer.transform(testing)\n",
    "test_hashes = hashingTF.transform(test_tokens)"
   ]
  },
  {
   "cell_type": "code",
   "execution_count": 0,
   "metadata": {
    "application/vnd.databricks.v1+cell": {
     "inputWidgets": {},
     "nuid": "8683e75e-81aa-4435-806c-5796ed1343a0",
     "showTitle": false,
     "title": ""
    }
   },
   "outputs": [
    {
     "data": {
      "text/html": [
       "<style scoped>\n",
       "  .ansiout {\n",
       "    display: block;\n",
       "    unicode-bidi: embed;\n",
       "    white-space: pre-wrap;\n",
       "    word-wrap: break-word;\n",
       "    word-break: break-all;\n",
       "    font-family: \"Source Code Pro\", \"Menlo\", monospace;;\n",
       "    font-size: 13px;\n",
       "    color: #555;\n",
       "    margin-left: 4px;\n",
       "    line-height: 19px;\n",
       "  }\n",
       "</style>\n",
       "<div class=\"ansiout\"></div>"
      ]
     },
     "metadata": {
      "application/vnd.databricks.v1+output": {
       "addedWidgets": {},
       "arguments": {},
       "data": "<div class=\"ansiout\"></div>",
       "datasetInfos": [],
       "metadata": {},
       "removedWidgets": [],
       "type": "html"
      }
     },
     "output_type": "display_data"
    }
   ],
   "source": [
    "pipeline = Pipeline(stages=[tokenizer, hashingTF, logreg])"
   ]
  },
  {
   "cell_type": "code",
   "execution_count": 0,
   "metadata": {
    "application/vnd.databricks.v1+cell": {
     "inputWidgets": {},
     "nuid": "da2199bc-bc57-4450-94b7-694ac2679337",
     "showTitle": false,
     "title": ""
    }
   },
   "outputs": [
    {
     "data": {
      "text/html": [
       "<style scoped>\n",
       "  .ansiout {\n",
       "    display: block;\n",
       "    unicode-bidi: embed;\n",
       "    white-space: pre-wrap;\n",
       "    word-wrap: break-word;\n",
       "    word-break: break-all;\n",
       "    font-family: \"Source Code Pro\", \"Menlo\", monospace;;\n",
       "    font-size: 13px;\n",
       "    color: #555;\n",
       "    margin-left: 4px;\n",
       "    line-height: 19px;\n",
       "  }\n",
       "</style>\n",
       "<div class=\"ansiout\"></div>"
      ]
     },
     "metadata": {
      "application/vnd.databricks.v1+output": {
       "addedWidgets": {},
       "arguments": {},
       "data": "<div class=\"ansiout\"></div>",
       "datasetInfos": [],
       "metadata": {},
       "removedWidgets": [],
       "type": "html"
      }
     },
     "output_type": "display_data"
    }
   ],
   "source": [
    "paramGrid = (ParamGridBuilder()  \n",
    "    .addGrid(hashingTF.numFeatures, [2000])\n",
    "    .addGrid(logreg.regParam, [0.5, 0.1, 0.05])\n",
    "    .build())"
   ]
  },
  {
   "cell_type": "code",
   "execution_count": 0,
   "metadata": {
    "application/vnd.databricks.v1+cell": {
     "inputWidgets": {},
     "nuid": "e32ce0e9-2a70-4404-acf9-c259ac065265",
     "showTitle": false,
     "title": ""
    }
   },
   "outputs": [
    {
     "data": {
      "text/html": [
       "<style scoped>\n",
       "  .ansiout {\n",
       "    display: block;\n",
       "    unicode-bidi: embed;\n",
       "    white-space: pre-wrap;\n",
       "    word-wrap: break-word;\n",
       "    word-break: break-all;\n",
       "    font-family: \"Source Code Pro\", \"Menlo\", monospace;;\n",
       "    font-size: 13px;\n",
       "    color: #555;\n",
       "    margin-left: 4px;\n",
       "    line-height: 19px;\n",
       "  }\n",
       "</style>\n",
       "<div class=\"ansiout\"></div>"
      ]
     },
     "metadata": {
      "application/vnd.databricks.v1+output": {
       "addedWidgets": {},
       "arguments": {},
       "data": "<div class=\"ansiout\"></div>",
       "datasetInfos": [],
       "metadata": {},
       "removedWidgets": [],
       "type": "html"
      }
     },
     "output_type": "display_data"
    }
   ],
   "source": [
    "# Cross validating through a pipeline.\n",
    "cross_validator = CrossValidator(estimator=pipeline,\n",
    "                          estimatorParamMaps=paramGrid,\n",
    "                          evaluator=BinaryClassificationEvaluator(),\n",
    "                          numFolds=6)"
   ]
  },
  {
   "cell_type": "code",
   "execution_count": 0,
   "metadata": {
    "application/vnd.databricks.v1+cell": {
     "inputWidgets": {},
     "nuid": "a75ef741-df7f-4158-8893-bbf771a9523b",
     "showTitle": false,
     "title": ""
    }
   },
   "outputs": [
    {
     "data": {
      "text/html": [
       "<style scoped>\n",
       "  .ansiout {\n",
       "    display: block;\n",
       "    unicode-bidi: embed;\n",
       "    white-space: pre-wrap;\n",
       "    word-wrap: break-word;\n",
       "    word-break: break-all;\n",
       "    font-family: \"Source Code Pro\", \"Menlo\", monospace;;\n",
       "    font-size: 13px;\n",
       "    color: #555;\n",
       "    margin-left: 4px;\n",
       "    line-height: 19px;\n",
       "  }\n",
       "</style>\n",
       "<div class=\"ansiout\">MLlib will automatically track trials in MLflow. After your tuning fit() call has completed, view the MLflow UI to see logged runs.\n",
       "</div>"
      ]
     },
     "metadata": {
      "application/vnd.databricks.v1+output": {
       "addedWidgets": {},
       "arguments": {},
       "data": "<div class=\"ansiout\">MLlib will automatically track trials in MLflow. After your tuning fit() call has completed, view the MLflow UI to see logged runs.\n</div>",
       "datasetInfos": [],
       "metadata": {},
       "removedWidgets": [],
       "type": "html"
      }
     },
     "output_type": "display_data"
    }
   ],
   "source": [
    "cvModel = cross_validator.fit(training)"
   ]
  },
  {
   "cell_type": "code",
   "execution_count": 0,
   "metadata": {
    "application/vnd.databricks.v1+cell": {
     "inputWidgets": {},
     "nuid": "ae66f179-cf8e-44b6-ad6a-b9e115e6b455",
     "showTitle": false,
     "title": ""
    }
   },
   "outputs": [
    {
     "data": {
      "text/html": [
       "<style scoped>\n",
       "  .ansiout {\n",
       "    display: block;\n",
       "    unicode-bidi: embed;\n",
       "    white-space: pre-wrap;\n",
       "    word-wrap: break-word;\n",
       "    word-break: break-all;\n",
       "    font-family: \"Source Code Pro\", \"Menlo\", monospace;;\n",
       "    font-size: 13px;\n",
       "    color: #555;\n",
       "    margin-left: 4px;\n",
       "    line-height: 19px;\n",
       "  }\n",
       "</style>\n",
       "<div class=\"ansiout\">+-----+--------------------+--------------------+--------------------+--------------------+--------------------+----------+\n",
       "   ID|                body|               words|            features|       rawPrediction|         probability|prediction|\n",
       "+-----+--------------------+--------------------+--------------------+--------------------+--------------------+----------+\n",
       "73939|&lt;p&gt;I&#39;ve got some ...|[&lt;p&gt;i&#39;ve, got, so...|(2000,[10,17,52,6...|[-0.5806087746260...|[0.35879252666476...|       1.0|\n",
       "74047|&lt;p&gt;I know that th...|[&lt;p&gt;i, know, that...|(2000,[17,55,99,1...|[0.02844672286465...|[0.50711120118112...|       0.0|\n",
       "74050|&lt;p&gt;I am trying to...|[&lt;p&gt;i, am, trying...|(2000,[15,17,43,4...|[-0.1461162703857...|[0.46353578513799...|       1.0|\n",
       "+-----+--------------------+--------------------+--------------------+--------------------+--------------------+----------+\n",
       "only showing top 3 rows\n",
       "\n",
       "</div>"
      ]
     },
     "metadata": {
      "application/vnd.databricks.v1+output": {
       "addedWidgets": {},
       "arguments": {},
       "data": "<div class=\"ansiout\">+-----+--------------------+--------------------+--------------------+--------------------+--------------------+----------+\n|   ID|                body|               words|            features|       rawPrediction|         probability|prediction|\n+-----+--------------------+--------------------+--------------------+--------------------+--------------------+----------+\n|73939|&lt;p&gt;I&#39;ve got some ...|[&lt;p&gt;i&#39;ve, got, so...|(2000,[10,17,52,6...|[-0.5806087746260...|[0.35879252666476...|       1.0|\n|74047|&lt;p&gt;I know that th...|[&lt;p&gt;i, know, that...|(2000,[17,55,99,1...|[0.02844672286465...|[0.50711120118112...|       0.0|\n|74050|&lt;p&gt;I am trying to...|[&lt;p&gt;i, am, trying...|(2000,[15,17,43,4...|[-0.1461162703857...|[0.46353578513799...|       1.0|\n+-----+--------------------+--------------------+--------------------+--------------------+--------------------+----------+\nonly showing top 3 rows\n\n</div>",
       "datasetInfos": [
        {
         "name": "better_prediction",
         "schema": {
          "fields": [
           {
            "metadata": {},
            "name": "ID",
            "nullable": true,
            "type": "long"
           },
           {
            "metadata": {},
            "name": "body",
            "nullable": true,
            "type": "string"
           },
           {
            "metadata": {},
            "name": "words",
            "nullable": true,
            "type": {
             "containsNull": true,
             "elementType": "string",
             "type": "array"
            }
           },
           {
            "metadata": {
             "ml_attr": {
              "num_attrs": 2000
             }
            },
            "name": "features",
            "nullable": true,
            "type": {
             "class": "org.apache.spark.ml.linalg.VectorUDT",
             "pyClass": "pyspark.ml.linalg.VectorUDT",
             "sqlType": {
              "fields": [
               {
                "metadata": {},
                "name": "type",
                "nullable": false,
                "type": "byte"
               },
               {
                "metadata": {},
                "name": "size",
                "nullable": true,
                "type": "integer"
               },
               {
                "metadata": {},
                "name": "indices",
                "nullable": true,
                "type": {
                 "containsNull": false,
                 "elementType": "integer",
                 "type": "array"
                }
               },
               {
                "metadata": {},
                "name": "values",
                "nullable": true,
                "type": {
                 "containsNull": false,
                 "elementType": "double",
                 "type": "array"
                }
               }
              ],
              "type": "struct"
             },
             "type": "udt"
            }
           },
           {
            "metadata": {
             "ml_attr": {
              "num_attrs": 2
             }
            },
            "name": "rawPrediction",
            "nullable": true,
            "type": {
             "class": "org.apache.spark.ml.linalg.VectorUDT",
             "pyClass": "pyspark.ml.linalg.VectorUDT",
             "sqlType": {
              "fields": [
               {
                "metadata": {},
                "name": "type",
                "nullable": false,
                "type": "byte"
               },
               {
                "metadata": {},
                "name": "size",
                "nullable": true,
                "type": "integer"
               },
               {
                "metadata": {},
                "name": "indices",
                "nullable": true,
                "type": {
                 "containsNull": false,
                 "elementType": "integer",
                 "type": "array"
                }
               },
               {
                "metadata": {},
                "name": "values",
                "nullable": true,
                "type": {
                 "containsNull": false,
                 "elementType": "double",
                 "type": "array"
                }
               }
              ],
              "type": "struct"
             },
             "type": "udt"
            }
           },
           {
            "metadata": {
             "ml_attr": {
              "num_attrs": 2
             }
            },
            "name": "probability",
            "nullable": true,
            "type": {
             "class": "org.apache.spark.ml.linalg.VectorUDT",
             "pyClass": "pyspark.ml.linalg.VectorUDT",
             "sqlType": {
              "fields": [
               {
                "metadata": {},
                "name": "type",
                "nullable": false,
                "type": "byte"
               },
               {
                "metadata": {},
                "name": "size",
                "nullable": true,
                "type": "integer"
               },
               {
                "metadata": {},
                "name": "indices",
                "nullable": true,
                "type": {
                 "containsNull": false,
                 "elementType": "integer",
                 "type": "array"
                }
               },
               {
                "metadata": {},
                "name": "values",
                "nullable": true,
                "type": {
                 "containsNull": false,
                 "elementType": "double",
                 "type": "array"
                }
               }
              ],
              "type": "struct"
             },
             "type": "udt"
            }
           },
           {
            "metadata": {
             "ml_attr": {
              "num_vals": 2,
              "type": "nominal"
             }
            },
            "name": "prediction",
            "nullable": false,
            "type": "double"
           }
          ],
          "type": "struct"
         },
         "tableIdentifier": null,
         "typeStr": "pyspark.sql.dataframe.DataFrame"
        }
       ],
       "metadata": {},
       "removedWidgets": [],
       "type": "html"
      }
     },
     "output_type": "display_data"
    }
   ],
   "source": [
    "better_prediction = cvModel.transform(testing)\n",
    "better_prediction.show(3)"
   ]
  },
  {
   "cell_type": "code",
   "execution_count": 0,
   "metadata": {
    "application/vnd.databricks.v1+cell": {
     "inputWidgets": {},
     "nuid": "477ff2b9-e89c-4d8c-9c4b-edba0b7fe9c1",
     "showTitle": false,
     "title": ""
    }
   },
   "outputs": [
    {
     "data": {
      "text/html": [
       "<style scoped>\n",
       "  .ansiout {\n",
       "    display: block;\n",
       "    unicode-bidi: embed;\n",
       "    white-space: pre-wrap;\n",
       "    word-wrap: break-word;\n",
       "    word-break: break-all;\n",
       "    font-family: \"Source Code Pro\", \"Menlo\", monospace;;\n",
       "    font-size: 13px;\n",
       "    color: #555;\n",
       "    margin-left: 4px;\n",
       "    line-height: 19px;\n",
       "  }\n",
       "</style>\n",
       "<div class=\"ansiout\">+-----+--------------------+----------+\n",
       "   ID|                body|prediction|\n",
       "+-----+--------------------+----------+\n",
       "73939|&lt;p&gt;I&#39;ve got some ...|       1.0|\n",
       "74047|&lt;p&gt;I know that th...|       0.0|\n",
       "74050|&lt;p&gt;I am trying to...|       1.0|\n",
       "+-----+--------------------+----------+\n",
       "only showing top 3 rows\n",
       "\n",
       "</div>"
      ]
     },
     "metadata": {
      "application/vnd.databricks.v1+output": {
       "addedWidgets": {},
       "arguments": {},
       "data": "<div class=\"ansiout\">+-----+--------------------+----------+\n|   ID|                body|prediction|\n+-----+--------------------+----------+\n|73939|&lt;p&gt;I&#39;ve got some ...|       1.0|\n|74047|&lt;p&gt;I know that th...|       0.0|\n|74050|&lt;p&gt;I am trying to...|       1.0|\n+-----+--------------------+----------+\nonly showing top 3 rows\n\n</div>",
       "datasetInfos": [
        {
         "name": "better_selected",
         "schema": {
          "fields": [
           {
            "metadata": {},
            "name": "ID",
            "nullable": true,
            "type": "long"
           },
           {
            "metadata": {},
            "name": "body",
            "nullable": true,
            "type": "string"
           },
           {
            "metadata": {
             "ml_attr": {
              "num_vals": 2,
              "type": "nominal"
             }
            },
            "name": "prediction",
            "nullable": false,
            "type": "double"
           }
          ],
          "type": "struct"
         },
         "tableIdentifier": null,
         "typeStr": "pyspark.sql.dataframe.DataFrame"
        }
       ],
       "metadata": {},
       "removedWidgets": [],
       "type": "html"
      }
     },
     "output_type": "display_data"
    }
   ],
   "source": [
    "better_selected = better_prediction.select(\"ID\", \"body\", \"prediction\")\n",
    "better_selected = better_selected.sort(\"ID\")\n",
    "better_selected.show(3)"
   ]
  },
  {
   "cell_type": "markdown",
   "metadata": {
    "application/vnd.databricks.v1+cell": {
     "inputWidgets": {},
     "nuid": "a00e3800-70ce-4ba5-809d-e0fa7a47530c",
     "showTitle": false,
     "title": ""
    }
   },
   "source": [
    "<br/><br/>"
   ]
  },
  {
   "cell_type": "markdown",
   "metadata": {},
   "source": [
    "<font size='4'><b>Final thoughts:</b> Whole approach boils down to two broader tasks: parsing the given XML files followed by applying suitable aggregations. In Word2Vec and classification problems, NLP/ML is also involved. Because data are huge, it is advisable to code for sample files and later scale it up to save time. Further, K-means problem is not solved because it is ungraded. </font> "
   ]
  }
 ],
 "metadata": {
  "application/vnd.databricks.v1+notebook": {
   "dashboards": [],
   "language": "python",
   "notebookMetadata": {
    "experimentId": "2672814831359613",
    "pythonIndentUnit": 2
   },
   "notebookName": "John_Upwork",
   "notebookOrigID": 2672814831359613,
   "widgets": {}
  },
  "kernelspec": {
   "display_name": "Python 3",
   "language": "python",
   "name": "python3"
  },
  "language_info": {
   "codemirror_mode": {
    "name": "ipython",
    "version": 3
   },
   "file_extension": ".py",
   "mimetype": "text/x-python",
   "name": "python",
   "nbconvert_exporter": "python",
   "pygments_lexer": "ipython3",
   "version": "3.8.3"
  }
 },
 "nbformat": 4,
 "nbformat_minor": 1
}
